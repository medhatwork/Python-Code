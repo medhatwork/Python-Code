{
  "nbformat": 4,
  "nbformat_minor": 0,
  "metadata": {
    "colab": {
      "name": "Neural Network-final.ipynb",
      "version": "0.3.2",
      "provenance": [],
      "collapsed_sections": []
    },
    "kernelspec": {
      "name": "python3",
      "display_name": "Python 3"
    },
    "accelerator": "GPU"
  },
  "cells": [
    {
      "metadata": {
        "id": "zZBTntE6KpTH",
        "colab_type": "code",
        "outputId": "8b48ccbd-a23c-4b43-f7c7-4112b9156bff",
        "colab": {
          "base_uri": "https://localhost:8080/",
          "height": 34
        }
      },
      "cell_type": "code",
      "source": [
        "#Presente par Ahmed Mohamed, Sofiene Fehri, Abdessalam Nahnah, Mouard Benchickh\n",
        "\n",
        "import numpy as np\n",
        "from tqdm import *\n",
        "import pandas as pd\n",
        "from sklearn.preprocessing import OneHotEncoder\n",
        "from sklearn.preprocessing import LabelBinarizer\n",
        "\n",
        "import matplotlib.pyplot as plt\n",
        "from sklearn.model_selection import KFold \n",
        "from sklearn.metrics import confusion_matrix, precision_score, recall_score, f1_score, cohen_kappa_score\n",
        "from skimage.feature import hog\n",
        "from sklearn.utils import shuffle\n",
        "import time\n",
        "\n",
        "from google.colab import drive\n",
        "from google.colab import files\n",
        "drive.mount('/content/gdrive')"
      ],
      "execution_count": 1,
      "outputs": [
        {
          "output_type": "stream",
          "text": [
            "Drive already mounted at /content/gdrive; to attempt to forcibly remount, call drive.mount(\"/content/gdrive\", force_remount=True).\n"
          ],
          "name": "stdout"
        }
      ]
    },
    {
      "metadata": {
        "id": "toKpUxD7FKp5",
        "colab_type": "code",
        "colab": {}
      },
      "cell_type": "code",
      "source": [
        "def create_datasets(data, percent):\n",
        "    idx = 1-int(percent * len(data))\n",
        "    return data[:idx], data[idx:]"
      ],
      "execution_count": 0,
      "outputs": []
    },
    {
      "metadata": {
        "id": "_F0u5iOOKiOT",
        "colab_type": "code",
        "colab": {}
      },
      "cell_type": "code",
      "source": [
        "def g_x(func_type, z):\n",
        "    if func_type == 'softmax':\n",
        "        z = np.exp(z-np.max(z)) / np.sum(np.exp(z-np.max(z)), axis=0, keepdims=True)\n",
        "    elif func_type == 'sigmoid':\n",
        "        z = 1/(1+np.exp(-z))\n",
        "\n",
        "    elif func_type == 'relu':\n",
        "        z[z<0] = 0\n",
        "\n",
        "    elif func_type == 'tanh':\n",
        "        z = (np.exp(z)-np.exp(-z))/(np.exp(z)+np.exp(-z))\n",
        "        \n",
        "    return z\n",
        "\n",
        "def gPrime_x(func_type, z):\n",
        "    if func_type == 'softmax':\n",
        "        zPrime = (z @ np.ones((1, len(z)))) * (np.identity(len(z)) - (np.ones((len(z), 1))@ z.T))\n",
        "\n",
        "    elif func_type == 'sigmoid':\n",
        "        zPrime = (1/(1+np.exp(-z)))*(1-(1/(1+np.exp(-z))))\n",
        "\n",
        "    elif func_type == 'relu':\n",
        "        zPrime = np.where(z>0,1,0)\n",
        "        \n",
        "    elif func_type == 'tanh':\n",
        "        zPrime = (1 - np.power(z, 2))\n",
        "    \n",
        "    return zPrime\n",
        "            "
      ],
      "execution_count": 0,
      "outputs": []
    },
    {
      "metadata": {
        "id": "uJk_vsPeJ0Wa",
        "colab_type": "code",
        "colab": {}
      },
      "cell_type": "code",
      "source": [
        "def plot(models):\n",
        "    models = np.array(models)\n",
        "    \n",
        "    if models.any().plot_errors == True:\n",
        "        plot_errors(models)\n",
        "\n",
        "\n",
        "    if models.any().plot_decision == True and models.any().image == False:\n",
        "        plt_dec_boundary(models)\n",
        "    \n",
        "\n",
        "def plot_errors(models):\n",
        "    x_size = int(np.ceil(np.sqrt(len(models))))\n",
        "    y_size = int(np.ceil(np.sqrt(len(models))))\n",
        "    fig, axs = plt.subplots(x_size, y_size, figsize=(10,10), squeeze=False)\n",
        "    fig.suptitle(\"Errors\",  fontweight=\"bold\", fontsize=15)\n",
        "    i,j = 0, 0\n",
        "\n",
        "    for model in models:\n",
        "        if model.plot_errors:\n",
        "            axs[i][j].set_title(model.plot_errors_title, size=10)\n",
        "            axs[i][j].plot(model.train_errors/max(model.train_errors), label=\"Train errors\")\n",
        "            axs[i][j].plot(model.test_errors, label = \"Test errors\")\n",
        "            if model.valid_percent > 0:\n",
        "                 axs[i][j].plot(model.validation_errors/max(model.validation_errors), label = \"Cross validation errors\")\n",
        "            axs[i][j].set_xlabel('Epochs',fontsize = 10)\n",
        "            axs[i][j].set_ylabel('Errors',fontsize = 10)\n",
        "            if (j+1)%y_size == 0:\n",
        "                i+=1\n",
        "                j=0\n",
        "            else : j+=1\n",
        "    handles, labels = axs[0][0].get_legend_handles_labels()\n",
        "    fig.legend(handles, labels, loc='lower right')\n",
        "\n",
        "    plt.show()\n",
        "\n",
        "    \n",
        "def plt_dec_boundary(models):\n",
        "    # Set min and max values and give it some padding\n",
        "    x_size = int(np.ceil(np.sqrt(len(models))))\n",
        "    y_size = int(np.ceil(np.sqrt(len(models))))\n",
        "    fig, axs = plt.subplots(x_size, y_size, constrained_layout=True, figsize=(100,100), squeeze=False)\n",
        "    fig.suptitle(\"Decision boundaries\", fontsize=10)\n",
        "    i,j = 0, 0\n",
        "    for model in models:\n",
        "        if model.plot_decision:\n",
        "            X = model.train_inputs\n",
        "            Y = model.train_labels\n",
        "            x_min, x_max = X[:, 0].min() - 0.25, X[:, 0].max() + 0.25\n",
        "            y_min, y_max = X[:, 1].min() - 0.25, X[:, 1].max() + 0.25\n",
        "            h = 0.01\n",
        "            # Generate a grid of points with distance h between them\n",
        "            xx, yy = np.meshgrid(np.arange(x_min, x_max, h), np.arange(y_min, y_max, h))\n",
        "            # Predict the function value for the whole grid\n",
        "            Z = model.predict(np.c_[xx.ravel(), yy.ravel()])\n",
        "            Z = Z.reshape(xx.shape)\n",
        "            # Plot the contour and training examples\n",
        "            axs[i][j].contourf(xx, yy, Z, cmap=plt.cm.Spectral)\n",
        "            axs[i][j].set_title(model.plot_decision_title, size=6)\n",
        "            axs[i][j].set_xlabel('x1',fontsize = 6)\n",
        "            axs[i][j].set_ylabel('x2',fontsize = 6)\n",
        "            axs[i][j].scatter(X[:, 0], X[:, 1], c=Y, cmap=plt.cm.Spectral)\n",
        "            if (j+1)%y_size == 0:\n",
        "                i+=1\n",
        "                j=0\n",
        "            else : j+=1\n",
        "            \n",
        "\n",
        "    plt.show()"
      ],
      "execution_count": 0,
      "outputs": []
    },
    {
      "metadata": {
        "id": "Fp9yw_iaI5ja",
        "colab_type": "code",
        "colab": {}
      },
      "cell_type": "code",
      "source": [
        "class NeuralNetwork:\n",
        "    def __init__(self, sizes):\n",
        "        np.random.seed(0)\n",
        "\n",
        "        self.sizes      = sizes\n",
        "        self.model      = {}\n",
        "        self.b          = np.array([np.zeros((x, 1))  for x in sizes[1:]])\n",
        "        self.d          = self.sizes[0]  \n",
        "        self.s          = self.sizes[-1]      \n",
        "        self.w          = np.array([(np.random.randn(x, y) / np.sqrt(x)) for x,y in zip(self.sizes[1:],self.sizes[:-1])])\n",
        "        for w in self.w:\n",
        "            w = np.random.uniform(-1/np.sqrt(w.shape[1]), 1/np.sqrt(w.shape[1]),(w.shape[0],w.shape[1]))\n",
        "\n",
        "    def fprop(self,x):\n",
        "        model = {}\n",
        "        for j in range(1,len(self.sizes)):\n",
        "            weight_j = 'W{}'.format(j)  \n",
        "            bias_j = 'b{}'.format(j)\n",
        "            model[weight_j] = self.w[j-1]\n",
        "            model[bias_j] = self.b[j-1]\n",
        "\n",
        "        model['a0'] = x\n",
        "        for i in range(1,len(self.sizes)):\n",
        "           \n",
        "            z = model['W'+str(i)] @ model['a'+str(i-1)] + model['b'+str(i)]\n",
        "            model['z'+str(i)] = z\n",
        "            a = g_x(self.h_act,z) if i < (len(self.sizes)-1) else g_x(self.out_act,z) \n",
        "            model['a'+str(i)] = a\n",
        "       \n",
        "        self.model = model\n",
        "       \n",
        "\n",
        "    def bprop(self,y):\n",
        "        delta_last = self.model['a'+str(len(self.sizes)-1)] - y\n",
        "        self.model['delta'+str(len(self.sizes)-1)] = delta_last\n",
        "                \n",
        "        for j in range(len(self.sizes)-1,0,-1):\n",
        "            a = self.model['a'+str(j-1)]\n",
        "            delta = self.model['delta'+str(j)]\n",
        "            self.model['grad_w'+str(j)] = delta @ a.T \n",
        "            #_lambda *    \n",
        "            self.model['grad_b'+str(j)] = np.sum(delta, axis=1, keepdims=True)\n",
        "            if (j>1):\n",
        "                z = self.model['z'+str(j-1)]\n",
        "                self.model['delta'+str(j-1)] = ((delta.T@self.model['W'+str(j)]).T * (gPrime_x(self.h_act,z))) \n",
        "                + (self.L1_lambda * np.divide(np.array([w for w in self.w]),np.abs(np.array([w for w in self.w]))))\n",
        "                + (self.L2_lambda*np.array([w for w in self.w]))\n",
        "\n",
        "    def train(self, data, epochs, minibatch_size, L1_lambda, L2_lambda, lrate, lrate_decay, h_act, out_act, test, images,\n",
        "              check_grad, vector_minibatch, valid_percent):\n",
        "        \n",
        "        self.minibatch_size    = minibatch_size\n",
        "        self.L1_lambda         = L1_lambda\n",
        "        self.L2_lambda         = L2_lambda\n",
        "        self.lrate             = lrate\n",
        "        self.lrate_decay       = lrate_decay\n",
        "        self.h_act             = h_act\n",
        "        self.out_act           = out_act \n",
        "        self.train_errors      = []\n",
        "        self.check_grad        = check_grad\n",
        "        self.epochs            = epochs\n",
        "        self.test              = test\n",
        "        self.validation_errors = []\n",
        "        self.test_errors       = []\n",
        "        self.valid_percent     = valid_percent\n",
        "            \n",
        "        self.train_inputs = data['train_inputs']\n",
        "        self.train_labels = data['train_labels']\n",
        "        self.test_inputs = data['test_inputs']\n",
        "        self.onehot = self.onehot_encode(np.array(self.train_labels))\n",
        "\n",
        "        try: \n",
        "            self.test_labels = data['test_labels']\n",
        "\n",
        "            self.test_onehot = self.onehot_encode(self.test_labels)\n",
        "        except:\n",
        "            pass\n",
        "\n",
        "        \n",
        "        if images :\n",
        "            self.train_inputs = np.array(self.train_inputs)\n",
        "            sqrt = int(np.sqrt(self.train_inputs.shape[1]))\n",
        "            length = self.train_inputs.shape[0]\n",
        "            self.train_inputs = self.train_inputs.reshape((length,sqrt,sqrt))\n",
        "            self.train_inputs = self.images_preprocessing(self.train_inputs)\n",
        "                \n",
        "\n",
        "            self.test_inputs = np.array(self.test_inputs)\n",
        "            length = self.test_inputs.shape[0]\n",
        "            self.test_inputs = self.test_inputs.reshape((length,sqrt,sqrt))\n",
        "            self.test_inputs = self.images_preprocessing(self.test_inputs)\n",
        "\n",
        "\n",
        "            if self.sizes[0] != self.train_inputs.shape[1]:\n",
        "                self.sizes[0] = self.train_inputs.shape[1]\n",
        "                self.d          = self.sizes[0]  \n",
        "                self.b          = np.array([np.zeros((x, 1))  for x in self.sizes[1:]])\n",
        "                self.w          = np.array([(np.random.randn(x, y) / np.sqrt(x)) for x,y in zip(self.sizes[1:],self.sizes[:-1])])\n",
        "                for w in self.w:\n",
        "                    w = np.random.uniform(-1/np.sqrt(w.shape[1]), 1/np.sqrt(w.shape[1]),(w.shape[0],w.shape[1]))\n",
        "\n",
        "        if valid_percent > 0:\n",
        "            self.cross_validation_and_test()\n",
        "\n",
        "        else : \n",
        "            self.training_type()\n",
        "\n",
        "    def cross_validation_and_test(self):\n",
        "        folds = int(np.floor(1/self.valid_percent))\n",
        "        kf = KFold(n_splits=folds) \n",
        "        kf.get_n_splits(self.train_inputs)\n",
        "        i = 0 \n",
        "        train_inputs = self.train_inputs\n",
        "        train_labels = self.train_labels\n",
        "\n",
        "        for train_index, test_index in kf.split(np.array(self.train_inputs)):\n",
        "            self.train_inputs = train_inputs\n",
        "            self.train_labels = train_labels\n",
        "            train_index = train_index[train_index<len(self.train_inputs)]\n",
        "            test_index = test_index[test_index<len(self.train_inputs)]\n",
        "            try:\n",
        "                self.train_inputs, self.train_labels = self.train_inputs[train_index], self.train_labels[train_index]\n",
        "                self.validation_inputs, self.validation_labels = self.train_inputs[test_index], self.train_labels[test_index]\n",
        "                self.validation_onehot = self.onehot_encode(self.validation_labels)\n",
        "                self.training_type()\n",
        "                tqdm.write(\"\\nFold {0}/{1} complete : \\nCross validation error : {2}\\n\".format(i+1,folds,validation_error))\n",
        "                \n",
        "            except:\n",
        "                continue\n",
        "            i+=1\n",
        "\n",
        "    def training_type(self):\n",
        "\n",
        "        if self.minibatch_size == 0:\n",
        "            self.train_SGD()\n",
        "\n",
        "        elif self.minibatch_size < len(self.train_inputs) and vector_minibatch:\n",
        "            self.train_vector_minibatch()\n",
        "\n",
        "        elif self.minibatch_size < len(self.train_inputs) and not vector_minibatch:\n",
        "            self.train_minibatch()\n",
        "\n",
        "        else : self.train_batch()\n",
        "\n",
        "\n",
        "    def train_SGD(self):\n",
        "\n",
        "\n",
        "        x = self.train_inputs\n",
        "        y = self.onehot\n",
        "\n",
        "        if(type(self.train_errors) != 'list'):\n",
        "            self.train_errors = list(self.train_errors)\n",
        "\n",
        "        tic = time.time()\n",
        "        for j in tqdm(range(self.epochs)):\n",
        "    \n",
        "            self.train_inputs,self.train_labels = shuffle(self.train_inputs, self.train_labels, random_state=0)\n",
        "            total_loss_per_epoch = 0\n",
        "            stopped = False\n",
        "            data_left = 0\n",
        "            L = 0\n",
        "\n",
        "            for i in range(len(x)):\n",
        "                x_i = x[i].reshape(self.d,1)\n",
        "                y_i = y[i].reshape((self.s,1))\n",
        "                self.fprop(x_i)\n",
        "                self.bprop(y_i)\n",
        "                self.update_param()\n",
        "                L += self.loss_function(y_i)\n",
        "            \n",
        "            total_loss_per_epoch += L\n",
        "\n",
        "            self.train_errors.append(total_loss_per_epoch)\n",
        "\n",
        "            tqdm.write(\"Epoch {0} complete : \\nLoss : {:.5f}\\nMean Training Loss : {:.5f}\\n\".format(j,total_loss_per_epoch,\n",
        "                (total_loss_per_epoch/len(x))))\n",
        "\n",
        "            if self.valid_percent > 0 :\n",
        "                evaluation = self.evaluate(self.validation_inputs, self.validation_onehot)\n",
        "                tqdm.write(\"Cross validation score: {0}\\n\".format(evaluation))\n",
        "                self.validation_errors.append(1-evaluation)\n",
        "\n",
        "\n",
        "            if self.test:\n",
        "                evaluation = self.evaluate(self.test_inputs, self.test_onehot)\n",
        "                tqdm.write(\"Test score: {0}\\n\".format(evaluation))\n",
        "                self.test_errors.append((1-evaluation))\n",
        "\n",
        "            if self.lrate_decay and self.lrate > 0: self.lrate *= self.lrate_decay\n",
        "            \n",
        "            \n",
        "        toc = time.time()\n",
        "\n",
        "        print(\"\\nTime taken for non vectorial mini batch :\", str(toc - tic))\n",
        "\n",
        "        if self.check_grad :\n",
        "            self.verif_gradient(x,y)\n",
        "        \n",
        "\n",
        "    def train_minibatch(self,validation):\n",
        "\n",
        "        x = self.train_inputs\n",
        "        y = self.onehot\n",
        "\n",
        "        total_loss_per_epoch = 0\n",
        "        stopped = False\n",
        "        data_left = 0\n",
        "        if(type(self.train_errors) != 'list'):\n",
        "            self.train_errors = list(self.train_errors)\n",
        "\n",
        "        tic = time.time()\n",
        "\n",
        "        for j in tqdm(range(self.epochs)):\n",
        "\n",
        "            L = 0\n",
        "            self.train_inputs,self.train_labels = shuffle(self.train_inputs, self.train_labels, random_state=0)\n",
        "\n",
        "            for i in range(0, self.train_inputs.shape[0] -data_left, self.minibatch_size):\n",
        "                x_minibatch = self.train_inputs[i:i+ self.minibatch_size]\n",
        "                y_minibatch = self.onehot[i:i+ self.minibatch_size]\n",
        "                data_left = len(self.train_inputs)%self.minibatch_size\n",
        "\n",
        "                if data_left == 0:\n",
        "                    stopped = True\n",
        "\n",
        "                for i in range(len(x)):\n",
        "                    x_i = x[i].reshape(self.d,1)\n",
        "                    y_i = y[i].reshape((self.s,1))\n",
        "                    self.fprop(x_i)\n",
        "                    self.bprop(y_i)\n",
        "                    self.update_param()\n",
        "                    L += self.loss_function(y_i)\n",
        "\n",
        "            \n",
        "            total_loss_per_epoch = L\n",
        "            self.train_errors.append(total_loss_per_epoch)\n",
        "\n",
        "            tqdm.write(\"Epoch {0} complete : \\nLoss : {:.5f}\\nMean Training Loss : {:.5f}\".format(j,total_loss_per_epoch,\n",
        "                (total_loss_per_epoch/len(x))))\n",
        "\n",
        "            if self.test:\n",
        "                test_errors, evaluation = self.evaluate(self.test_inputs, self.test_onehot)\n",
        "                tqdm.write(\"Test score: {:.5f}  \".format(evaluation))\n",
        "                self.test_errors.append(1-evaluation)\n",
        "\n",
        "            if self.lrate_decay and self.lrate > 0: self.lrate *= self.lrate_decay\n",
        "        \n",
        "        toc = time.time()\n",
        "\n",
        "        print(\"\\nTime taken for non vectorial mini batch :\", str(toc - tic))\n",
        "\n",
        "        if self.check_grad :\n",
        "            self.verif_gradient(x,y)\n",
        "\n",
        "      \n",
        "    def onehot_encode(self,y):\n",
        "      lb = LabelBinarizer()\n",
        "      y = lb.fit_transform(y)     \n",
        "      return y\n",
        "\n",
        "    def verif_gradient(self,x,y,epsilon= 10**-5):\n",
        "        for i in range(len(x)):\n",
        "            x_i = x[i].reshape((self.d,1))\n",
        "            y_i = y[i].reshape((self.s,1))\n",
        "            self.fprop(x_i)\n",
        "            L = self.loss_function(y_i)\n",
        "            self.bprop(y_i)\n",
        "            gradients_w = [self.model['grad_w'+str(i+1)] for i in range(len(self.w))]\n",
        "            gradients_b = [self.model['grad_b'+str(i+1)] for i in range(len(self.w))]\n",
        "            ratio_w = []\n",
        "            ratio_b = []\n",
        "            for k,matrix_weight in enumerate (self.w):\n",
        "                shape = matrix_weight.shape\n",
        "                for i in range(shape[0]):\n",
        "                    for j in range(shape[1]):\n",
        "                        matrix_weight[i][j] -= epsilon                    \n",
        "                        self.fprop(x_i)\n",
        "                        L2 = self.loss_function(y_i)\n",
        "                        estimated_gradient = (L-L2)/epsilon\n",
        "                        matrix_weight[i][j] += epsilon\n",
        "                        ratio_w.append(np.float64((estimated_gradient+epsilon)/(gradients_w[k][i][j]+epsilon)))   \n",
        "\n",
        "       \n",
        "        print(ratio_w)\n",
        "\n",
        "    def update_param(self):\n",
        "        for i in range(len(self.w)-1,-1,-1):\n",
        "             self.w[i] -= self.lrate * self.model['grad_w'+str(i+1)]\n",
        "             self.b[i] -= self.lrate * self.model['grad_b'+str(i+1)]\n",
        "\n",
        "    def loss_function(self,y):\n",
        "        p = self.model['a'+str(len(self.sizes)-1)]\n",
        "        x = np.sum(p*y, axis = 0)\n",
        "        return (((-np.log(x+10**-5)) + 0.5 *self.L1_lambda * np.abs(self.w)) + 0.5*self.L2_lambda*(self.w**2))[0][0][0]\n",
        "\n",
        "    def evaluate(self, test_data, test_labels, func_type='sgd'):\n",
        "        activations = []\n",
        "        test_results = []\n",
        "\n",
        "        # test_data,test_labels = shuffle(test_data,test_labels, random_state=1)\n",
        "\n",
        "        for i in range(len(test_data)):\n",
        "            if func_type == 'sgd':\n",
        "                self.fprop(np.array([test_data[i]]).T)\n",
        "                test_results.append(((np.argmax(np.sum(self.model['a'+str(len(self.sizes)-1)],axis=1)))\n",
        "                                     == np.argmax(test_labels[i])))\n",
        "\n",
        "            else :\n",
        "                self.fprop(np.array(test_data.T))\n",
        "                test_results.append(((np.argmax(np.sum(self.model['a'+str(len(self.sizes)-1)],axis=1)))\n",
        "                                     == np.argmax(test_labels)))\n",
        "            \n",
        "        return (np.sum(np.array(test_results)*1))/len(test_labels)\n",
        "\n",
        "    def predict(self, test_inputs):\n",
        "        test_results = []\n",
        "        for i in range(len(test_inputs)):\n",
        "            self.fprop(np.array([test_inputs[i]]).T)\n",
        "            test_results.append(np.max((np.sum(self.model['a'+str(len(self.sizes)-1)],axis=1))))\n",
        "        test_results = np.array(test_results)\n",
        "\n",
        "        return test_results.reshape((len(test_results),1))\n",
        "\n",
        "    def images_preprocessing(self,images):\n",
        "        list_hog_fd = []\n",
        "        for feature in tqdm(images):\n",
        "                fd = hog(feature, orientations=4, pixels_per_cell=(50, 50), cells_per_block=(1, 1))\n",
        "                list_hog_fd.append(fd)\n",
        "        return np.array(list_hog_fd, 'float64')\n",
        "\n",
        "    def figures_plot(self,plot_type,title):\n",
        "        if 'error' in plot_type:\n",
        "            self.plot_errors = True\n",
        "            self.plot_errors_title = title\n",
        "\n",
        "        elif 'decision' in plot_type:\n",
        "            self.plot_decision = True\n",
        "            self.plot_decision_title = title\n",
        "\n",
        "    "
      ],
      "execution_count": 0,
      "outputs": []
    },
    {
      "metadata": {
        "id": "_z1hrtiq_KBO",
        "colab_type": "code",
        "colab": {}
      },
      "cell_type": "code",
      "source": [
        "def load_images(path,test_percent,valid_percent,mnist = False,kaggle = True) :\n",
        "  train = np.load(path+\"train_images.npy\", encoding = 'bytes')\n",
        "  # test = np.load(path+\"test_images.npy\", encoding = 'bytes')\n",
        "  train_inputs = np.array(list([x for x in train[:,1]]))\n",
        "  # test_inputs  = np.array(list([x for x in test[:,1]]))\n",
        "  train_inputs,test_inputs = create_datasets(train_inputs,test_percent)\n",
        "  train_labels = pd.read_csv(path+\"train_labels.csv\")\n",
        "  train_labels = train_labels['Category']\n",
        "  train_labels,test_labels = create_datasets(train_labels,test_percent)\n",
        "\n",
        "  datasets = {'train_inputs':train_inputs,'train_labels':train_labels,\n",
        "          'test_inputs':test_inputs,'test_labels':test_labels}\n",
        "  return datasets"
      ],
      "execution_count": 0,
      "outputs": []
    },
    {
      "metadata": {
        "id": "YVzzkdqbJAMd",
        "colab_type": "code",
        "outputId": "3d8d23d8-aa4b-438b-e5d5-458549c163bf",
        "colab": {
          "base_uri": "https://localhost:8080/",
          "height": 19281
        }
      },
      "cell_type": "code",
      "source": [
        "valid_percent = 0\n",
        "images = True\n",
        "mnist = False\n",
        "kaggle = False\n",
        "csv = False\n",
        "lambda1 = 0\n",
        "lambda2 = 0\n",
        "h_act = 'relu'\n",
        "out_act = 'softmax'\n",
        "test = True\n",
        "minibatch_size = 0\n",
        "valid_percent = 0\n",
        "lrate_decay = 0\n",
        "check_grad = False\n",
        "vector_minibatch = False\n",
        "test_plot_boundaries = False\n",
        "sizes = [10000,450,31]\n",
        "epochs = 200\n",
        "lrate  = 0.01\n",
        "test_percent = 0.25\n",
        "path = \"/content/gdrive/My Drive/notebooks/\"\n",
        "\n",
        "data = load_images(path,test_percent,valid_percent,mnist = False,kaggle = True) \n",
        "model = NeuralNetwork(sizes)\n",
        "\n",
        "model.train(data, epochs , minibatch_size, lambda1, lambda2, lrate, lrate_decay, h_act, out_act , test, \n",
        "                  images,check_grad, vector_minibatch,valid_percent)"
      ],
      "execution_count": 0,
      "outputs": [
        {
          "output_type": "stream",
          "text": [
            "  0%|          | 0/7501 [00:00<?, ?it/s]/usr/local/lib/python3.6/dist-packages/skimage/feature/_hog.py:119: skimage_deprecation: Default value of `block_norm`==`L1` is deprecated and will be changed to `L2-Hys` in v0.15\n",
            "  'be changed to `L2-Hys` in v0.15', skimage_deprecation)\n",
            "100%|██████████| 7501/7501 [00:11<00:00, 672.83it/s]\n",
            "100%|██████████| 2499/2499 [00:03<00:00, 672.18it/s]\n",
            "  0%|          | 0/200 [00:07<?, ?it/s]"
          ],
          "name": "stderr"
        },
        {
          "output_type": "stream",
          "text": [
            "Epoch 0 complete : \n",
            "Loss : 25413.934516965557\n",
            "Mean Training Loss : 3.388072859214179\n",
            "\n"
          ],
          "name": "stdout"
        },
        {
          "output_type": "stream",
          "text": [
            "  0%|          | 1/200 [00:07<25:56,  7.82s/it]"
          ],
          "name": "stderr"
        },
        {
          "output_type": "stream",
          "text": [
            "Test score: 0.04721888755502201\n",
            "\n"
          ],
          "name": "stdout"
        },
        {
          "output_type": "stream",
          "text": [
            "  0%|          | 1/200 [00:15<25:56,  7.82s/it]"
          ],
          "name": "stderr"
        },
        {
          "output_type": "stream",
          "text": [
            "Epoch 1 complete : \n",
            "Loss : 25373.799923412756\n",
            "Mean Training Loss : 3.38272229348257\n",
            "\n"
          ],
          "name": "stdout"
        },
        {
          "output_type": "stream",
          "text": [
            "  1%|          | 2/200 [00:15<25:51,  7.84s/it]"
          ],
          "name": "stderr"
        },
        {
          "output_type": "stream",
          "text": [
            "Test score: 0.04721888755502201\n",
            "\n"
          ],
          "name": "stdout"
        },
        {
          "output_type": "stream",
          "text": [
            "  1%|          | 2/200 [00:23<25:51,  7.84s/it]"
          ],
          "name": "stderr"
        },
        {
          "output_type": "stream",
          "text": [
            "Epoch 2 complete : \n",
            "Loss : 25353.500724303158\n",
            "Mean Training Loss : 3.380016094427831\n",
            "\n"
          ],
          "name": "stdout"
        },
        {
          "output_type": "stream",
          "text": [
            "  2%|▏         | 3/200 [00:23<25:46,  7.85s/it]"
          ],
          "name": "stderr"
        },
        {
          "output_type": "stream",
          "text": [
            "Test score: 0.04721888755502201\n",
            "\n"
          ],
          "name": "stdout"
        },
        {
          "output_type": "stream",
          "text": [
            "  2%|▏         | 3/200 [00:31<25:46,  7.85s/it]"
          ],
          "name": "stderr"
        },
        {
          "output_type": "stream",
          "text": [
            "Epoch 3 complete : \n",
            "Loss : 25336.69805318568\n",
            "Mean Training Loss : 3.3777760369531635\n",
            "\n"
          ],
          "name": "stdout"
        },
        {
          "output_type": "stream",
          "text": [
            "  2%|▏         | 4/200 [00:31<25:38,  7.85s/it]"
          ],
          "name": "stderr"
        },
        {
          "output_type": "stream",
          "text": [
            "Test score: 0.04801920768307323\n",
            "\n"
          ],
          "name": "stdout"
        },
        {
          "output_type": "stream",
          "text": [
            "  2%|▏         | 4/200 [00:38<25:38,  7.85s/it]"
          ],
          "name": "stderr"
        },
        {
          "output_type": "stream",
          "text": [
            "Epoch 4 complete : \n",
            "Loss : 25313.49642972046\n",
            "Mean Training Loss : 3.374682899576118\n",
            "\n"
          ],
          "name": "stdout"
        },
        {
          "output_type": "stream",
          "text": [
            "  2%|▎         | 5/200 [00:39<25:32,  7.86s/it]"
          ],
          "name": "stderr"
        },
        {
          "output_type": "stream",
          "text": [
            "Test score: 0.05042016806722689\n",
            "\n"
          ],
          "name": "stdout"
        },
        {
          "output_type": "stream",
          "text": [
            "  2%|▎         | 5/200 [00:46<25:32,  7.86s/it]"
          ],
          "name": "stderr"
        },
        {
          "output_type": "stream",
          "text": [
            "Epoch 5 complete : \n",
            "Loss : 25289.45571377532\n",
            "Mean Training Loss : 3.371477898116961\n",
            "\n"
          ],
          "name": "stdout"
        },
        {
          "output_type": "stream",
          "text": [
            "  3%|▎         | 6/200 [00:47<25:26,  7.87s/it]"
          ],
          "name": "stderr"
        },
        {
          "output_type": "stream",
          "text": [
            "Test score: 0.06522609043617447\n",
            "\n"
          ],
          "name": "stdout"
        },
        {
          "output_type": "stream",
          "text": [
            "  3%|▎         | 6/200 [00:54<25:26,  7.87s/it]"
          ],
          "name": "stderr"
        },
        {
          "output_type": "stream",
          "text": [
            "Epoch 6 complete : \n",
            "Loss : 25257.228020113344\n",
            "Mean Training Loss : 3.3671814451557585\n",
            "\n"
          ],
          "name": "stdout"
        },
        {
          "output_type": "stream",
          "text": [
            "  4%|▎         | 7/200 [00:55<25:26,  7.91s/it]"
          ],
          "name": "stderr"
        },
        {
          "output_type": "stream",
          "text": [
            "Test score: 0.07242897158863545\n",
            "\n"
          ],
          "name": "stdout"
        },
        {
          "output_type": "stream",
          "text": [
            "  4%|▎         | 7/200 [01:02<25:26,  7.91s/it]"
          ],
          "name": "stderr"
        },
        {
          "output_type": "stream",
          "text": [
            "Epoch 7 complete : \n",
            "Loss : 25218.558110750288\n",
            "Mean Training Loss : 3.3620261446140898\n",
            "\n"
          ],
          "name": "stdout"
        },
        {
          "output_type": "stream",
          "text": [
            "  4%|▍         | 8/200 [01:03<25:20,  7.92s/it]"
          ],
          "name": "stderr"
        },
        {
          "output_type": "stream",
          "text": [
            "Test score: 0.07963185274109644\n",
            "\n"
          ],
          "name": "stdout"
        },
        {
          "output_type": "stream",
          "text": [
            "  4%|▍         | 8/200 [01:10<25:20,  7.92s/it]"
          ],
          "name": "stderr"
        },
        {
          "output_type": "stream",
          "text": [
            "Epoch 8 complete : \n",
            "Loss : 25169.070179547532\n",
            "Mean Training Loss : 3.3554286334552104\n",
            "\n"
          ],
          "name": "stdout"
        },
        {
          "output_type": "stream",
          "text": [
            "  4%|▍         | 9/200 [01:11<25:14,  7.93s/it]"
          ],
          "name": "stderr"
        },
        {
          "output_type": "stream",
          "text": [
            "Test score: 0.08563425370148059\n",
            "\n"
          ],
          "name": "stdout"
        },
        {
          "output_type": "stream",
          "text": [
            "  4%|▍         | 9/200 [01:18<25:14,  7.93s/it]"
          ],
          "name": "stderr"
        },
        {
          "output_type": "stream",
          "text": [
            "Epoch 9 complete : \n",
            "Loss : 25110.768388236098\n",
            "Mean Training Loss : 3.3476560976184637\n",
            "\n"
          ],
          "name": "stdout"
        },
        {
          "output_type": "stream",
          "text": [
            "  5%|▌         | 10/200 [01:19<25:11,  7.96s/it]"
          ],
          "name": "stderr"
        },
        {
          "output_type": "stream",
          "text": [
            "Test score: 0.08043217286914765\n",
            "\n"
          ],
          "name": "stdout"
        },
        {
          "output_type": "stream",
          "text": [
            "  5%|▌         | 10/200 [01:26<25:11,  7.96s/it]"
          ],
          "name": "stderr"
        },
        {
          "output_type": "stream",
          "text": [
            "Epoch 10 complete : \n",
            "Loss : 25042.070098624088\n",
            "Mean Training Loss : 3.3384975468103035\n",
            "\n"
          ],
          "name": "stdout"
        },
        {
          "output_type": "stream",
          "text": [
            "  6%|▌         | 11/200 [01:27<25:04,  7.96s/it]"
          ],
          "name": "stderr"
        },
        {
          "output_type": "stream",
          "text": [
            "Test score: 0.07523009203681473\n",
            "\n"
          ],
          "name": "stdout"
        },
        {
          "output_type": "stream",
          "text": [
            "  6%|▌         | 11/200 [01:34<25:04,  7.96s/it]"
          ],
          "name": "stderr"
        },
        {
          "output_type": "stream",
          "text": [
            "Epoch 11 complete : \n",
            "Loss : 24965.602020126855\n",
            "Mean Training Loss : 3.3283031622619457\n",
            "\n"
          ],
          "name": "stdout"
        },
        {
          "output_type": "stream",
          "text": [
            "  6%|▌         | 12/200 [01:35<25:01,  7.99s/it]"
          ],
          "name": "stderr"
        },
        {
          "output_type": "stream",
          "text": [
            "Test score: 0.07523009203681473\n",
            "\n"
          ],
          "name": "stdout"
        },
        {
          "output_type": "stream",
          "text": [
            "  6%|▌         | 12/200 [01:43<25:01,  7.99s/it]"
          ],
          "name": "stderr"
        },
        {
          "output_type": "stream",
          "text": [
            "Epoch 12 complete : \n",
            "Loss : 24883.402668637482\n",
            "Mean Training Loss : 3.3173447098570166\n",
            "\n"
          ],
          "name": "stdout"
        },
        {
          "output_type": "stream",
          "text": [
            "  6%|▋         | 13/200 [01:43<25:22,  8.14s/it]"
          ],
          "name": "stderr"
        },
        {
          "output_type": "stream",
          "text": [
            "Test score: 0.07643057222889156\n",
            "\n"
          ],
          "name": "stdout"
        },
        {
          "output_type": "stream",
          "text": [
            "  6%|▋         | 13/200 [01:51<25:22,  8.14s/it]"
          ],
          "name": "stderr"
        },
        {
          "output_type": "stream",
          "text": [
            "Epoch 13 complete : \n",
            "Loss : 24802.55695837592\n",
            "Mean Training Loss : 3.3065667188876042\n",
            "\n"
          ],
          "name": "stdout"
        },
        {
          "output_type": "stream",
          "text": [
            "  7%|▋         | 14/200 [01:51<25:09,  8.12s/it]"
          ],
          "name": "stderr"
        },
        {
          "output_type": "stream",
          "text": [
            "Test score: 0.07803121248499399\n",
            "\n"
          ],
          "name": "stdout"
        },
        {
          "output_type": "stream",
          "text": [
            "  7%|▋         | 14/200 [01:59<25:09,  8.12s/it]"
          ],
          "name": "stderr"
        },
        {
          "output_type": "stream",
          "text": [
            "Epoch 14 complete : \n",
            "Loss : 24725.06127750871\n",
            "Mean Training Loss : 3.296235338955967\n",
            "\n"
          ],
          "name": "stdout"
        },
        {
          "output_type": "stream",
          "text": [
            "  8%|▊         | 15/200 [01:59<24:53,  8.07s/it]"
          ],
          "name": "stderr"
        },
        {
          "output_type": "stream",
          "text": [
            "Test score: 0.07763105242096839\n",
            "\n"
          ],
          "name": "stdout"
        },
        {
          "output_type": "stream",
          "text": [
            "  8%|▊         | 15/200 [02:07<24:53,  8.07s/it]"
          ],
          "name": "stderr"
        },
        {
          "output_type": "stream",
          "text": [
            "Epoch 15 complete : \n",
            "Loss : 24654.091771951254\n",
            "Mean Training Loss : 3.2867739997268703\n",
            "\n"
          ],
          "name": "stdout"
        },
        {
          "output_type": "stream",
          "text": [
            "  8%|▊         | 16/200 [02:07<24:38,  8.04s/it]"
          ],
          "name": "stderr"
        },
        {
          "output_type": "stream",
          "text": [
            "Test score: 0.07723089235694278\n",
            "\n"
          ],
          "name": "stdout"
        },
        {
          "output_type": "stream",
          "text": [
            "  8%|▊         | 16/200 [02:15<24:38,  8.04s/it]"
          ],
          "name": "stderr"
        },
        {
          "output_type": "stream",
          "text": [
            "Epoch 16 complete : \n",
            "Loss : 24590.841436804152\n",
            "Mean Training Loss : 3.2783417460077526\n",
            "\n"
          ],
          "name": "stdout"
        },
        {
          "output_type": "stream",
          "text": [
            "  8%|▊         | 17/200 [02:15<24:31,  8.04s/it]"
          ],
          "name": "stderr"
        },
        {
          "output_type": "stream",
          "text": [
            "Test score: 0.07763105242096839\n",
            "\n"
          ],
          "name": "stdout"
        },
        {
          "output_type": "stream",
          "text": [
            "  8%|▊         | 17/200 [02:23<24:31,  8.04s/it]"
          ],
          "name": "stderr"
        },
        {
          "output_type": "stream",
          "text": [
            "Epoch 17 complete : \n",
            "Loss : 24532.244394093752\n",
            "Mean Training Loss : 3.270529848566025\n",
            "\n"
          ],
          "name": "stdout"
        },
        {
          "output_type": "stream",
          "text": [
            "  9%|▉         | 18/200 [02:23<24:25,  8.05s/it]"
          ],
          "name": "stderr"
        },
        {
          "output_type": "stream",
          "text": [
            "Test score: 0.08283313325330131\n",
            "\n"
          ],
          "name": "stdout"
        },
        {
          "output_type": "stream",
          "text": [
            "  9%|▉         | 18/200 [02:31<24:25,  8.05s/it]"
          ],
          "name": "stderr"
        },
        {
          "output_type": "stream",
          "text": [
            "Epoch 18 complete : \n",
            "Loss : 24480.860201465897\n",
            "Mean Training Loss : 3.2636795362572855\n",
            "\n"
          ],
          "name": "stdout"
        },
        {
          "output_type": "stream",
          "text": [
            " 10%|▉         | 19/200 [02:31<24:17,  8.05s/it]"
          ],
          "name": "stderr"
        },
        {
          "output_type": "stream",
          "text": [
            "Test score: 0.0820328131252501\n",
            "\n"
          ],
          "name": "stdout"
        },
        {
          "output_type": "stream",
          "text": [
            " 10%|▉         | 19/200 [02:39<24:17,  8.05s/it]"
          ],
          "name": "stderr"
        },
        {
          "output_type": "stream",
          "text": [
            "Epoch 19 complete : \n",
            "Loss : 24434.21519961688\n",
            "Mean Training Loss : 3.2574610318113426\n",
            "\n"
          ],
          "name": "stdout"
        },
        {
          "output_type": "stream",
          "text": [
            " 10%|█         | 20/200 [02:39<24:08,  8.05s/it]"
          ],
          "name": "stderr"
        },
        {
          "output_type": "stream",
          "text": [
            "Test score: 0.08483393357342937\n",
            "\n"
          ],
          "name": "stdout"
        },
        {
          "output_type": "stream",
          "text": [
            " 10%|█         | 20/200 [02:47<24:08,  8.05s/it]"
          ],
          "name": "stderr"
        },
        {
          "output_type": "stream",
          "text": [
            "Epoch 20 complete : \n",
            "Loss : 24391.31675602407\n",
            "Mean Training Loss : 3.251742001869627\n",
            "\n"
          ],
          "name": "stdout"
        },
        {
          "output_type": "stream",
          "text": [
            " 10%|█         | 21/200 [02:47<23:57,  8.03s/it]"
          ],
          "name": "stderr"
        },
        {
          "output_type": "stream",
          "text": [
            "Test score: 0.08563425370148059\n",
            "\n"
          ],
          "name": "stdout"
        },
        {
          "output_type": "stream",
          "text": [
            " 10%|█         | 21/200 [02:55<23:57,  8.03s/it]"
          ],
          "name": "stderr"
        },
        {
          "output_type": "stream",
          "text": [
            "Epoch 21 complete : \n",
            "Loss : 24351.57179168761\n",
            "Mean Training Loss : 3.246443379774378\n",
            "\n"
          ],
          "name": "stdout"
        },
        {
          "output_type": "stream",
          "text": [
            " 11%|█         | 22/200 [02:56<24:07,  8.13s/it]"
          ],
          "name": "stderr"
        },
        {
          "output_type": "stream",
          "text": [
            "Test score: 0.08763505402160865\n",
            "\n"
          ],
          "name": "stdout"
        },
        {
          "output_type": "stream",
          "text": [
            " 11%|█         | 22/200 [03:04<24:07,  8.13s/it]"
          ],
          "name": "stderr"
        },
        {
          "output_type": "stream",
          "text": [
            "Epoch 22 complete : \n",
            "Loss : 24314.101328149914\n",
            "Mean Training Loss : 3.241447984022119\n",
            "\n"
          ],
          "name": "stdout"
        },
        {
          "output_type": "stream",
          "text": [
            " 12%|█▏        | 23/200 [03:04<24:32,  8.32s/it]"
          ],
          "name": "stderr"
        },
        {
          "output_type": "stream",
          "text": [
            "Test score: 0.0896358543417367\n",
            "\n"
          ],
          "name": "stdout"
        },
        {
          "output_type": "stream",
          "text": [
            " 12%|█▏        | 23/200 [03:12<24:32,  8.32s/it]"
          ],
          "name": "stderr"
        },
        {
          "output_type": "stream",
          "text": [
            "Epoch 23 complete : \n",
            "Loss : 24278.364178786236\n",
            "Mean Training Loss : 3.236683666016029\n",
            "\n"
          ],
          "name": "stdout"
        },
        {
          "output_type": "stream",
          "text": [
            " 12%|█▏        | 24/200 [03:12<24:04,  8.20s/it]"
          ],
          "name": "stderr"
        },
        {
          "output_type": "stream",
          "text": [
            "Test score: 0.09123649459783914\n",
            "\n"
          ],
          "name": "stdout"
        },
        {
          "output_type": "stream",
          "text": [
            " 12%|█▏        | 24/200 [03:20<24:04,  8.20s/it]"
          ],
          "name": "stderr"
        },
        {
          "output_type": "stream",
          "text": [
            "Epoch 24 complete : \n",
            "Loss : 24247.52791727085\n",
            "Mean Training Loss : 3.232572712607766\n",
            "\n"
          ],
          "name": "stdout"
        },
        {
          "output_type": "stream",
          "text": [
            " 12%|█▎        | 25/200 [03:20<23:42,  8.13s/it]"
          ],
          "name": "stderr"
        },
        {
          "output_type": "stream",
          "text": [
            "Test score: 0.09283713485394157\n",
            "\n"
          ],
          "name": "stdout"
        },
        {
          "output_type": "stream",
          "text": [
            " 12%|█▎        | 25/200 [03:28<23:42,  8.13s/it]"
          ],
          "name": "stderr"
        },
        {
          "output_type": "stream",
          "text": [
            "Epoch 25 complete : \n",
            "Loss : 24218.023872344962\n",
            "Mean Training Loss : 3.2286393643974085\n",
            "\n"
          ],
          "name": "stdout"
        },
        {
          "output_type": "stream",
          "text": [
            " 13%|█▎        | 26/200 [03:28<23:28,  8.09s/it]"
          ],
          "name": "stderr"
        },
        {
          "output_type": "stream",
          "text": [
            "Test score: 0.09323729491796719\n",
            "\n"
          ],
          "name": "stdout"
        },
        {
          "output_type": "stream",
          "text": [
            " 13%|█▎        | 26/200 [03:36<23:28,  8.09s/it]"
          ],
          "name": "stderr"
        },
        {
          "output_type": "stream",
          "text": [
            "Epoch 26 complete : \n",
            "Loss : 24191.777786387353\n",
            "Mean Training Loss : 3.2251403528046065\n",
            "\n"
          ],
          "name": "stdout"
        },
        {
          "output_type": "stream",
          "text": [
            " 14%|█▎        | 27/200 [03:36<23:16,  8.07s/it]"
          ],
          "name": "stderr"
        },
        {
          "output_type": "stream",
          "text": [
            "Test score: 0.0936374549819928\n",
            "\n"
          ],
          "name": "stdout"
        },
        {
          "output_type": "stream",
          "text": [
            " 14%|█▎        | 27/200 [03:44<23:16,  8.07s/it]"
          ],
          "name": "stderr"
        },
        {
          "output_type": "stream",
          "text": [
            "Epoch 27 complete : \n",
            "Loss : 24166.621454722204\n",
            "Mean Training Loss : 3.2217866224133056\n",
            "\n"
          ],
          "name": "stdout"
        },
        {
          "output_type": "stream",
          "text": [
            " 14%|█▍        | 28/200 [03:44<23:09,  8.08s/it]"
          ],
          "name": "stderr"
        },
        {
          "output_type": "stream",
          "text": [
            "Test score: 0.09283713485394157\n",
            "\n"
          ],
          "name": "stdout"
        },
        {
          "output_type": "stream",
          "text": [
            " 14%|█▍        | 28/200 [03:52<23:09,  8.08s/it]"
          ],
          "name": "stderr"
        },
        {
          "output_type": "stream",
          "text": [
            "Epoch 28 complete : \n",
            "Loss : 24145.410473041924\n",
            "Mean Training Loss : 3.218958868556449\n",
            "\n"
          ],
          "name": "stdout"
        },
        {
          "output_type": "stream",
          "text": [
            " 14%|█▍        | 29/200 [03:53<23:06,  8.11s/it]"
          ],
          "name": "stderr"
        },
        {
          "output_type": "stream",
          "text": [
            "Test score: 0.09443777511004402\n",
            "\n"
          ],
          "name": "stdout"
        },
        {
          "output_type": "stream",
          "text": [
            " 14%|█▍        | 29/200 [04:00<23:06,  8.11s/it]"
          ],
          "name": "stderr"
        },
        {
          "output_type": "stream",
          "text": [
            "Epoch 29 complete : \n",
            "Loss : 24125.6792940506\n",
            "Mean Training Loss : 3.2163283954206903\n",
            "\n"
          ],
          "name": "stdout"
        },
        {
          "output_type": "stream",
          "text": [
            " 15%|█▌        | 30/200 [04:01<22:55,  8.09s/it]"
          ],
          "name": "stderr"
        },
        {
          "output_type": "stream",
          "text": [
            "Test score: 0.0940376150460184\n",
            "\n"
          ],
          "name": "stdout"
        },
        {
          "output_type": "stream",
          "text": [
            " 15%|█▌        | 30/200 [04:08<22:55,  8.09s/it]"
          ],
          "name": "stderr"
        },
        {
          "output_type": "stream",
          "text": [
            "Epoch 30 complete : \n",
            "Loss : 24107.219325086437\n",
            "Mean Training Loss : 3.2138673943589438\n",
            "\n"
          ],
          "name": "stdout"
        },
        {
          "output_type": "stream",
          "text": [
            " 16%|█▌        | 31/200 [04:09<22:44,  8.07s/it]"
          ],
          "name": "stderr"
        },
        {
          "output_type": "stream",
          "text": [
            "Test score: 0.0936374549819928\n",
            "\n"
          ],
          "name": "stdout"
        },
        {
          "output_type": "stream",
          "text": [
            " 16%|█▌        | 31/200 [04:16<22:44,  8.07s/it]"
          ],
          "name": "stderr"
        },
        {
          "output_type": "stream",
          "text": [
            "Epoch 31 complete : \n",
            "Loss : 24090.799367608375\n",
            "Mean Training Loss : 3.2116783585666413\n",
            "\n"
          ],
          "name": "stdout"
        },
        {
          "output_type": "stream",
          "text": [
            " 16%|█▌        | 32/200 [04:17<22:34,  8.06s/it]"
          ],
          "name": "stderr"
        },
        {
          "output_type": "stream",
          "text": [
            "Test score: 0.09283713485394157\n",
            "\n"
          ],
          "name": "stdout"
        },
        {
          "output_type": "stream",
          "text": [
            " 16%|█▌        | 32/200 [04:24<22:34,  8.06s/it]"
          ],
          "name": "stderr"
        },
        {
          "output_type": "stream",
          "text": [
            "Epoch 32 complete : \n",
            "Loss : 24074.525404172746\n",
            "Mean Training Loss : 3.2095087860515594\n",
            "\n"
          ],
          "name": "stdout"
        },
        {
          "output_type": "stream",
          "text": [
            " 16%|█▋        | 33/200 [04:25<22:29,  8.08s/it]"
          ],
          "name": "stderr"
        },
        {
          "output_type": "stream",
          "text": [
            "Test score: 0.09323729491796719\n",
            "\n"
          ],
          "name": "stdout"
        },
        {
          "output_type": "stream",
          "text": [
            " 16%|█▋        | 33/200 [04:33<22:29,  8.08s/it]"
          ],
          "name": "stderr"
        },
        {
          "output_type": "stream",
          "text": [
            "Epoch 33 complete : \n",
            "Loss : 24059.554724336165\n",
            "Mean Training Loss : 3.20751296151662\n",
            "\n"
          ],
          "name": "stdout"
        },
        {
          "output_type": "stream",
          "text": [
            " 17%|█▋        | 34/200 [04:33<22:18,  8.06s/it]"
          ],
          "name": "stderr"
        },
        {
          "output_type": "stream",
          "text": [
            "Test score: 0.0940376150460184\n",
            "\n"
          ],
          "name": "stdout"
        },
        {
          "output_type": "stream",
          "text": [
            " 17%|█▋        | 34/200 [04:41<22:18,  8.06s/it]"
          ],
          "name": "stderr"
        },
        {
          "output_type": "stream",
          "text": [
            "Epoch 34 complete : \n",
            "Loss : 24044.390266360573\n",
            "Mean Training Loss : 3.205491303340964\n",
            "\n"
          ],
          "name": "stdout"
        },
        {
          "output_type": "stream",
          "text": [
            " 18%|█▊        | 35/200 [04:41<22:09,  8.06s/it]"
          ],
          "name": "stderr"
        },
        {
          "output_type": "stream",
          "text": [
            "Test score: 0.09323729491796719\n",
            "\n"
          ],
          "name": "stdout"
        },
        {
          "output_type": "stream",
          "text": [
            " 18%|█▊        | 35/200 [04:49<22:09,  8.06s/it]"
          ],
          "name": "stderr"
        },
        {
          "output_type": "stream",
          "text": [
            "Epoch 35 complete : \n",
            "Loss : 24030.55039706551\n",
            "Mean Training Loss : 3.2036462334442755\n",
            "\n"
          ],
          "name": "stdout"
        },
        {
          "output_type": "stream",
          "text": [
            " 18%|█▊        | 36/200 [04:49<22:06,  8.09s/it]"
          ],
          "name": "stderr"
        },
        {
          "output_type": "stream",
          "text": [
            "Test score: 0.0940376150460184\n",
            "\n"
          ],
          "name": "stdout"
        },
        {
          "output_type": "stream",
          "text": [
            " 18%|█▊        | 36/200 [04:57<22:06,  8.09s/it]"
          ],
          "name": "stderr"
        },
        {
          "output_type": "stream",
          "text": [
            "Epoch 36 complete : \n",
            "Loss : 24017.922424758108\n",
            "Mean Training Loss : 3.201962728270645\n",
            "\n"
          ],
          "name": "stdout"
        },
        {
          "output_type": "stream",
          "text": [
            " 18%|█▊        | 37/200 [04:57<21:59,  8.10s/it]"
          ],
          "name": "stderr"
        },
        {
          "output_type": "stream",
          "text": [
            "Test score: 0.09203681472589036\n",
            "\n"
          ],
          "name": "stdout"
        },
        {
          "output_type": "stream",
          "text": [
            " 18%|█▊        | 37/200 [05:05<21:59,  8.10s/it]"
          ],
          "name": "stderr"
        },
        {
          "output_type": "stream",
          "text": [
            "Epoch 37 complete : \n",
            "Loss : 24004.83939882005\n",
            "Mean Training Loss : 3.2002185573683577\n",
            "\n"
          ],
          "name": "stdout"
        },
        {
          "output_type": "stream",
          "text": [
            " 19%|█▉        | 38/200 [05:05<21:47,  8.07s/it]"
          ],
          "name": "stderr"
        },
        {
          "output_type": "stream",
          "text": [
            "Test score: 0.09323729491796719\n",
            "\n"
          ],
          "name": "stdout"
        },
        {
          "output_type": "stream",
          "text": [
            " 19%|█▉        | 38/200 [05:13<21:47,  8.07s/it]"
          ],
          "name": "stderr"
        },
        {
          "output_type": "stream",
          "text": [
            "Epoch 38 complete : \n",
            "Loss : 23993.824787298763\n",
            "Mean Training Loss : 3.198750138288063\n",
            "\n"
          ],
          "name": "stdout"
        },
        {
          "output_type": "stream",
          "text": [
            " 20%|█▉        | 39/200 [05:13<21:37,  8.06s/it]"
          ],
          "name": "stderr"
        },
        {
          "output_type": "stream",
          "text": [
            "Test score: 0.09283713485394157\n",
            "\n"
          ],
          "name": "stdout"
        },
        {
          "output_type": "stream",
          "text": [
            " 20%|█▉        | 39/200 [05:21<21:37,  8.06s/it]"
          ],
          "name": "stderr"
        },
        {
          "output_type": "stream",
          "text": [
            "Epoch 39 complete : \n",
            "Loss : 23981.640475145465\n",
            "Mean Training Loss : 3.1971257799154067\n",
            "\n"
          ],
          "name": "stdout"
        },
        {
          "output_type": "stream",
          "text": [
            " 20%|██        | 40/200 [05:21<21:30,  8.06s/it]"
          ],
          "name": "stderr"
        },
        {
          "output_type": "stream",
          "text": [
            "Test score: 0.09283713485394157\n",
            "\n"
          ],
          "name": "stdout"
        },
        {
          "output_type": "stream",
          "text": [
            " 20%|██        | 40/200 [05:29<21:30,  8.06s/it]"
          ],
          "name": "stderr"
        },
        {
          "output_type": "stream",
          "text": [
            "Epoch 40 complete : \n",
            "Loss : 23969.90966484637\n",
            "Mean Training Loss : 3.1955618803954633\n",
            "\n"
          ],
          "name": "stdout"
        },
        {
          "output_type": "stream",
          "text": [
            " 20%|██        | 41/200 [05:29<21:25,  8.09s/it]"
          ],
          "name": "stderr"
        },
        {
          "output_type": "stream",
          "text": [
            "Test score: 0.09083633453381353\n",
            "\n"
          ],
          "name": "stdout"
        },
        {
          "output_type": "stream",
          "text": [
            " 20%|██        | 41/200 [05:37<21:25,  8.09s/it]"
          ],
          "name": "stderr"
        },
        {
          "output_type": "stream",
          "text": [
            "Epoch 41 complete : \n",
            "Loss : 23957.810071128497\n",
            "Mean Training Loss : 3.193948816308292\n",
            "\n"
          ],
          "name": "stdout"
        },
        {
          "output_type": "stream",
          "text": [
            " 21%|██        | 42/200 [05:38<21:15,  8.07s/it]"
          ],
          "name": "stderr"
        },
        {
          "output_type": "stream",
          "text": [
            "Test score: 0.09203681472589036\n",
            "\n"
          ],
          "name": "stdout"
        },
        {
          "output_type": "stream",
          "text": [
            " 21%|██        | 42/200 [05:45<21:15,  8.07s/it]"
          ],
          "name": "stderr"
        },
        {
          "output_type": "stream",
          "text": [
            "Epoch 42 complete : \n",
            "Loss : 23946.867146748966\n",
            "Mean Training Loss : 3.192489954239297\n",
            "\n"
          ],
          "name": "stdout"
        },
        {
          "output_type": "stream",
          "text": [
            " 22%|██▏       | 43/200 [05:46<21:08,  8.08s/it]"
          ],
          "name": "stderr"
        },
        {
          "output_type": "stream",
          "text": [
            "Test score: 0.09163665466186474\n",
            "\n"
          ],
          "name": "stdout"
        },
        {
          "output_type": "stream",
          "text": [
            " 22%|██▏       | 43/200 [05:53<21:08,  8.08s/it]"
          ],
          "name": "stderr"
        },
        {
          "output_type": "stream",
          "text": [
            "Epoch 43 complete : \n",
            "Loss : 23934.983184960052\n",
            "Mean Training Loss : 3.1909056372430413\n",
            "\n"
          ],
          "name": "stdout"
        },
        {
          "output_type": "stream",
          "text": [
            " 22%|██▏       | 44/200 [05:54<21:02,  8.09s/it]"
          ],
          "name": "stderr"
        },
        {
          "output_type": "stream",
          "text": [
            "Test score: 0.09243697478991597\n",
            "\n"
          ],
          "name": "stdout"
        },
        {
          "output_type": "stream",
          "text": [
            " 22%|██▏       | 44/200 [06:04<21:02,  8.09s/it]"
          ],
          "name": "stderr"
        },
        {
          "output_type": "stream",
          "text": [
            "Epoch 44 complete : \n",
            "Loss : 23922.14410161177\n",
            "Mean Training Loss : 3.1891939876832116\n",
            "\n"
          ],
          "name": "stdout"
        },
        {
          "output_type": "stream",
          "text": [
            " 22%|██▎       | 45/200 [06:05<23:02,  8.92s/it]"
          ],
          "name": "stderr"
        },
        {
          "output_type": "stream",
          "text": [
            "Test score: 0.09323729491796719\n",
            "\n"
          ],
          "name": "stdout"
        },
        {
          "output_type": "stream",
          "text": [
            " 22%|██▎       | 45/200 [06:20<23:02,  8.92s/it]"
          ],
          "name": "stderr"
        },
        {
          "output_type": "stream",
          "text": [
            "Epoch 45 complete : \n",
            "Loss : 23910.134609050725\n",
            "Mean Training Loss : 3.1875929354820323\n",
            "\n"
          ],
          "name": "stdout"
        },
        {
          "output_type": "stream",
          "text": [
            " 23%|██▎       | 46/200 [06:21<28:31, 11.12s/it]"
          ],
          "name": "stderr"
        },
        {
          "output_type": "stream",
          "text": [
            "Test score: 0.0936374549819928\n",
            "\n"
          ],
          "name": "stdout"
        },
        {
          "output_type": "stream",
          "text": [
            " 23%|██▎       | 46/200 [06:30<28:31, 11.12s/it]"
          ],
          "name": "stderr"
        },
        {
          "output_type": "stream",
          "text": [
            "Epoch 46 complete : \n",
            "Loss : 23899.001411707824\n",
            "Mean Training Loss : 3.1861087070667677\n",
            "\n"
          ],
          "name": "stdout"
        },
        {
          "output_type": "stream",
          "text": [
            " 24%|██▎       | 47/200 [06:31<27:15, 10.69s/it]"
          ],
          "name": "stderr"
        },
        {
          "output_type": "stream",
          "text": [
            "Test score: 0.0936374549819928\n",
            "\n"
          ],
          "name": "stdout"
        },
        {
          "output_type": "stream",
          "text": [
            " 24%|██▎       | 47/200 [06:38<27:15, 10.69s/it]"
          ],
          "name": "stderr"
        },
        {
          "output_type": "stream",
          "text": [
            "Epoch 47 complete : \n",
            "Loss : 23886.4538793039\n",
            "Mean Training Loss : 3.184435925783749\n",
            "\n"
          ],
          "name": "stdout"
        },
        {
          "output_type": "stream",
          "text": [
            " 24%|██▍       | 48/200 [06:39<25:03,  9.89s/it]"
          ],
          "name": "stderr"
        },
        {
          "output_type": "stream",
          "text": [
            "Test score: 0.0940376150460184\n",
            "\n"
          ],
          "name": "stdout"
        },
        {
          "output_type": "stream",
          "text": [
            " 24%|██▍       | 48/200 [06:58<25:03,  9.89s/it]"
          ],
          "name": "stderr"
        },
        {
          "output_type": "stream",
          "text": [
            "Epoch 48 complete : \n",
            "Loss : 23875.802282800654\n",
            "Mean Training Loss : 3.1830159022531204\n",
            "\n"
          ],
          "name": "stdout"
        },
        {
          "output_type": "stream",
          "text": [
            " 24%|██▍       | 49/200 [06:59<33:04, 13.14s/it]"
          ],
          "name": "stderr"
        },
        {
          "output_type": "stream",
          "text": [
            "Test score: 0.0940376150460184\n",
            "\n"
          ],
          "name": "stdout"
        },
        {
          "output_type": "stream",
          "text": [
            " 24%|██▍       | 49/200 [07:12<33:04, 13.14s/it]"
          ],
          "name": "stderr"
        },
        {
          "output_type": "stream",
          "text": [
            "Epoch 49 complete : \n",
            "Loss : 23864.049302742238\n",
            "Mean Training Loss : 3.1814490471593437\n",
            "\n"
          ],
          "name": "stdout"
        },
        {
          "output_type": "stream",
          "text": [
            " 25%|██▌       | 50/200 [07:12<32:29, 13.00s/it]"
          ],
          "name": "stderr"
        },
        {
          "output_type": "stream",
          "text": [
            "Test score: 0.09443777511004402\n",
            "\n"
          ],
          "name": "stdout"
        },
        {
          "output_type": "stream",
          "text": [
            " 25%|██▌       | 50/200 [07:20<32:29, 13.00s/it]"
          ],
          "name": "stderr"
        },
        {
          "output_type": "stream",
          "text": [
            "Epoch 50 complete : \n",
            "Loss : 23852.694522638532\n",
            "Mean Training Loss : 3.1799352783146957\n",
            "\n"
          ],
          "name": "stdout"
        },
        {
          "output_type": "stream",
          "text": [
            " 26%|██▌       | 51/200 [07:20<28:42, 11.56s/it]"
          ],
          "name": "stderr"
        },
        {
          "output_type": "stream",
          "text": [
            "Test score: 0.09483793517406963\n",
            "\n"
          ],
          "name": "stdout"
        },
        {
          "output_type": "stream",
          "text": [
            " 26%|██▌       | 51/200 [07:28<28:42, 11.56s/it]"
          ],
          "name": "stderr"
        },
        {
          "output_type": "stream",
          "text": [
            "Epoch 51 complete : \n",
            "Loss : 23841.02256481172\n",
            "Mean Training Loss : 3.17837922474493\n",
            "\n"
          ],
          "name": "stdout"
        },
        {
          "output_type": "stream",
          "text": [
            " 26%|██▌       | 52/200 [07:28<26:00, 10.54s/it]"
          ],
          "name": "stderr"
        },
        {
          "output_type": "stream",
          "text": [
            "Test score: 0.0940376150460184\n",
            "\n"
          ],
          "name": "stdout"
        },
        {
          "output_type": "stream",
          "text": [
            " 26%|██▌       | 52/200 [07:36<26:00, 10.54s/it]"
          ],
          "name": "stderr"
        },
        {
          "output_type": "stream",
          "text": [
            "Epoch 52 complete : \n",
            "Loss : 23830.90700639071\n",
            "Mean Training Loss : 3.177030663430304\n",
            "\n"
          ],
          "name": "stdout"
        },
        {
          "output_type": "stream",
          "text": [
            " 26%|██▋       | 53/200 [07:36<24:03,  9.82s/it]"
          ],
          "name": "stderr"
        },
        {
          "output_type": "stream",
          "text": [
            "Test score: 0.09603841536614646\n",
            "\n"
          ],
          "name": "stdout"
        },
        {
          "output_type": "stream",
          "text": [
            " 26%|██▋       | 53/200 [07:44<24:03,  9.82s/it]"
          ],
          "name": "stderr"
        },
        {
          "output_type": "stream",
          "text": [
            "Epoch 53 complete : \n",
            "Loss : 23817.71257401125\n",
            "Mean Training Loss : 3.1752716403161245\n",
            "\n"
          ],
          "name": "stdout"
        },
        {
          "output_type": "stream",
          "text": [
            " 27%|██▋       | 54/200 [07:45<22:42,  9.33s/it]"
          ],
          "name": "stderr"
        },
        {
          "output_type": "stream",
          "text": [
            "Test score: 0.09643857543017206\n",
            "\n"
          ],
          "name": "stdout"
        },
        {
          "output_type": "stream",
          "text": [
            " 27%|██▋       | 54/200 [07:53<22:42,  9.33s/it]"
          ],
          "name": "stderr"
        },
        {
          "output_type": "stream",
          "text": [
            "Epoch 54 complete : \n",
            "Loss : 23805.662240882768\n",
            "Mean Training Loss : 3.1736651434319114\n",
            "\n"
          ],
          "name": "stdout"
        },
        {
          "output_type": "stream",
          "text": [
            " 28%|██▊       | 55/200 [07:53<21:48,  9.02s/it]"
          ],
          "name": "stderr"
        },
        {
          "output_type": "stream",
          "text": [
            "Test score: 0.09643857543017206\n",
            "\n"
          ],
          "name": "stdout"
        },
        {
          "output_type": "stream",
          "text": [
            " 28%|██▊       | 55/200 [08:01<21:48,  9.02s/it]"
          ],
          "name": "stderr"
        },
        {
          "output_type": "stream",
          "text": [
            "Epoch 55 complete : \n",
            "Loss : 23795.00156541138\n",
            "Mean Training Loss : 3.1722439095335795\n",
            "\n"
          ],
          "name": "stdout"
        },
        {
          "output_type": "stream",
          "text": [
            " 28%|██▊       | 56/200 [08:01<20:59,  8.75s/it]"
          ],
          "name": "stderr"
        },
        {
          "output_type": "stream",
          "text": [
            "Test score: 0.09683873549419768\n",
            "\n"
          ],
          "name": "stdout"
        },
        {
          "output_type": "stream",
          "text": [
            " 28%|██▊       | 56/200 [08:09<20:59,  8.75s/it]"
          ],
          "name": "stderr"
        },
        {
          "output_type": "stream",
          "text": [
            "Epoch 56 complete : \n",
            "Loss : 23785.004717131967\n",
            "Mean Training Loss : 3.170911174127712\n",
            "\n"
          ],
          "name": "stdout"
        },
        {
          "output_type": "stream",
          "text": [
            " 28%|██▊       | 57/200 [08:10<20:55,  8.78s/it]"
          ],
          "name": "stderr"
        },
        {
          "output_type": "stream",
          "text": [
            "Test score: 0.09563825530212085\n",
            "\n"
          ],
          "name": "stdout"
        },
        {
          "output_type": "stream",
          "text": [
            " 28%|██▊       | 57/200 [08:18<20:55,  8.78s/it]"
          ],
          "name": "stderr"
        },
        {
          "output_type": "stream",
          "text": [
            "Epoch 57 complete : \n",
            "Loss : 23772.833131907362\n",
            "Mean Training Loss : 3.1692885124526544\n",
            "\n"
          ],
          "name": "stdout"
        },
        {
          "output_type": "stream",
          "text": [
            " 29%|██▉       | 58/200 [08:18<20:33,  8.69s/it]"
          ],
          "name": "stderr"
        },
        {
          "output_type": "stream",
          "text": [
            "Test score: 0.09523809523809523\n",
            "\n"
          ],
          "name": "stdout"
        },
        {
          "output_type": "stream",
          "text": [
            " 29%|██▉       | 58/200 [08:26<20:33,  8.69s/it]"
          ],
          "name": "stderr"
        },
        {
          "output_type": "stream",
          "text": [
            "Epoch 58 complete : \n",
            "Loss : 23762.091530570044\n",
            "Mean Training Loss : 3.1678564898773556\n",
            "\n"
          ],
          "name": "stdout"
        },
        {
          "output_type": "stream",
          "text": [
            " 30%|██▉       | 59/200 [08:27<20:02,  8.53s/it]"
          ],
          "name": "stderr"
        },
        {
          "output_type": "stream",
          "text": [
            "Test score: 0.09483793517406963\n",
            "\n"
          ],
          "name": "stdout"
        },
        {
          "output_type": "stream",
          "text": [
            " 30%|██▉       | 59/200 [08:34<20:02,  8.53s/it]"
          ],
          "name": "stderr"
        },
        {
          "output_type": "stream",
          "text": [
            "Epoch 59 complete : \n",
            "Loss : 23753.378329667925\n",
            "Mean Training Loss : 3.1666948846377716\n",
            "\n"
          ],
          "name": "stdout"
        },
        {
          "output_type": "stream",
          "text": [
            " 30%|███       | 60/200 [08:35<19:36,  8.40s/it]"
          ],
          "name": "stderr"
        },
        {
          "output_type": "stream",
          "text": [
            "Test score: 0.09723889555822329\n",
            "\n"
          ],
          "name": "stdout"
        },
        {
          "output_type": "stream",
          "text": [
            " 30%|███       | 60/200 [08:42<19:36,  8.40s/it]"
          ],
          "name": "stderr"
        },
        {
          "output_type": "stream",
          "text": [
            "Epoch 60 complete : \n",
            "Loss : 23745.737916940252\n",
            "Mean Training Loss : 3.1656762987522\n",
            "\n"
          ],
          "name": "stdout"
        },
        {
          "output_type": "stream",
          "text": [
            " 30%|███       | 61/200 [08:43<19:16,  8.32s/it]"
          ],
          "name": "stderr"
        },
        {
          "output_type": "stream",
          "text": [
            "Test score: 0.09883953581432572\n",
            "\n"
          ],
          "name": "stdout"
        },
        {
          "output_type": "stream",
          "text": [
            " 30%|███       | 61/200 [08:51<19:16,  8.32s/it]"
          ],
          "name": "stderr"
        },
        {
          "output_type": "stream",
          "text": [
            "Epoch 61 complete : \n",
            "Loss : 23734.059512277207\n",
            "Mean Training Loss : 3.164119385718865\n",
            "\n"
          ],
          "name": "stdout"
        },
        {
          "output_type": "stream",
          "text": [
            " 31%|███       | 62/200 [08:51<19:02,  8.28s/it]"
          ],
          "name": "stderr"
        },
        {
          "output_type": "stream",
          "text": [
            "Test score: 0.09723889555822329\n",
            "\n"
          ],
          "name": "stdout"
        },
        {
          "output_type": "stream",
          "text": [
            " 31%|███       | 62/200 [08:59<19:02,  8.28s/it]"
          ],
          "name": "stderr"
        },
        {
          "output_type": "stream",
          "text": [
            "Epoch 62 complete : \n",
            "Loss : 23726.436093159788\n",
            "Mean Training Loss : 3.1631030653459256\n",
            "\n"
          ],
          "name": "stdout"
        },
        {
          "output_type": "stream",
          "text": [
            " 32%|███▏      | 63/200 [08:59<18:52,  8.26s/it]"
          ],
          "name": "stderr"
        },
        {
          "output_type": "stream",
          "text": [
            "Test score: 0.0976390556222489\n",
            "\n"
          ],
          "name": "stdout"
        },
        {
          "output_type": "stream",
          "text": [
            " 32%|███▏      | 63/200 [09:07<18:52,  8.26s/it]"
          ],
          "name": "stderr"
        },
        {
          "output_type": "stream",
          "text": [
            "Epoch 63 complete : \n",
            "Loss : 23717.56253873045\n",
            "Mean Training Loss : 3.1619200824863953\n",
            "\n"
          ],
          "name": "stdout"
        },
        {
          "output_type": "stream",
          "text": [
            " 32%|███▏      | 64/200 [09:07<18:35,  8.20s/it]"
          ],
          "name": "stderr"
        },
        {
          "output_type": "stream",
          "text": [
            "Test score: 0.09843937575030012\n",
            "\n"
          ],
          "name": "stdout"
        },
        {
          "output_type": "stream",
          "text": [
            " 32%|███▏      | 64/200 [09:15<18:35,  8.20s/it]"
          ],
          "name": "stderr"
        },
        {
          "output_type": "stream",
          "text": [
            "Epoch 64 complete : \n",
            "Loss : 23705.118061227375\n",
            "Mean Training Loss : 3.16026104002498\n",
            "\n"
          ],
          "name": "stdout"
        },
        {
          "output_type": "stream",
          "text": [
            " 32%|███▎      | 65/200 [09:15<18:21,  8.16s/it]"
          ],
          "name": "stderr"
        },
        {
          "output_type": "stream",
          "text": [
            "Test score: 0.09963985594237695\n",
            "\n"
          ],
          "name": "stdout"
        },
        {
          "output_type": "stream",
          "text": [
            " 32%|███▎      | 65/200 [09:23<18:21,  8.16s/it]"
          ],
          "name": "stderr"
        },
        {
          "output_type": "stream",
          "text": [
            "Epoch 65 complete : \n",
            "Loss : 23697.89617808897\n",
            "Mean Training Loss : 3.1592982506451097\n",
            "\n"
          ],
          "name": "stdout"
        },
        {
          "output_type": "stream",
          "text": [
            " 33%|███▎      | 66/200 [09:23<18:11,  8.15s/it]"
          ],
          "name": "stderr"
        },
        {
          "output_type": "stream",
          "text": [
            "Test score: 0.09723889555822329\n",
            "\n"
          ],
          "name": "stdout"
        },
        {
          "output_type": "stream",
          "text": [
            " 33%|███▎      | 66/200 [09:31<18:11,  8.15s/it]"
          ],
          "name": "stderr"
        },
        {
          "output_type": "stream",
          "text": [
            "Epoch 66 complete : \n",
            "Loss : 23693.82692709758\n",
            "Mean Training Loss : 3.1587557561788535\n",
            "\n"
          ],
          "name": "stdout"
        },
        {
          "output_type": "stream",
          "text": [
            " 34%|███▎      | 67/200 [09:31<17:59,  8.12s/it]"
          ],
          "name": "stderr"
        },
        {
          "output_type": "stream",
          "text": [
            "Test score: 0.0976390556222489\n",
            "\n"
          ],
          "name": "stdout"
        },
        {
          "output_type": "stream",
          "text": [
            " 34%|███▎      | 67/200 [09:39<17:59,  8.12s/it]"
          ],
          "name": "stderr"
        },
        {
          "output_type": "stream",
          "text": [
            "Epoch 67 complete : \n",
            "Loss : 23683.5811221783\n",
            "Mean Training Loss : 3.1573898309796427\n",
            "\n"
          ],
          "name": "stdout"
        },
        {
          "output_type": "stream",
          "text": [
            " 34%|███▍      | 68/200 [09:40<17:47,  8.09s/it]"
          ],
          "name": "stderr"
        },
        {
          "output_type": "stream",
          "text": [
            "Test score: 0.0976390556222489\n",
            "\n"
          ],
          "name": "stdout"
        },
        {
          "output_type": "stream",
          "text": [
            " 34%|███▍      | 68/200 [09:47<17:47,  8.09s/it]"
          ],
          "name": "stderr"
        },
        {
          "output_type": "stream",
          "text": [
            "Epoch 68 complete : \n",
            "Loss : 23675.99913586961\n",
            "Mean Training Loss : 3.1563790342447153\n",
            "\n"
          ],
          "name": "stdout"
        },
        {
          "output_type": "stream",
          "text": [
            " 34%|███▍      | 69/200 [09:48<17:44,  8.13s/it]"
          ],
          "name": "stderr"
        },
        {
          "output_type": "stream",
          "text": [
            "Test score: 0.09723889555822329\n",
            "\n"
          ],
          "name": "stdout"
        },
        {
          "output_type": "stream",
          "text": [
            " 34%|███▍      | 69/200 [09:56<17:44,  8.13s/it]"
          ],
          "name": "stderr"
        },
        {
          "output_type": "stream",
          "text": [
            "Epoch 69 complete : \n",
            "Loss : 23667.121139067094\n",
            "Mean Training Loss : 3.155195459147726\n",
            "\n"
          ],
          "name": "stdout"
        },
        {
          "output_type": "stream",
          "text": [
            " 35%|███▌      | 70/200 [09:56<17:39,  8.15s/it]"
          ],
          "name": "stderr"
        },
        {
          "output_type": "stream",
          "text": [
            "Test score: 0.09723889555822329\n",
            "\n"
          ],
          "name": "stdout"
        },
        {
          "output_type": "stream",
          "text": [
            " 35%|███▌      | 70/200 [10:04<17:39,  8.15s/it]"
          ],
          "name": "stderr"
        },
        {
          "output_type": "stream",
          "text": [
            "Epoch 70 complete : \n",
            "Loss : 23661.755490868418\n",
            "Mean Training Loss : 3.154480134764487\n",
            "\n"
          ],
          "name": "stdout"
        },
        {
          "output_type": "stream",
          "text": [
            " 36%|███▌      | 71/200 [10:04<17:32,  8.16s/it]"
          ],
          "name": "stderr"
        },
        {
          "output_type": "stream",
          "text": [
            "Test score: 0.09963985594237695\n",
            "\n"
          ],
          "name": "stdout"
        },
        {
          "output_type": "stream",
          "text": [
            " 36%|███▌      | 71/200 [10:12<17:32,  8.16s/it]"
          ],
          "name": "stderr"
        },
        {
          "output_type": "stream",
          "text": [
            "Epoch 71 complete : \n",
            "Loss : 23651.892477178713\n",
            "Mean Training Loss : 3.153165241591616\n",
            "\n"
          ],
          "name": "stdout"
        },
        {
          "output_type": "stream",
          "text": [
            " 36%|███▌      | 72/200 [10:12<17:24,  8.16s/it]"
          ],
          "name": "stderr"
        },
        {
          "output_type": "stream",
          "text": [
            "Test score: 0.09963985594237695\n",
            "\n"
          ],
          "name": "stdout"
        },
        {
          "output_type": "stream",
          "text": [
            " 36%|███▌      | 72/200 [10:20<17:24,  8.16s/it]"
          ],
          "name": "stderr"
        },
        {
          "output_type": "stream",
          "text": [
            "Epoch 72 complete : \n",
            "Loss : 23644.241818899278\n",
            "Mean Training Loss : 3.152145289814595\n",
            "\n"
          ],
          "name": "stdout"
        },
        {
          "output_type": "stream",
          "text": [
            " 36%|███▋      | 73/200 [10:20<17:16,  8.16s/it]"
          ],
          "name": "stderr"
        },
        {
          "output_type": "stream",
          "text": [
            "Test score: 0.09923969587835134\n",
            "\n"
          ],
          "name": "stdout"
        },
        {
          "output_type": "stream",
          "text": [
            " 36%|███▋      | 73/200 [10:28<17:16,  8.16s/it]"
          ],
          "name": "stderr"
        },
        {
          "output_type": "stream",
          "text": [
            "Epoch 73 complete : \n",
            "Loss : 23635.20393927333\n",
            "Mean Training Loss : 3.1509403998497976\n",
            "\n"
          ],
          "name": "stdout"
        },
        {
          "output_type": "stream",
          "text": [
            " 37%|███▋      | 74/200 [10:29<17:08,  8.16s/it]"
          ],
          "name": "stderr"
        },
        {
          "output_type": "stream",
          "text": [
            "Test score: 0.09843937575030012\n",
            "\n"
          ],
          "name": "stdout"
        },
        {
          "output_type": "stream",
          "text": [
            " 37%|███▋      | 74/200 [10:36<17:08,  8.16s/it]"
          ],
          "name": "stderr"
        },
        {
          "output_type": "stream",
          "text": [
            "Epoch 74 complete : \n",
            "Loss : 23629.254755102782\n",
            "Mean Training Loss : 3.1501472810428983\n",
            "\n"
          ],
          "name": "stdout"
        },
        {
          "output_type": "stream",
          "text": [
            " 38%|███▊      | 75/200 [10:37<16:58,  8.15s/it]"
          ],
          "name": "stderr"
        },
        {
          "output_type": "stream",
          "text": [
            "Test score: 0.10044017607042817\n",
            "\n"
          ],
          "name": "stdout"
        },
        {
          "output_type": "stream",
          "text": [
            " 38%|███▊      | 75/200 [10:44<16:58,  8.15s/it]"
          ],
          "name": "stderr"
        },
        {
          "output_type": "stream",
          "text": [
            "Epoch 75 complete : \n",
            "Loss : 23624.253779694023\n",
            "Mean Training Loss : 3.1494805732161075\n",
            "\n"
          ],
          "name": "stdout"
        },
        {
          "output_type": "stream",
          "text": [
            " 38%|███▊      | 76/200 [10:45<16:50,  8.15s/it]"
          ],
          "name": "stderr"
        },
        {
          "output_type": "stream",
          "text": [
            "Test score: 0.10084033613445378\n",
            "\n"
          ],
          "name": "stdout"
        },
        {
          "output_type": "stream",
          "text": [
            " 38%|███▊      | 76/200 [10:53<16:50,  8.15s/it]"
          ],
          "name": "stderr"
        },
        {
          "output_type": "stream",
          "text": [
            "Epoch 76 complete : \n",
            "Loss : 23615.99884218143\n",
            "Mean Training Loss : 3.1483800616159754\n",
            "\n"
          ],
          "name": "stdout"
        },
        {
          "output_type": "stream",
          "text": [
            " 38%|███▊      | 77/200 [10:53<16:47,  8.19s/it]"
          ],
          "name": "stderr"
        },
        {
          "output_type": "stream",
          "text": [
            "Test score: 0.101640656262505\n",
            "\n"
          ],
          "name": "stdout"
        },
        {
          "output_type": "stream",
          "text": [
            " 38%|███▊      | 77/200 [11:01<16:47,  8.19s/it]"
          ],
          "name": "stderr"
        },
        {
          "output_type": "stream",
          "text": [
            "Epoch 77 complete : \n",
            "Loss : 23612.031540887972\n",
            "Mean Training Loss : 3.147851158630579\n",
            "\n"
          ],
          "name": "stdout"
        },
        {
          "output_type": "stream",
          "text": [
            " 39%|███▉      | 78/200 [11:01<16:39,  8.19s/it]"
          ],
          "name": "stderr"
        },
        {
          "output_type": "stream",
          "text": [
            "Test score: 0.09883953581432572\n",
            "\n"
          ],
          "name": "stdout"
        },
        {
          "output_type": "stream",
          "text": [
            " 39%|███▉      | 78/200 [11:09<16:39,  8.19s/it]"
          ],
          "name": "stderr"
        },
        {
          "output_type": "stream",
          "text": [
            "Epoch 78 complete : \n",
            "Loss : 23607.423769899142\n",
            "Mean Training Loss : 3.1472368710704095\n",
            "\n"
          ],
          "name": "stdout"
        },
        {
          "output_type": "stream",
          "text": [
            " 40%|███▉      | 79/200 [11:10<16:30,  8.19s/it]"
          ],
          "name": "stderr"
        },
        {
          "output_type": "stream",
          "text": [
            "Test score: 0.09723889555822329\n",
            "\n"
          ],
          "name": "stdout"
        },
        {
          "output_type": "stream",
          "text": [
            " 40%|███▉      | 79/200 [11:17<16:30,  8.19s/it]"
          ],
          "name": "stderr"
        },
        {
          "output_type": "stream",
          "text": [
            "Epoch 79 complete : \n",
            "Loss : 23598.19676568583\n",
            "Mean Training Loss : 3.1460067678557295\n",
            "\n"
          ],
          "name": "stdout"
        },
        {
          "output_type": "stream",
          "text": [
            " 40%|████      | 80/200 [11:18<16:21,  8.18s/it]"
          ],
          "name": "stderr"
        },
        {
          "output_type": "stream",
          "text": [
            "Test score: 0.09843937575030012\n",
            "\n"
          ],
          "name": "stdout"
        },
        {
          "output_type": "stream",
          "text": [
            " 40%|████      | 80/200 [11:25<16:21,  8.18s/it]"
          ],
          "name": "stderr"
        },
        {
          "output_type": "stream",
          "text": [
            "Epoch 80 complete : \n",
            "Loss : 23592.01011620002\n",
            "Mean Training Loss : 3.145181991227839\n",
            "\n"
          ],
          "name": "stdout"
        },
        {
          "output_type": "stream",
          "text": [
            " 40%|████      | 81/200 [11:26<16:13,  8.18s/it]"
          ],
          "name": "stderr"
        },
        {
          "output_type": "stream",
          "text": [
            "Test score: 0.09963985594237695\n",
            "\n"
          ],
          "name": "stdout"
        },
        {
          "output_type": "stream",
          "text": [
            " 40%|████      | 81/200 [11:34<16:13,  8.18s/it]"
          ],
          "name": "stderr"
        },
        {
          "output_type": "stream",
          "text": [
            "Epoch 81 complete : \n",
            "Loss : 23585.08939656365\n",
            "Mean Training Loss : 3.1442593516282695\n",
            "\n"
          ],
          "name": "stdout"
        },
        {
          "output_type": "stream",
          "text": [
            " 41%|████      | 82/200 [11:34<16:03,  8.17s/it]"
          ],
          "name": "stderr"
        },
        {
          "output_type": "stream",
          "text": [
            "Test score: 0.10004001600640255\n",
            "\n"
          ],
          "name": "stdout"
        },
        {
          "output_type": "stream",
          "text": [
            " 41%|████      | 82/200 [11:42<16:03,  8.17s/it]"
          ],
          "name": "stderr"
        },
        {
          "output_type": "stream",
          "text": [
            "Epoch 82 complete : \n",
            "Loss : 23577.880907198807\n",
            "Mean Training Loss : 3.1432983478467946\n",
            "\n"
          ],
          "name": "stdout"
        },
        {
          "output_type": "stream",
          "text": [
            " 42%|████▏     | 83/200 [11:42<16:00,  8.21s/it]"
          ],
          "name": "stderr"
        },
        {
          "output_type": "stream",
          "text": [
            "Test score: 0.09923969587835134\n",
            "\n"
          ],
          "name": "stdout"
        },
        {
          "output_type": "stream",
          "text": [
            " 42%|████▏     | 83/200 [11:51<16:00,  8.21s/it]"
          ],
          "name": "stderr"
        },
        {
          "output_type": "stream",
          "text": [
            "Epoch 83 complete : \n",
            "Loss : 23570.324440446402\n",
            "Mean Training Loss : 3.1422909532657517\n",
            "\n"
          ],
          "name": "stdout"
        },
        {
          "output_type": "stream",
          "text": [
            " 42%|████▏     | 84/200 [11:51<16:24,  8.49s/it]"
          ],
          "name": "stderr"
        },
        {
          "output_type": "stream",
          "text": [
            "Test score: 0.09963985594237695\n",
            "\n"
          ],
          "name": "stdout"
        },
        {
          "output_type": "stream",
          "text": [
            " 42%|████▏     | 84/200 [11:59<16:24,  8.49s/it]"
          ],
          "name": "stderr"
        },
        {
          "output_type": "stream",
          "text": [
            "Epoch 84 complete : \n",
            "Loss : 23564.91964804956\n",
            "Mean Training Loss : 3.1415704103518944\n",
            "\n"
          ],
          "name": "stdout"
        },
        {
          "output_type": "stream",
          "text": [
            " 42%|████▎     | 85/200 [12:00<16:05,  8.39s/it]"
          ],
          "name": "stderr"
        },
        {
          "output_type": "stream",
          "text": [
            "Test score: 0.09963985594237695\n",
            "\n"
          ],
          "name": "stdout"
        },
        {
          "output_type": "stream",
          "text": [
            " 42%|████▎     | 85/200 [12:07<16:05,  8.39s/it]"
          ],
          "name": "stderr"
        },
        {
          "output_type": "stream",
          "text": [
            "Epoch 85 complete : \n",
            "Loss : 23556.189193134887\n",
            "Mean Training Loss : 3.1404065048840004\n",
            "\n"
          ],
          "name": "stdout"
        },
        {
          "output_type": "stream",
          "text": [
            " 43%|████▎     | 86/200 [12:08<15:49,  8.33s/it]"
          ],
          "name": "stderr"
        },
        {
          "output_type": "stream",
          "text": [
            "Test score: 0.10084033613445378\n",
            "\n"
          ],
          "name": "stdout"
        },
        {
          "output_type": "stream",
          "text": [
            " 43%|████▎     | 86/200 [12:16<15:49,  8.33s/it]"
          ],
          "name": "stderr"
        },
        {
          "output_type": "stream",
          "text": [
            "Epoch 86 complete : \n",
            "Loss : 23551.605066448887\n",
            "Mean Training Loss : 3.1397953694772545\n",
            "\n"
          ],
          "name": "stdout"
        },
        {
          "output_type": "stream",
          "text": [
            " 44%|████▎     | 87/200 [12:16<15:35,  8.28s/it]"
          ],
          "name": "stderr"
        },
        {
          "output_type": "stream",
          "text": [
            "Test score: 0.09843937575030012\n",
            "\n"
          ],
          "name": "stdout"
        },
        {
          "output_type": "stream",
          "text": [
            " 44%|████▎     | 87/200 [12:24<15:35,  8.28s/it]"
          ],
          "name": "stderr"
        },
        {
          "output_type": "stream",
          "text": [
            "Epoch 87 complete : \n",
            "Loss : 23544.186010035468\n",
            "Mean Training Loss : 3.138806293832218\n",
            "\n"
          ],
          "name": "stdout"
        },
        {
          "output_type": "stream",
          "text": [
            " 44%|████▍     | 88/200 [12:24<15:23,  8.25s/it]"
          ],
          "name": "stderr"
        },
        {
          "output_type": "stream",
          "text": [
            "Test score: 0.09803921568627451\n",
            "\n"
          ],
          "name": "stdout"
        },
        {
          "output_type": "stream",
          "text": [
            " 44%|████▍     | 88/200 [12:32<15:23,  8.25s/it]"
          ],
          "name": "stderr"
        },
        {
          "output_type": "stream",
          "text": [
            "Epoch 88 complete : \n",
            "Loss : 23537.0393858536\n",
            "Mean Training Loss : 3.137853537642128\n",
            "\n"
          ],
          "name": "stdout"
        },
        {
          "output_type": "stream",
          "text": [
            " 44%|████▍     | 89/200 [12:32<15:12,  8.22s/it]"
          ],
          "name": "stderr"
        },
        {
          "output_type": "stream",
          "text": [
            "Test score: 0.10004001600640255\n",
            "\n"
          ],
          "name": "stdout"
        },
        {
          "output_type": "stream",
          "text": [
            " 44%|████▍     | 89/200 [12:40<15:12,  8.22s/it]"
          ],
          "name": "stderr"
        },
        {
          "output_type": "stream",
          "text": [
            "Epoch 89 complete : \n",
            "Loss : 23533.66927108623\n",
            "Mean Training Loss : 3.1374042489116425\n",
            "\n"
          ],
          "name": "stdout"
        },
        {
          "output_type": "stream",
          "text": [
            " 45%|████▌     | 90/200 [12:40<15:00,  8.19s/it]"
          ],
          "name": "stderr"
        },
        {
          "output_type": "stream",
          "text": [
            "Test score: 0.10004001600640255\n",
            "\n"
          ],
          "name": "stdout"
        },
        {
          "output_type": "stream",
          "text": [
            " 45%|████▌     | 90/200 [12:48<15:00,  8.19s/it]"
          ],
          "name": "stderr"
        },
        {
          "output_type": "stream",
          "text": [
            "Epoch 90 complete : \n",
            "Loss : 23523.540215934212\n",
            "Mean Training Loss : 3.1360538882727917\n",
            "\n"
          ],
          "name": "stdout"
        },
        {
          "output_type": "stream",
          "text": [
            " 46%|████▌     | 91/200 [12:49<14:57,  8.23s/it]"
          ],
          "name": "stderr"
        },
        {
          "output_type": "stream",
          "text": [
            "Test score: 0.10364145658263306\n",
            "\n"
          ],
          "name": "stdout"
        },
        {
          "output_type": "stream",
          "text": [
            " 46%|████▌     | 91/200 [12:57<14:57,  8.23s/it]"
          ],
          "name": "stderr"
        },
        {
          "output_type": "stream",
          "text": [
            "Epoch 91 complete : \n",
            "Loss : 23517.479433412365\n",
            "Mean Training Loss : 3.135245891669426\n",
            "\n"
          ],
          "name": "stdout"
        },
        {
          "output_type": "stream",
          "text": [
            " 46%|████▌     | 92/200 [12:57<14:49,  8.24s/it]"
          ],
          "name": "stderr"
        },
        {
          "output_type": "stream",
          "text": [
            "Test score: 0.09803921568627451\n",
            "\n"
          ],
          "name": "stdout"
        },
        {
          "output_type": "stream",
          "text": [
            " 46%|████▌     | 92/200 [13:05<14:49,  8.24s/it]"
          ],
          "name": "stderr"
        },
        {
          "output_type": "stream",
          "text": [
            "Epoch 92 complete : \n",
            "Loss : 23509.719362174277\n",
            "Mean Training Loss : 3.134211353442778\n",
            "\n"
          ],
          "name": "stdout"
        },
        {
          "output_type": "stream",
          "text": [
            " 46%|████▋     | 93/200 [13:05<14:40,  8.23s/it]"
          ],
          "name": "stderr"
        },
        {
          "output_type": "stream",
          "text": [
            "Test score: 0.10124049619847938\n",
            "\n"
          ],
          "name": "stdout"
        },
        {
          "output_type": "stream",
          "text": [
            " 46%|████▋     | 93/200 [13:13<14:40,  8.23s/it]"
          ],
          "name": "stderr"
        },
        {
          "output_type": "stream",
          "text": [
            "Epoch 93 complete : \n",
            "Loss : 23503.071236270705\n",
            "Mean Training Loss : 3.1333250548287834\n",
            "\n"
          ],
          "name": "stdout"
        },
        {
          "output_type": "stream",
          "text": [
            " 47%|████▋     | 94/200 [13:13<14:28,  8.19s/it]"
          ],
          "name": "stderr"
        },
        {
          "output_type": "stream",
          "text": [
            "Test score: 0.10324129651860744\n",
            "\n"
          ],
          "name": "stdout"
        },
        {
          "output_type": "stream",
          "text": [
            " 47%|████▋     | 94/200 [13:22<14:28,  8.19s/it]"
          ],
          "name": "stderr"
        },
        {
          "output_type": "stream",
          "text": [
            "Epoch 94 complete : \n",
            "Loss : 23504.597548255693\n",
            "Mean Training Loss : 3.133528535962631\n",
            "\n"
          ],
          "name": "stdout"
        },
        {
          "output_type": "stream",
          "text": [
            " 48%|████▊     | 95/200 [13:22<14:45,  8.44s/it]"
          ],
          "name": "stderr"
        },
        {
          "output_type": "stream",
          "text": [
            "Test score: 0.10124049619847938\n",
            "\n"
          ],
          "name": "stdout"
        },
        {
          "output_type": "stream",
          "text": [
            " 48%|████▊     | 95/200 [13:30<14:45,  8.44s/it]"
          ],
          "name": "stderr"
        },
        {
          "output_type": "stream",
          "text": [
            "Epoch 95 complete : \n",
            "Loss : 23496.579344218204\n",
            "Mean Training Loss : 3.1324595846178114\n",
            "\n"
          ],
          "name": "stdout"
        },
        {
          "output_type": "stream",
          "text": [
            " 48%|████▊     | 96/200 [13:31<14:30,  8.37s/it]"
          ],
          "name": "stderr"
        },
        {
          "output_type": "stream",
          "text": [
            "Test score: 0.10444177671068428\n",
            "\n"
          ],
          "name": "stdout"
        },
        {
          "output_type": "stream",
          "text": [
            " 48%|████▊     | 96/200 [13:38<14:30,  8.37s/it]"
          ],
          "name": "stderr"
        },
        {
          "output_type": "stream",
          "text": [
            "Epoch 96 complete : \n",
            "Loss : 23493.08608868647\n",
            "Mean Training Loss : 3.1319938793076214\n",
            "\n"
          ],
          "name": "stdout"
        },
        {
          "output_type": "stream",
          "text": [
            " 48%|████▊     | 97/200 [13:39<14:13,  8.28s/it]"
          ],
          "name": "stderr"
        },
        {
          "output_type": "stream",
          "text": [
            "Test score: 0.101640656262505\n",
            "\n"
          ],
          "name": "stdout"
        },
        {
          "output_type": "stream",
          "text": [
            " 48%|████▊     | 97/200 [13:46<14:13,  8.28s/it]"
          ],
          "name": "stderr"
        },
        {
          "output_type": "stream",
          "text": [
            "Epoch 97 complete : \n",
            "Loss : 23479.76001932879\n",
            "Mean Training Loss : 3.130217306936247\n",
            "\n"
          ],
          "name": "stdout"
        },
        {
          "output_type": "stream",
          "text": [
            " 49%|████▉     | 98/200 [13:47<13:57,  8.21s/it]"
          ],
          "name": "stderr"
        },
        {
          "output_type": "stream",
          "text": [
            "Test score: 0.10044017607042817\n",
            "\n"
          ],
          "name": "stdout"
        },
        {
          "output_type": "stream",
          "text": [
            " 49%|████▉     | 98/200 [13:54<13:57,  8.21s/it]"
          ],
          "name": "stderr"
        },
        {
          "output_type": "stream",
          "text": [
            "Epoch 98 complete : \n",
            "Loss : 23473.680336763166\n",
            "Mean Training Loss : 3.1294067906630003\n",
            "\n"
          ],
          "name": "stdout"
        },
        {
          "output_type": "stream",
          "text": [
            " 50%|████▉     | 99/200 [13:55<13:48,  8.20s/it]"
          ],
          "name": "stderr"
        },
        {
          "output_type": "stream",
          "text": [
            "Test score: 0.10044017607042817\n",
            "\n"
          ],
          "name": "stdout"
        },
        {
          "output_type": "stream",
          "text": [
            " 50%|████▉     | 99/200 [14:03<13:48,  8.20s/it]"
          ],
          "name": "stderr"
        },
        {
          "output_type": "stream",
          "text": [
            "Epoch 99 complete : \n",
            "Loss : 23472.368095377093\n",
            "Mean Training Loss : 3.129231848470483\n",
            "\n"
          ],
          "name": "stdout"
        },
        {
          "output_type": "stream",
          "text": [
            " 50%|█████     | 100/200 [14:03<13:36,  8.17s/it]"
          ],
          "name": "stderr"
        },
        {
          "output_type": "stream",
          "text": [
            "Test score: 0.10324129651860744\n",
            "\n"
          ],
          "name": "stdout"
        },
        {
          "output_type": "stream",
          "text": [
            " 50%|█████     | 100/200 [14:11<13:36,  8.17s/it]"
          ],
          "name": "stderr"
        },
        {
          "output_type": "stream",
          "text": [
            "Epoch 100 complete : \n",
            "Loss : 23464.16565024995\n",
            "Mean Training Loss : 3.1281383349220038\n",
            "\n"
          ],
          "name": "stdout"
        },
        {
          "output_type": "stream",
          "text": [
            " 50%|█████     | 101/200 [14:11<13:25,  8.13s/it]"
          ],
          "name": "stderr"
        },
        {
          "output_type": "stream",
          "text": [
            "Test score: 0.10524209683873549\n",
            "\n"
          ],
          "name": "stdout"
        },
        {
          "output_type": "stream",
          "text": [
            " 50%|█████     | 101/200 [14:19<13:25,  8.13s/it]"
          ],
          "name": "stderr"
        },
        {
          "output_type": "stream",
          "text": [
            "Epoch 101 complete : \n",
            "Loss : 23451.251122007292\n",
            "Mean Training Loss : 3.1264166273839877\n",
            "\n"
          ],
          "name": "stdout"
        },
        {
          "output_type": "stream",
          "text": [
            " 51%|█████     | 102/200 [14:19<13:16,  8.12s/it]"
          ],
          "name": "stderr"
        },
        {
          "output_type": "stream",
          "text": [
            "Test score: 0.10644257703081232\n",
            "\n"
          ],
          "name": "stdout"
        },
        {
          "output_type": "stream",
          "text": [
            " 51%|█████     | 102/200 [14:27<13:16,  8.12s/it]"
          ],
          "name": "stderr"
        },
        {
          "output_type": "stream",
          "text": [
            "Epoch 102 complete : \n",
            "Loss : 23448.51975253322\n",
            "Mean Training Loss : 3.126052493338651\n",
            "\n"
          ],
          "name": "stdout"
        },
        {
          "output_type": "stream",
          "text": [
            " 52%|█████▏    | 103/200 [14:27<13:08,  8.13s/it]"
          ],
          "name": "stderr"
        },
        {
          "output_type": "stream",
          "text": [
            "Test score: 0.10444177671068428\n",
            "\n"
          ],
          "name": "stdout"
        },
        {
          "output_type": "stream",
          "text": [
            " 52%|█████▏    | 103/200 [14:35<13:08,  8.13s/it]"
          ],
          "name": "stderr"
        },
        {
          "output_type": "stream",
          "text": [
            "Epoch 103 complete : \n",
            "Loss : 23441.742936452436\n",
            "Mean Training Loss : 3.125149038321882\n",
            "\n"
          ],
          "name": "stdout"
        },
        {
          "output_type": "stream",
          "text": [
            " 52%|█████▏    | 104/200 [14:35<12:59,  8.12s/it]"
          ],
          "name": "stderr"
        },
        {
          "output_type": "stream",
          "text": [
            "Test score: 0.10364145658263306\n",
            "\n"
          ],
          "name": "stdout"
        },
        {
          "output_type": "stream",
          "text": [
            " 52%|█████▏    | 104/200 [14:43<12:59,  8.12s/it]"
          ],
          "name": "stderr"
        },
        {
          "output_type": "stream",
          "text": [
            "Epoch 104 complete : \n",
            "Loss : 23434.53225446\n",
            "Mean Training Loss : 3.124187742229036\n",
            "\n"
          ],
          "name": "stdout"
        },
        {
          "output_type": "stream",
          "text": [
            " 52%|█████▎    | 105/200 [14:44<12:53,  8.15s/it]"
          ],
          "name": "stderr"
        },
        {
          "output_type": "stream",
          "text": [
            "Test score: 0.10484193677470989\n",
            "\n"
          ],
          "name": "stdout"
        },
        {
          "output_type": "stream",
          "text": [
            " 52%|█████▎    | 105/200 [14:51<12:53,  8.15s/it]"
          ],
          "name": "stderr"
        },
        {
          "output_type": "stream",
          "text": [
            "Epoch 105 complete : \n",
            "Loss : 23424.70633746045\n",
            "Mean Training Loss : 3.1228777946221107\n",
            "\n"
          ],
          "name": "stdout"
        },
        {
          "output_type": "stream",
          "text": [
            " 53%|█████▎    | 106/200 [14:52<12:46,  8.16s/it]"
          ],
          "name": "stderr"
        },
        {
          "output_type": "stream",
          "text": [
            "Test score: 0.10604241696678672\n",
            "\n"
          ],
          "name": "stdout"
        },
        {
          "output_type": "stream",
          "text": [
            " 53%|█████▎    | 106/200 [14:59<12:46,  8.16s/it]"
          ],
          "name": "stderr"
        },
        {
          "output_type": "stream",
          "text": [
            "Epoch 106 complete : \n",
            "Loss : 23417.568515681836\n",
            "Mean Training Loss : 3.121926211929321\n",
            "\n"
          ],
          "name": "stdout"
        },
        {
          "output_type": "stream",
          "text": [
            " 54%|█████▎    | 107/200 [15:00<12:38,  8.16s/it]"
          ],
          "name": "stderr"
        },
        {
          "output_type": "stream",
          "text": [
            "Test score: 0.10884353741496598\n",
            "\n"
          ],
          "name": "stdout"
        },
        {
          "output_type": "stream",
          "text": [
            " 54%|█████▎    | 107/200 [15:08<12:38,  8.16s/it]"
          ],
          "name": "stderr"
        },
        {
          "output_type": "stream",
          "text": [
            "Epoch 107 complete : \n",
            "Loss : 23414.07726386167\n",
            "Mean Training Loss : 3.1214607737450564\n",
            "\n"
          ],
          "name": "stdout"
        },
        {
          "output_type": "stream",
          "text": [
            " 54%|█████▍    | 108/200 [15:08<12:31,  8.16s/it]"
          ],
          "name": "stderr"
        },
        {
          "output_type": "stream",
          "text": [
            "Test score: 0.10364145658263306\n",
            "\n"
          ],
          "name": "stdout"
        },
        {
          "output_type": "stream",
          "text": [
            " 54%|█████▍    | 108/200 [15:16<12:31,  8.16s/it]"
          ],
          "name": "stderr"
        },
        {
          "output_type": "stream",
          "text": [
            "Epoch 108 complete : \n",
            "Loss : 23410.000990228975\n",
            "Mean Training Loss : 3.1209173430514565\n",
            "\n"
          ],
          "name": "stdout"
        },
        {
          "output_type": "stream",
          "text": [
            " 55%|█████▍    | 109/200 [15:16<12:23,  8.17s/it]"
          ],
          "name": "stderr"
        },
        {
          "output_type": "stream",
          "text": [
            "Test score: 0.10884353741496598\n",
            "\n"
          ],
          "name": "stdout"
        },
        {
          "output_type": "stream",
          "text": [
            " 55%|█████▍    | 109/200 [15:24<12:23,  8.17s/it]"
          ],
          "name": "stderr"
        },
        {
          "output_type": "stream",
          "text": [
            "Epoch 109 complete : \n",
            "Loss : 23405.929100469297\n",
            "Mean Training Loss : 3.1203744967963334\n",
            "\n"
          ],
          "name": "stdout"
        },
        {
          "output_type": "stream",
          "text": [
            " 55%|█████▌    | 110/200 [15:25<12:18,  8.21s/it]"
          ],
          "name": "stderr"
        },
        {
          "output_type": "stream",
          "text": [
            "Test score: 0.10644257703081232\n",
            "\n"
          ],
          "name": "stdout"
        },
        {
          "output_type": "stream",
          "text": [
            " 55%|█████▌    | 110/200 [15:32<12:18,  8.21s/it]"
          ],
          "name": "stderr"
        },
        {
          "output_type": "stream",
          "text": [
            "Epoch 110 complete : \n",
            "Loss : 23393.918565057942\n",
            "Mean Training Loss : 3.1187733055669833\n",
            "\n"
          ],
          "name": "stdout"
        },
        {
          "output_type": "stream",
          "text": [
            " 56%|█████▌    | 111/200 [15:33<12:08,  8.18s/it]"
          ],
          "name": "stderr"
        },
        {
          "output_type": "stream",
          "text": [
            "Test score: 0.1056422569027611\n",
            "\n"
          ],
          "name": "stdout"
        },
        {
          "output_type": "stream",
          "text": [
            " 56%|█████▌    | 111/200 [15:40<12:08,  8.18s/it]"
          ],
          "name": "stderr"
        },
        {
          "output_type": "stream",
          "text": [
            "Epoch 111 complete : \n",
            "Loss : 23385.275800650725\n",
            "Mean Training Loss : 3.1176210906080155\n",
            "\n"
          ],
          "name": "stdout"
        },
        {
          "output_type": "stream",
          "text": [
            " 56%|█████▌    | 112/200 [15:41<11:58,  8.17s/it]"
          ],
          "name": "stderr"
        },
        {
          "output_type": "stream",
          "text": [
            "Test score: 0.10484193677470989\n",
            "\n"
          ],
          "name": "stdout"
        },
        {
          "output_type": "stream",
          "text": [
            " 56%|█████▌    | 112/200 [15:49<11:58,  8.17s/it]"
          ],
          "name": "stderr"
        },
        {
          "output_type": "stream",
          "text": [
            "Epoch 112 complete : \n",
            "Loss : 23377.798729684684\n",
            "Mean Training Loss : 3.1166242807205284\n",
            "\n"
          ],
          "name": "stdout"
        },
        {
          "output_type": "stream",
          "text": [
            " 56%|█████▋    | 113/200 [15:49<11:52,  8.19s/it]"
          ],
          "name": "stderr"
        },
        {
          "output_type": "stream",
          "text": [
            "Test score: 0.10444177671068428\n",
            "\n"
          ],
          "name": "stdout"
        },
        {
          "output_type": "stream",
          "text": [
            " 56%|█████▋    | 113/200 [15:57<11:52,  8.19s/it]"
          ],
          "name": "stderr"
        },
        {
          "output_type": "stream",
          "text": [
            "Epoch 113 complete : \n",
            "Loss : 23371.524912709894\n",
            "Mean Training Loss : 3.1157878833102113\n",
            "\n"
          ],
          "name": "stdout"
        },
        {
          "output_type": "stream",
          "text": [
            " 57%|█████▋    | 114/200 [15:57<11:47,  8.22s/it]"
          ],
          "name": "stderr"
        },
        {
          "output_type": "stream",
          "text": [
            "Test score: 0.10524209683873549\n",
            "\n"
          ],
          "name": "stdout"
        },
        {
          "output_type": "stream",
          "text": [
            " 57%|█████▋    | 114/200 [16:05<11:47,  8.22s/it]"
          ],
          "name": "stderr"
        },
        {
          "output_type": "stream",
          "text": [
            "Epoch 114 complete : \n",
            "Loss : 23362.975079361568\n",
            "Mean Training Loss : 3.114648057507208\n",
            "\n"
          ],
          "name": "stdout"
        },
        {
          "output_type": "stream",
          "text": [
            " 57%|█████▊    | 115/200 [16:06<11:38,  8.22s/it]"
          ],
          "name": "stderr"
        },
        {
          "output_type": "stream",
          "text": [
            "Test score: 0.10604241696678672\n",
            "\n"
          ],
          "name": "stdout"
        },
        {
          "output_type": "stream",
          "text": [
            " 57%|█████▊    | 115/200 [16:13<11:38,  8.22s/it]"
          ],
          "name": "stderr"
        },
        {
          "output_type": "stream",
          "text": [
            "Epoch 115 complete : \n",
            "Loss : 23354.074346430167\n",
            "Mean Training Loss : 3.1134614513305117\n",
            "\n"
          ],
          "name": "stdout"
        },
        {
          "output_type": "stream",
          "text": [
            " 58%|█████▊    | 116/200 [16:14<11:28,  8.20s/it]"
          ],
          "name": "stderr"
        },
        {
          "output_type": "stream",
          "text": [
            "Test score: 0.10484193677470989\n",
            "\n"
          ],
          "name": "stdout"
        },
        {
          "output_type": "stream",
          "text": [
            " 58%|█████▊    | 116/200 [16:22<11:28,  8.20s/it]"
          ],
          "name": "stderr"
        },
        {
          "output_type": "stream",
          "text": [
            "Epoch 116 complete : \n",
            "Loss : 23348.805269889508\n",
            "Mean Training Loss : 3.112759001451741\n",
            "\n"
          ],
          "name": "stdout"
        },
        {
          "output_type": "stream",
          "text": [
            " 58%|█████▊    | 117/200 [16:22<11:23,  8.24s/it]"
          ],
          "name": "stderr"
        },
        {
          "output_type": "stream",
          "text": [
            "Test score: 0.10524209683873549\n",
            "\n"
          ],
          "name": "stdout"
        },
        {
          "output_type": "stream",
          "text": [
            " 58%|█████▊    | 117/200 [16:30<11:23,  8.24s/it]"
          ],
          "name": "stderr"
        },
        {
          "output_type": "stream",
          "text": [
            "Epoch 117 complete : \n",
            "Loss : 23338.745254639776\n",
            "Mean Training Loss : 3.111417844905983\n",
            "\n"
          ],
          "name": "stdout"
        },
        {
          "output_type": "stream",
          "text": [
            " 59%|█████▉    | 118/200 [16:30<11:12,  8.20s/it]"
          ],
          "name": "stderr"
        },
        {
          "output_type": "stream",
          "text": [
            "Test score: 0.10524209683873549\n",
            "\n"
          ],
          "name": "stdout"
        },
        {
          "output_type": "stream",
          "text": [
            " 59%|█████▉    | 118/200 [16:38<11:12,  8.20s/it]"
          ],
          "name": "stderr"
        },
        {
          "output_type": "stream",
          "text": [
            "Epoch 118 complete : \n",
            "Loss : 23330.399364624158\n",
            "Mean Training Loss : 3.1103052079221647\n",
            "\n"
          ],
          "name": "stdout"
        },
        {
          "output_type": "stream",
          "text": [
            " 60%|█████▉    | 119/200 [16:38<11:01,  8.17s/it]"
          ],
          "name": "stderr"
        },
        {
          "output_type": "stream",
          "text": [
            "Test score: 0.10444177671068428\n",
            "\n"
          ],
          "name": "stdout"
        },
        {
          "output_type": "stream",
          "text": [
            " 60%|█████▉    | 119/200 [16:46<11:01,  8.17s/it]"
          ],
          "name": "stderr"
        },
        {
          "output_type": "stream",
          "text": [
            "Epoch 119 complete : \n",
            "Loss : 23322.53995769807\n",
            "Mean Training Loss : 3.109257426702849\n",
            "\n"
          ],
          "name": "stdout"
        },
        {
          "output_type": "stream",
          "text": [
            " 60%|██████    | 120/200 [16:46<10:53,  8.17s/it]"
          ],
          "name": "stderr"
        },
        {
          "output_type": "stream",
          "text": [
            "Test score: 0.10324129651860744\n",
            "\n"
          ],
          "name": "stdout"
        },
        {
          "output_type": "stream",
          "text": [
            " 60%|██████    | 120/200 [16:55<10:53,  8.17s/it]"
          ],
          "name": "stderr"
        },
        {
          "output_type": "stream",
          "text": [
            "Epoch 120 complete : \n",
            "Loss : 23312.250817568274\n",
            "Mean Training Loss : 3.1078857242458704\n",
            "\n"
          ],
          "name": "stdout"
        },
        {
          "output_type": "stream",
          "text": [
            " 60%|██████    | 121/200 [16:55<11:00,  8.36s/it]"
          ],
          "name": "stderr"
        },
        {
          "output_type": "stream",
          "text": [
            "Test score: 0.1056422569027611\n",
            "\n"
          ],
          "name": "stdout"
        },
        {
          "output_type": "stream",
          "text": [
            " 60%|██████    | 121/200 [17:07<11:00,  8.36s/it]"
          ],
          "name": "stderr"
        },
        {
          "output_type": "stream",
          "text": [
            "Epoch 121 complete : \n",
            "Loss : 23308.518459722058\n",
            "Mean Training Loss : 3.107388142877224\n",
            "\n"
          ],
          "name": "stdout"
        },
        {
          "output_type": "stream",
          "text": [
            " 61%|██████    | 122/200 [17:07<12:19,  9.48s/it]"
          ],
          "name": "stderr"
        },
        {
          "output_type": "stream",
          "text": [
            "Test score: 0.10524209683873549\n",
            "\n"
          ],
          "name": "stdout"
        },
        {
          "output_type": "stream",
          "text": [
            " 61%|██████    | 122/200 [17:22<12:19,  9.48s/it]"
          ],
          "name": "stderr"
        },
        {
          "output_type": "stream",
          "text": [
            "Epoch 122 complete : \n",
            "Loss : 23298.30363628175\n",
            "Mean Training Loss : 3.106026347991168\n",
            "\n"
          ],
          "name": "stdout"
        },
        {
          "output_type": "stream",
          "text": [
            " 62%|██████▏   | 123/200 [17:23<14:32, 11.33s/it]"
          ],
          "name": "stderr"
        },
        {
          "output_type": "stream",
          "text": [
            "Test score: 0.10444177671068428\n",
            "\n"
          ],
          "name": "stdout"
        },
        {
          "output_type": "stream",
          "text": [
            " 62%|██████▏   | 123/200 [17:41<14:32, 11.33s/it]"
          ],
          "name": "stderr"
        },
        {
          "output_type": "stream",
          "text": [
            "Epoch 123 complete : \n",
            "Loss : 23290.721904532915\n",
            "Mean Training Loss : 3.1050155851930294\n",
            "\n"
          ],
          "name": "stdout"
        },
        {
          "output_type": "stream",
          "text": [
            " 62%|██████▏   | 124/200 [17:41<17:03, 13.47s/it]"
          ],
          "name": "stderr"
        },
        {
          "output_type": "stream",
          "text": [
            "Test score: 0.10684273709483794\n",
            "\n"
          ],
          "name": "stdout"
        },
        {
          "output_type": "stream",
          "text": [
            " 62%|██████▏   | 124/200 [17:50<17:03, 13.47s/it]"
          ],
          "name": "stderr"
        },
        {
          "output_type": "stream",
          "text": [
            "Epoch 124 complete : \n",
            "Loss : 23282.816853284654\n",
            "Mean Training Loss : 3.103961718875437\n",
            "\n"
          ],
          "name": "stdout"
        },
        {
          "output_type": "stream",
          "text": [
            " 62%|██████▎   | 125/200 [17:50<15:06, 12.08s/it]"
          ],
          "name": "stderr"
        },
        {
          "output_type": "stream",
          "text": [
            "Test score: 0.10604241696678672\n",
            "\n"
          ],
          "name": "stdout"
        },
        {
          "output_type": "stream",
          "text": [
            " 62%|██████▎   | 125/200 [17:58<15:06, 12.08s/it]"
          ],
          "name": "stderr"
        },
        {
          "output_type": "stream",
          "text": [
            "Epoch 125 complete : \n",
            "Loss : 23271.40859604701\n",
            "Mean Training Loss : 3.1024408206968417\n",
            "\n"
          ],
          "name": "stdout"
        },
        {
          "output_type": "stream",
          "text": [
            " 63%|██████▎   | 126/200 [17:59<13:31, 10.97s/it]"
          ],
          "name": "stderr"
        },
        {
          "output_type": "stream",
          "text": [
            "Test score: 0.10604241696678672\n",
            "\n"
          ],
          "name": "stdout"
        },
        {
          "output_type": "stream",
          "text": [
            " 63%|██████▎   | 126/200 [18:06<13:31, 10.97s/it]"
          ],
          "name": "stderr"
        },
        {
          "output_type": "stream",
          "text": [
            "Epoch 126 complete : \n",
            "Loss : 23263.095575191543\n",
            "Mean Training Loss : 3.101332565683448\n",
            "\n"
          ],
          "name": "stdout"
        },
        {
          "output_type": "stream",
          "text": [
            " 64%|██████▎   | 127/200 [18:07<12:21, 10.16s/it]"
          ],
          "name": "stderr"
        },
        {
          "output_type": "stream",
          "text": [
            "Test score: 0.10684273709483794\n",
            "\n"
          ],
          "name": "stdout"
        },
        {
          "output_type": "stream",
          "text": [
            " 64%|██████▎   | 127/200 [18:15<12:21, 10.16s/it]"
          ],
          "name": "stderr"
        },
        {
          "output_type": "stream",
          "text": [
            "Epoch 127 complete : \n",
            "Loss : 23255.544815195135\n",
            "Mean Training Loss : 3.1003259319017644\n",
            "\n"
          ],
          "name": "stdout"
        },
        {
          "output_type": "stream",
          "text": [
            " 64%|██████▍   | 128/200 [18:15<11:38,  9.70s/it]"
          ],
          "name": "stderr"
        },
        {
          "output_type": "stream",
          "text": [
            "Test score: 0.10684273709483794\n",
            "\n"
          ],
          "name": "stdout"
        },
        {
          "output_type": "stream",
          "text": [
            " 64%|██████▍   | 128/200 [18:23<11:38,  9.70s/it]"
          ],
          "name": "stderr"
        },
        {
          "output_type": "stream",
          "text": [
            "Epoch 128 complete : \n",
            "Loss : 23243.32622044466\n",
            "Mean Training Loss : 3.0986970031255376\n",
            "\n"
          ],
          "name": "stdout"
        },
        {
          "output_type": "stream",
          "text": [
            " 64%|██████▍   | 129/200 [18:24<10:57,  9.25s/it]"
          ],
          "name": "stderr"
        },
        {
          "output_type": "stream",
          "text": [
            "Test score: 0.10644257703081232\n",
            "\n"
          ],
          "name": "stdout"
        },
        {
          "output_type": "stream",
          "text": [
            " 64%|██████▍   | 129/200 [18:32<10:57,  9.25s/it]"
          ],
          "name": "stderr"
        },
        {
          "output_type": "stream",
          "text": [
            "Epoch 129 complete : \n",
            "Loss : 23236.821397030086\n",
            "Mean Training Loss : 3.0978298089628162\n",
            "\n"
          ],
          "name": "stdout"
        },
        {
          "output_type": "stream",
          "text": [
            " 65%|██████▌   | 130/200 [18:33<10:43,  9.19s/it]"
          ],
          "name": "stderr"
        },
        {
          "output_type": "stream",
          "text": [
            "Test score: 0.10764305722288915\n",
            "\n"
          ],
          "name": "stdout"
        },
        {
          "output_type": "stream",
          "text": [
            " 65%|██████▌   | 130/200 [18:41<10:43,  9.19s/it]"
          ],
          "name": "stderr"
        },
        {
          "output_type": "stream",
          "text": [
            "Epoch 130 complete : \n",
            "Loss : 23229.779790318313\n",
            "Mean Training Loss : 3.0968910532353435\n",
            "\n"
          ],
          "name": "stdout"
        },
        {
          "output_type": "stream",
          "text": [
            " 66%|██████▌   | 131/200 [18:41<10:16,  8.94s/it]"
          ],
          "name": "stderr"
        },
        {
          "output_type": "stream",
          "text": [
            "Test score: 0.10324129651860744\n",
            "\n"
          ],
          "name": "stdout"
        },
        {
          "output_type": "stream",
          "text": [
            " 66%|██████▌   | 131/200 [18:49<10:16,  8.94s/it]"
          ],
          "name": "stderr"
        },
        {
          "output_type": "stream",
          "text": [
            "Epoch 131 complete : \n",
            "Loss : 23220.01769462996\n",
            "Mean Training Loss : 3.0955896140021277\n",
            "\n"
          ],
          "name": "stdout"
        },
        {
          "output_type": "stream",
          "text": [
            " 66%|██████▌   | 132/200 [18:49<09:53,  8.73s/it]"
          ],
          "name": "stderr"
        },
        {
          "output_type": "stream",
          "text": [
            "Test score: 0.1056422569027611\n",
            "\n"
          ],
          "name": "stdout"
        },
        {
          "output_type": "stream",
          "text": [
            " 66%|██████▌   | 132/200 [18:57<09:53,  8.73s/it]"
          ],
          "name": "stderr"
        },
        {
          "output_type": "stream",
          "text": [
            "Epoch 132 complete : \n",
            "Loss : 23215.085413131877\n",
            "Mean Training Loss : 3.0949320641423648\n",
            "\n"
          ],
          "name": "stdout"
        },
        {
          "output_type": "stream",
          "text": [
            " 66%|██████▋   | 133/200 [18:58<09:35,  8.59s/it]"
          ],
          "name": "stderr"
        },
        {
          "output_type": "stream",
          "text": [
            "Test score: 0.10404161664665866\n",
            "\n"
          ],
          "name": "stdout"
        },
        {
          "output_type": "stream",
          "text": [
            " 66%|██████▋   | 133/200 [19:05<09:35,  8.59s/it]"
          ],
          "name": "stderr"
        },
        {
          "output_type": "stream",
          "text": [
            "Epoch 133 complete : \n",
            "Loss : 23203.772824267216\n",
            "Mean Training Loss : 3.0934239200462894\n",
            "\n"
          ],
          "name": "stdout"
        },
        {
          "output_type": "stream",
          "text": [
            " 67%|██████▋   | 134/200 [19:06<09:19,  8.48s/it]"
          ],
          "name": "stderr"
        },
        {
          "output_type": "stream",
          "text": [
            "Test score: 0.10444177671068428\n",
            "\n"
          ],
          "name": "stdout"
        },
        {
          "output_type": "stream",
          "text": [
            " 67%|██████▋   | 134/200 [19:14<09:19,  8.48s/it]"
          ],
          "name": "stderr"
        },
        {
          "output_type": "stream",
          "text": [
            "Epoch 134 complete : \n",
            "Loss : 23194.891938476583\n",
            "Mean Training Loss : 3.0922399598022374\n",
            "\n"
          ],
          "name": "stdout"
        },
        {
          "output_type": "stream",
          "text": [
            " 68%|██████▊   | 135/200 [19:14<09:05,  8.39s/it]"
          ],
          "name": "stderr"
        },
        {
          "output_type": "stream",
          "text": [
            "Test score: 0.1056422569027611\n",
            "\n"
          ],
          "name": "stdout"
        },
        {
          "output_type": "stream",
          "text": [
            " 68%|██████▊   | 135/200 [19:22<09:05,  8.39s/it]"
          ],
          "name": "stderr"
        },
        {
          "output_type": "stream",
          "text": [
            "Epoch 135 complete : \n",
            "Loss : 23185.728232831294\n",
            "Mean Training Loss : 3.0910182952714695\n",
            "\n"
          ],
          "name": "stdout"
        },
        {
          "output_type": "stream",
          "text": [
            " 68%|██████▊   | 136/200 [19:22<08:53,  8.34s/it]"
          ],
          "name": "stderr"
        },
        {
          "output_type": "stream",
          "text": [
            "Test score: 0.10484193677470989\n",
            "\n"
          ],
          "name": "stdout"
        },
        {
          "output_type": "stream",
          "text": [
            " 68%|██████▊   | 136/200 [19:30<08:53,  8.34s/it]"
          ],
          "name": "stderr"
        },
        {
          "output_type": "stream",
          "text": [
            "Epoch 136 complete : \n",
            "Loss : 23176.252860203316\n",
            "Mean Training Loss : 3.089755080683018\n",
            "\n"
          ],
          "name": "stdout"
        },
        {
          "output_type": "stream",
          "text": [
            " 68%|██████▊   | 137/200 [19:30<08:42,  8.30s/it]"
          ],
          "name": "stderr"
        },
        {
          "output_type": "stream",
          "text": [
            "Test score: 0.1056422569027611\n",
            "\n"
          ],
          "name": "stdout"
        },
        {
          "output_type": "stream",
          "text": [
            " 68%|██████▊   | 137/200 [19:38<08:42,  8.30s/it]"
          ],
          "name": "stderr"
        },
        {
          "output_type": "stream",
          "text": [
            "Epoch 137 complete : \n",
            "Loss : 23164.348342196874\n",
            "Mean Training Loss : 3.0881680232231536\n",
            "\n"
          ],
          "name": "stdout"
        },
        {
          "output_type": "stream",
          "text": [
            " 69%|██████▉   | 138/200 [19:39<08:31,  8.24s/it]"
          ],
          "name": "stderr"
        },
        {
          "output_type": "stream",
          "text": [
            "Test score: 0.10604241696678672\n",
            "\n"
          ],
          "name": "stdout"
        },
        {
          "output_type": "stream",
          "text": [
            " 69%|██████▉   | 138/200 [19:46<08:31,  8.24s/it]"
          ],
          "name": "stderr"
        },
        {
          "output_type": "stream",
          "text": [
            "Epoch 138 complete : \n",
            "Loss : 23155.623133157675\n",
            "Mean Training Loss : 3.087004817112075\n",
            "\n"
          ],
          "name": "stdout"
        },
        {
          "output_type": "stream",
          "text": [
            " 70%|██████▉   | 139/200 [19:47<08:21,  8.22s/it]"
          ],
          "name": "stderr"
        },
        {
          "output_type": "stream",
          "text": [
            "Test score: 0.10644257703081232\n",
            "\n"
          ],
          "name": "stdout"
        },
        {
          "output_type": "stream",
          "text": [
            " 70%|██████▉   | 139/200 [19:55<08:21,  8.22s/it]"
          ],
          "name": "stderr"
        },
        {
          "output_type": "stream",
          "text": [
            "Epoch 139 complete : \n",
            "Loss : 23141.901587596254\n",
            "Mean Training Loss : 3.0851755216099526\n",
            "\n"
          ],
          "name": "stdout"
        },
        {
          "output_type": "stream",
          "text": [
            " 70%|███████   | 140/200 [19:55<08:13,  8.23s/it]"
          ],
          "name": "stderr"
        },
        {
          "output_type": "stream",
          "text": [
            "Test score: 0.10444177671068428\n",
            "\n"
          ],
          "name": "stdout"
        },
        {
          "output_type": "stream",
          "text": [
            " 70%|███████   | 140/200 [20:03<08:13,  8.23s/it]"
          ],
          "name": "stderr"
        },
        {
          "output_type": "stream",
          "text": [
            "Epoch 140 complete : \n",
            "Loss : 23135.80759626064\n",
            "Mean Training Loss : 3.0843630977550514\n",
            "\n"
          ],
          "name": "stdout"
        },
        {
          "output_type": "stream",
          "text": [
            " 70%|███████   | 141/200 [20:03<08:04,  8.21s/it]"
          ],
          "name": "stderr"
        },
        {
          "output_type": "stream",
          "text": [
            "Test score: 0.10484193677470989\n",
            "\n"
          ],
          "name": "stdout"
        },
        {
          "output_type": "stream",
          "text": [
            " 70%|███████   | 141/200 [20:11<08:04,  8.21s/it]"
          ],
          "name": "stderr"
        },
        {
          "output_type": "stream",
          "text": [
            "Epoch 141 complete : \n",
            "Loss : 23130.65050830011\n",
            "Mean Training Loss : 3.083675577696322\n",
            "\n"
          ],
          "name": "stdout"
        },
        {
          "output_type": "stream",
          "text": [
            " 71%|███████   | 142/200 [20:11<07:54,  8.18s/it]"
          ],
          "name": "stderr"
        },
        {
          "output_type": "stream",
          "text": [
            "Test score: 0.10804321728691477\n",
            "\n"
          ],
          "name": "stdout"
        },
        {
          "output_type": "stream",
          "text": [
            " 71%|███████   | 142/200 [20:19<07:54,  8.18s/it]"
          ],
          "name": "stderr"
        },
        {
          "output_type": "stream",
          "text": [
            "Epoch 142 complete : \n",
            "Loss : 23117.807376827324\n",
            "Mean Training Loss : 3.0819633884585156\n",
            "\n"
          ],
          "name": "stdout"
        },
        {
          "output_type": "stream",
          "text": [
            " 72%|███████▏  | 143/200 [20:19<07:44,  8.16s/it]"
          ],
          "name": "stderr"
        },
        {
          "output_type": "stream",
          "text": [
            "Test score: 0.10604241696678672\n",
            "\n"
          ],
          "name": "stdout"
        },
        {
          "output_type": "stream",
          "text": [
            " 72%|███████▏  | 143/200 [20:27<07:44,  8.16s/it]"
          ],
          "name": "stderr"
        },
        {
          "output_type": "stream",
          "text": [
            "Epoch 143 complete : \n",
            "Loss : 23105.900801920005\n",
            "Mean Training Loss : 3.080376056781763\n",
            "\n"
          ],
          "name": "stdout"
        },
        {
          "output_type": "stream",
          "text": [
            " 72%|███████▏  | 144/200 [20:27<07:35,  8.14s/it]"
          ],
          "name": "stderr"
        },
        {
          "output_type": "stream",
          "text": [
            "Test score: 0.10644257703081232\n",
            "\n"
          ],
          "name": "stdout"
        },
        {
          "output_type": "stream",
          "text": [
            " 72%|███████▏  | 144/200 [20:35<07:35,  8.14s/it]"
          ],
          "name": "stderr"
        },
        {
          "output_type": "stream",
          "text": [
            "Epoch 144 complete : \n",
            "Loss : 23096.674347980625\n",
            "Mean Training Loss : 3.0791460269271598\n",
            "\n"
          ],
          "name": "stdout"
        },
        {
          "output_type": "stream",
          "text": [
            " 72%|███████▎  | 145/200 [20:35<07:26,  8.11s/it]"
          ],
          "name": "stderr"
        },
        {
          "output_type": "stream",
          "text": [
            "Test score: 0.10484193677470989\n",
            "\n"
          ],
          "name": "stdout"
        },
        {
          "output_type": "stream",
          "text": [
            " 72%|███████▎  | 145/200 [20:43<07:26,  8.11s/it]"
          ],
          "name": "stderr"
        },
        {
          "output_type": "stream",
          "text": [
            "Epoch 145 complete : \n",
            "Loss : 23084.89668351197\n",
            "Mean Training Loss : 3.0775758810174607\n",
            "\n"
          ],
          "name": "stdout"
        },
        {
          "output_type": "stream",
          "text": [
            " 73%|███████▎  | 146/200 [20:44<07:17,  8.11s/it]"
          ],
          "name": "stderr"
        },
        {
          "output_type": "stream",
          "text": [
            "Test score: 0.10684273709483794\n",
            "\n"
          ],
          "name": "stdout"
        },
        {
          "output_type": "stream",
          "text": [
            " 73%|███████▎  | 146/200 [20:51<07:17,  8.11s/it]"
          ],
          "name": "stderr"
        },
        {
          "output_type": "stream",
          "text": [
            "Epoch 146 complete : \n",
            "Loss : 23079.458611984683\n",
            "Mean Training Loss : 3.0768509014777607\n",
            "\n"
          ],
          "name": "stdout"
        },
        {
          "output_type": "stream",
          "text": [
            " 74%|███████▎  | 147/200 [20:52<07:11,  8.13s/it]"
          ],
          "name": "stderr"
        },
        {
          "output_type": "stream",
          "text": [
            "Test score: 0.10444177671068428\n",
            "\n"
          ],
          "name": "stdout"
        },
        {
          "output_type": "stream",
          "text": [
            " 74%|███████▎  | 147/200 [21:01<07:11,  8.13s/it]"
          ],
          "name": "stderr"
        },
        {
          "output_type": "stream",
          "text": [
            "Epoch 147 complete : \n",
            "Loss : 23071.23390844011\n",
            "Mean Training Loss : 3.0757544205359433\n",
            "\n"
          ],
          "name": "stdout"
        },
        {
          "output_type": "stream",
          "text": [
            " 74%|███████▍  | 148/200 [21:01<07:26,  8.58s/it]"
          ],
          "name": "stderr"
        },
        {
          "output_type": "stream",
          "text": [
            "Test score: 0.10604241696678672\n",
            "\n"
          ],
          "name": "stdout"
        },
        {
          "output_type": "stream",
          "text": [
            " 74%|███████▍  | 148/200 [21:16<07:26,  8.58s/it]"
          ],
          "name": "stderr"
        },
        {
          "output_type": "stream",
          "text": [
            "Epoch 148 complete : \n",
            "Loss : 23059.96063275215\n",
            "Mean Training Loss : 3.0742515174979537\n",
            "\n"
          ],
          "name": "stdout"
        },
        {
          "output_type": "stream",
          "text": [
            " 74%|███████▍  | 149/200 [21:17<09:08, 10.75s/it]"
          ],
          "name": "stderr"
        },
        {
          "output_type": "stream",
          "text": [
            "Test score: 0.10764305722288915\n",
            "\n"
          ],
          "name": "stdout"
        },
        {
          "output_type": "stream",
          "text": [
            " 74%|███████▍  | 149/200 [21:34<09:08, 10.75s/it]"
          ],
          "name": "stderr"
        },
        {
          "output_type": "stream",
          "text": [
            "Epoch 149 complete : \n",
            "Loss : 23048.005819994225\n",
            "Mean Training Loss : 3.0726577549652347\n",
            "\n"
          ],
          "name": "stdout"
        },
        {
          "output_type": "stream",
          "text": [
            " 75%|███████▌  | 150/200 [21:35<10:40, 12.80s/it]"
          ],
          "name": "stderr"
        },
        {
          "output_type": "stream",
          "text": [
            "Test score: 0.10724289715886355\n",
            "\n"
          ],
          "name": "stdout"
        },
        {
          "output_type": "stream",
          "text": [
            " 75%|███████▌  | 150/200 [21:46<10:40, 12.80s/it]"
          ],
          "name": "stderr"
        },
        {
          "output_type": "stream",
          "text": [
            "Epoch 150 complete : \n",
            "Loss : 23045.171797874424\n",
            "Mean Training Loss : 3.07227993572516\n",
            "\n"
          ],
          "name": "stdout"
        },
        {
          "output_type": "stream",
          "text": [
            " 76%|███████▌  | 151/200 [21:46<10:04, 12.33s/it]"
          ],
          "name": "stderr"
        },
        {
          "output_type": "stream",
          "text": [
            "Test score: 0.10684273709483794\n",
            "\n"
          ],
          "name": "stdout"
        },
        {
          "output_type": "stream",
          "text": [
            " 76%|███████▌  | 151/200 [21:54<10:04, 12.33s/it]"
          ],
          "name": "stderr"
        },
        {
          "output_type": "stream",
          "text": [
            "Epoch 151 complete : \n",
            "Loss : 23030.56830921661\n",
            "Mean Training Loss : 3.0703330634870833\n",
            "\n"
          ],
          "name": "stdout"
        },
        {
          "output_type": "stream",
          "text": [
            " 76%|███████▌  | 152/200 [21:54<08:51, 11.08s/it]"
          ],
          "name": "stderr"
        },
        {
          "output_type": "stream",
          "text": [
            "Test score: 0.10604241696678672\n",
            "\n"
          ],
          "name": "stdout"
        },
        {
          "output_type": "stream",
          "text": [
            " 76%|███████▌  | 152/200 [22:02<08:51, 11.08s/it]"
          ],
          "name": "stderr"
        },
        {
          "output_type": "stream",
          "text": [
            "Epoch 152 complete : \n",
            "Loss : 23024.659303572185\n",
            "Mean Training Loss : 3.069545301102811\n",
            "\n"
          ],
          "name": "stdout"
        },
        {
          "output_type": "stream",
          "text": [
            " 76%|███████▋  | 153/200 [22:03<08:06, 10.36s/it]"
          ],
          "name": "stderr"
        },
        {
          "output_type": "stream",
          "text": [
            "Test score: 0.10484193677470989\n",
            "\n"
          ],
          "name": "stdout"
        },
        {
          "output_type": "stream",
          "text": [
            " 76%|███████▋  | 153/200 [22:11<08:06, 10.36s/it]"
          ],
          "name": "stderr"
        },
        {
          "output_type": "stream",
          "text": [
            "Epoch 153 complete : \n",
            "Loss : 23011.567738472044\n",
            "Mean Training Loss : 3.0677999917973664\n",
            "\n"
          ],
          "name": "stdout"
        },
        {
          "output_type": "stream",
          "text": [
            " 77%|███████▋  | 154/200 [22:11<07:25,  9.68s/it]"
          ],
          "name": "stderr"
        },
        {
          "output_type": "stream",
          "text": [
            "Test score: 0.10404161664665866\n",
            "\n"
          ],
          "name": "stdout"
        },
        {
          "output_type": "stream",
          "text": [
            " 77%|███████▋  | 154/200 [22:19<07:25,  9.68s/it]"
          ],
          "name": "stderr"
        },
        {
          "output_type": "stream",
          "text": [
            "Epoch 154 complete : \n",
            "Loss : 22999.480158506045\n",
            "Mean Training Loss : 3.0661885293302285\n",
            "\n"
          ],
          "name": "stdout"
        },
        {
          "output_type": "stream",
          "text": [
            " 78%|███████▊  | 155/200 [22:19<06:53,  9.19s/it]"
          ],
          "name": "stderr"
        },
        {
          "output_type": "stream",
          "text": [
            "Test score: 0.1056422569027611\n",
            "\n"
          ],
          "name": "stdout"
        },
        {
          "output_type": "stream",
          "text": [
            " 78%|███████▊  | 155/200 [22:27<06:53,  9.19s/it]"
          ],
          "name": "stderr"
        },
        {
          "output_type": "stream",
          "text": [
            "Epoch 155 complete : \n",
            "Loss : 22991.760477950647\n",
            "Mean Training Loss : 3.065159375809978\n",
            "\n"
          ],
          "name": "stdout"
        },
        {
          "output_type": "stream",
          "text": [
            " 78%|███████▊  | 156/200 [22:27<06:30,  8.87s/it]"
          ],
          "name": "stderr"
        },
        {
          "output_type": "stream",
          "text": [
            "Test score: 0.1056422569027611\n",
            "\n"
          ],
          "name": "stdout"
        },
        {
          "output_type": "stream",
          "text": [
            " 78%|███████▊  | 156/200 [22:37<06:30,  8.87s/it]"
          ],
          "name": "stderr"
        },
        {
          "output_type": "stream",
          "text": [
            "Epoch 156 complete : \n",
            "Loss : 22983.70808187638\n",
            "Mean Training Loss : 3.064085866134699\n",
            "\n"
          ],
          "name": "stdout"
        },
        {
          "output_type": "stream",
          "text": [
            " 78%|███████▊  | 157/200 [22:38<06:44,  9.41s/it]"
          ],
          "name": "stderr"
        },
        {
          "output_type": "stream",
          "text": [
            "Test score: 0.10524209683873549\n",
            "\n"
          ],
          "name": "stdout"
        },
        {
          "output_type": "stream",
          "text": [
            " 78%|███████▊  | 157/200 [22:54<06:44,  9.41s/it]"
          ],
          "name": "stderr"
        },
        {
          "output_type": "stream",
          "text": [
            "Epoch 157 complete : \n",
            "Loss : 22971.134928707226\n",
            "Mean Training Loss : 3.0624096692050693\n",
            "\n"
          ],
          "name": "stdout"
        },
        {
          "output_type": "stream",
          "text": [
            " 79%|███████▉  | 158/200 [22:55<08:09, 11.65s/it]"
          ],
          "name": "stderr"
        },
        {
          "output_type": "stream",
          "text": [
            "Test score: 0.1092436974789916\n",
            "\n"
          ],
          "name": "stdout"
        },
        {
          "output_type": "stream",
          "text": [
            " 79%|███████▉  | 158/200 [23:12<08:09, 11.65s/it]"
          ],
          "name": "stderr"
        },
        {
          "output_type": "stream",
          "text": [
            "Epoch 158 complete : \n",
            "Loss : 22964.107200202525\n",
            "Mean Training Loss : 3.0614727636585157\n",
            "\n"
          ],
          "name": "stdout"
        },
        {
          "output_type": "stream",
          "text": [
            " 80%|███████▉  | 159/200 [23:13<09:13, 13.51s/it]"
          ],
          "name": "stderr"
        },
        {
          "output_type": "stream",
          "text": [
            "Test score: 0.10884353741496598\n",
            "\n"
          ],
          "name": "stdout"
        },
        {
          "output_type": "stream",
          "text": [
            " 80%|███████▉  | 159/200 [23:21<09:13, 13.51s/it]"
          ],
          "name": "stderr"
        },
        {
          "output_type": "stream",
          "text": [
            "Epoch 159 complete : \n",
            "Loss : 22955.99124343203\n",
            "Mean Training Loss : 3.060390780353557\n",
            "\n"
          ],
          "name": "stdout"
        },
        {
          "output_type": "stream",
          "text": [
            " 80%|████████  | 160/200 [23:22<08:06, 12.15s/it]"
          ],
          "name": "stderr"
        },
        {
          "output_type": "stream",
          "text": [
            "Test score: 0.1092436974789916\n",
            "\n"
          ],
          "name": "stdout"
        },
        {
          "output_type": "stream",
          "text": [
            " 80%|████████  | 160/200 [23:29<08:06, 12.15s/it]"
          ],
          "name": "stderr"
        },
        {
          "output_type": "stream",
          "text": [
            "Epoch 160 complete : \n",
            "Loss : 22943.2119071502\n",
            "Mean Training Loss : 3.0586870960072257\n",
            "\n"
          ],
          "name": "stdout"
        },
        {
          "output_type": "stream",
          "text": [
            " 80%|████████  | 161/200 [23:30<07:06, 10.93s/it]"
          ],
          "name": "stderr"
        },
        {
          "output_type": "stream",
          "text": [
            "Test score: 0.10884353741496598\n",
            "\n"
          ],
          "name": "stdout"
        },
        {
          "output_type": "stream",
          "text": [
            " 80%|████████  | 161/200 [23:38<07:06, 10.93s/it]"
          ],
          "name": "stderr"
        },
        {
          "output_type": "stream",
          "text": [
            "Epoch 161 complete : \n",
            "Loss : 22931.184284643416\n",
            "Mean Training Loss : 3.057083626802215\n",
            "\n"
          ],
          "name": "stdout"
        },
        {
          "output_type": "stream",
          "text": [
            " 81%|████████  | 162/200 [23:38<06:26, 10.17s/it]"
          ],
          "name": "stderr"
        },
        {
          "output_type": "stream",
          "text": [
            "Test score: 0.11124449779911964\n",
            "\n"
          ],
          "name": "stdout"
        },
        {
          "output_type": "stream",
          "text": [
            " 81%|████████  | 162/200 [23:46<06:26, 10.17s/it]"
          ],
          "name": "stderr"
        },
        {
          "output_type": "stream",
          "text": [
            "Epoch 162 complete : \n",
            "Loss : 22916.67881458331\n",
            "Mean Training Loss : 3.055149821968179\n",
            "\n"
          ],
          "name": "stdout"
        },
        {
          "output_type": "stream",
          "text": [
            " 82%|████████▏ | 163/200 [23:47<06:00,  9.75s/it]"
          ],
          "name": "stderr"
        },
        {
          "output_type": "stream",
          "text": [
            "Test score: 0.10884353741496598\n",
            "\n"
          ],
          "name": "stdout"
        },
        {
          "output_type": "stream",
          "text": [
            " 82%|████████▏ | 163/200 [23:55<06:00,  9.75s/it]"
          ],
          "name": "stderr"
        },
        {
          "output_type": "stream",
          "text": [
            "Epoch 163 complete : \n",
            "Loss : 22902.947353494485\n",
            "Mean Training Loss : 3.0533192045719884\n",
            "\n"
          ],
          "name": "stdout"
        },
        {
          "output_type": "stream",
          "text": [
            " 82%|████████▏ | 164/200 [23:55<05:34,  9.29s/it]"
          ],
          "name": "stderr"
        },
        {
          "output_type": "stream",
          "text": [
            "Test score: 0.10844337735094038\n",
            "\n"
          ],
          "name": "stdout"
        },
        {
          "output_type": "stream",
          "text": [
            " 82%|████████▏ | 164/200 [24:03<05:34,  9.29s/it]"
          ],
          "name": "stderr"
        },
        {
          "output_type": "stream",
          "text": [
            "Epoch 164 complete : \n",
            "Loss : 22893.345155330346\n",
            "Mean Training Loss : 3.052039082166424\n",
            "\n"
          ],
          "name": "stdout"
        },
        {
          "output_type": "stream",
          "text": [
            " 82%|████████▎ | 165/200 [24:03<05:13,  8.94s/it]"
          ],
          "name": "stderr"
        },
        {
          "output_type": "stream",
          "text": [
            "Test score: 0.11164465786314526\n",
            "\n"
          ],
          "name": "stdout"
        },
        {
          "output_type": "stream",
          "text": [
            " 82%|████████▎ | 165/200 [24:16<05:13,  8.94s/it]"
          ],
          "name": "stderr"
        },
        {
          "output_type": "stream",
          "text": [
            "Epoch 165 complete : \n",
            "Loss : 22884.66037299774\n",
            "Mean Training Loss : 3.05088126556429\n",
            "\n"
          ],
          "name": "stdout"
        },
        {
          "output_type": "stream",
          "text": [
            " 83%|████████▎ | 166/200 [24:17<05:56, 10.49s/it]"
          ],
          "name": "stderr"
        },
        {
          "output_type": "stream",
          "text": [
            "Test score: 0.11004401760704281\n",
            "\n"
          ],
          "name": "stdout"
        },
        {
          "output_type": "stream",
          "text": [
            " 83%|████████▎ | 166/200 [24:33<05:56, 10.49s/it]"
          ],
          "name": "stderr"
        },
        {
          "output_type": "stream",
          "text": [
            "Epoch 166 complete : \n",
            "Loss : 22871.086485379514\n",
            "Mean Training Loss : 3.049071655163247\n",
            "\n"
          ],
          "name": "stdout"
        },
        {
          "output_type": "stream",
          "text": [
            " 84%|████████▎ | 167/200 [24:34<06:51, 12.46s/it]"
          ],
          "name": "stderr"
        },
        {
          "output_type": "stream",
          "text": [
            "Test score: 0.11044417767106843\n",
            "\n"
          ],
          "name": "stdout"
        },
        {
          "output_type": "stream",
          "text": [
            " 84%|████████▎ | 167/200 [24:49<06:51, 12.46s/it]"
          ],
          "name": "stderr"
        },
        {
          "output_type": "stream",
          "text": [
            "Epoch 167 complete : \n",
            "Loss : 22860.436558435093\n",
            "Mean Training Loss : 3.0476518542107844\n",
            "\n"
          ],
          "name": "stdout"
        },
        {
          "output_type": "stream",
          "text": [
            " 84%|████████▍ | 168/200 [24:49<07:02, 13.20s/it]"
          ],
          "name": "stderr"
        },
        {
          "output_type": "stream",
          "text": [
            "Test score: 0.11164465786314526\n",
            "\n"
          ],
          "name": "stdout"
        },
        {
          "output_type": "stream",
          "text": [
            " 84%|████████▍ | 168/200 [24:57<07:02, 13.20s/it]"
          ],
          "name": "stderr"
        },
        {
          "output_type": "stream",
          "text": [
            "Epoch 168 complete : \n",
            "Loss : 22847.832235262587\n",
            "Mean Training Loss : 3.045971501834767\n",
            "\n"
          ],
          "name": "stdout"
        },
        {
          "output_type": "stream",
          "text": [
            " 84%|████████▍ | 169/200 [24:57<06:02, 11.69s/it]"
          ],
          "name": "stderr"
        },
        {
          "output_type": "stream",
          "text": [
            "Test score: 0.11244497799119647\n",
            "\n"
          ],
          "name": "stdout"
        },
        {
          "output_type": "stream",
          "text": [
            " 84%|████████▍ | 169/200 [25:05<06:02, 11.69s/it]"
          ],
          "name": "stderr"
        },
        {
          "output_type": "stream",
          "text": [
            "Epoch 169 complete : \n",
            "Loss : 22837.131771145097\n",
            "Mean Training Loss : 3.044544963490881\n",
            "\n"
          ],
          "name": "stdout"
        },
        {
          "output_type": "stream",
          "text": [
            " 85%|████████▌ | 170/200 [25:06<05:19, 10.65s/it]"
          ],
          "name": "stderr"
        },
        {
          "output_type": "stream",
          "text": [
            "Test score: 0.11244497799119647\n",
            "\n"
          ],
          "name": "stdout"
        },
        {
          "output_type": "stream",
          "text": [
            " 85%|████████▌ | 170/200 [25:13<05:19, 10.65s/it]"
          ],
          "name": "stderr"
        },
        {
          "output_type": "stream",
          "text": [
            "Epoch 170 complete : \n",
            "Loss : 22827.317429806226\n",
            "Mean Training Loss : 3.0432365590996167\n",
            "\n"
          ],
          "name": "stdout"
        },
        {
          "output_type": "stream",
          "text": [
            " 86%|████████▌ | 171/200 [25:14<04:47,  9.91s/it]"
          ],
          "name": "stderr"
        },
        {
          "output_type": "stream",
          "text": [
            "Test score: 0.1132452981192477\n",
            "\n"
          ],
          "name": "stdout"
        },
        {
          "output_type": "stream",
          "text": [
            " 86%|████████▌ | 171/200 [25:22<04:47,  9.91s/it]"
          ],
          "name": "stderr"
        },
        {
          "output_type": "stream",
          "text": [
            "Epoch 171 complete : \n",
            "Loss : 22821.9494150782\n",
            "Mean Training Loss : 3.0425209192211975\n",
            "\n"
          ],
          "name": "stdout"
        },
        {
          "output_type": "stream",
          "text": [
            " 86%|████████▌ | 172/200 [25:22<04:22,  9.38s/it]"
          ],
          "name": "stderr"
        },
        {
          "output_type": "stream",
          "text": [
            "Test score: 0.11524609843937575\n",
            "\n"
          ],
          "name": "stdout"
        },
        {
          "output_type": "stream",
          "text": [
            " 86%|████████▌ | 172/200 [25:30<04:22,  9.38s/it]"
          ],
          "name": "stderr"
        },
        {
          "output_type": "stream",
          "text": [
            "Epoch 172 complete : \n",
            "Loss : 22806.582249606996\n",
            "Mean Training Loss : 3.0404722369826684\n",
            "\n"
          ],
          "name": "stdout"
        },
        {
          "output_type": "stream",
          "text": [
            " 86%|████████▋ | 173/200 [25:30<04:03,  9.01s/it]"
          ],
          "name": "stderr"
        },
        {
          "output_type": "stream",
          "text": [
            "Test score: 0.1136454581832733\n",
            "\n"
          ],
          "name": "stdout"
        },
        {
          "output_type": "stream",
          "text": [
            " 86%|████████▋ | 173/200 [25:39<04:03,  9.01s/it]"
          ],
          "name": "stderr"
        },
        {
          "output_type": "stream",
          "text": [
            "Epoch 173 complete : \n",
            "Loss : 22796.073506404722\n",
            "Mean Training Loss : 3.0390712580195602\n",
            "\n"
          ],
          "name": "stdout"
        },
        {
          "output_type": "stream",
          "text": [
            " 87%|████████▋ | 174/200 [25:40<04:03,  9.36s/it]"
          ],
          "name": "stderr"
        },
        {
          "output_type": "stream",
          "text": [
            "Test score: 0.11404561824729892\n",
            "\n"
          ],
          "name": "stdout"
        },
        {
          "output_type": "stream",
          "text": [
            " 87%|████████▋ | 174/200 [25:56<04:03,  9.36s/it]"
          ],
          "name": "stderr"
        },
        {
          "output_type": "stream",
          "text": [
            "Epoch 174 complete : \n",
            "Loss : 22787.253354723747\n",
            "Mean Training Loss : 3.0378953945772227\n",
            "\n"
          ],
          "name": "stdout"
        },
        {
          "output_type": "stream",
          "text": [
            " 88%|████████▊ | 175/200 [25:57<04:46, 11.48s/it]"
          ],
          "name": "stderr"
        },
        {
          "output_type": "stream",
          "text": [
            "Test score: 0.11284513805522209\n",
            "\n"
          ],
          "name": "stdout"
        },
        {
          "output_type": "stream",
          "text": [
            " 88%|████████▊ | 175/200 [26:13<04:46, 11.48s/it]"
          ],
          "name": "stderr"
        },
        {
          "output_type": "stream",
          "text": [
            "Epoch 175 complete : \n",
            "Loss : 22774.398704386134\n",
            "Mean Training Loss : 3.0361816696955253\n",
            "\n"
          ],
          "name": "stdout"
        },
        {
          "output_type": "stream",
          "text": [
            " 88%|████████▊ | 176/200 [26:14<05:17, 13.22s/it]"
          ],
          "name": "stderr"
        },
        {
          "output_type": "stream",
          "text": [
            "Test score: 0.11604641856742696\n",
            "\n"
          ],
          "name": "stdout"
        },
        {
          "output_type": "stream",
          "text": [
            " 88%|████████▊ | 176/200 [26:25<05:17, 13.22s/it]"
          ],
          "name": "stderr"
        },
        {
          "output_type": "stream",
          "text": [
            "Epoch 176 complete : \n",
            "Loss : 22760.77363801849\n",
            "Mean Training Loss : 3.0343652363709492\n",
            "\n"
          ],
          "name": "stdout"
        },
        {
          "output_type": "stream",
          "text": [
            " 88%|████████▊ | 177/200 [26:25<04:50, 12.64s/it]"
          ],
          "name": "stderr"
        },
        {
          "output_type": "stream",
          "text": [
            "Test score: 0.11484593837535013\n",
            "\n"
          ],
          "name": "stdout"
        },
        {
          "output_type": "stream",
          "text": [
            " 88%|████████▊ | 177/200 [26:33<04:50, 12.64s/it]"
          ],
          "name": "stderr"
        },
        {
          "output_type": "stream",
          "text": [
            "Epoch 177 complete : \n",
            "Loss : 22745.556931112355\n",
            "Mean Training Loss : 3.032336612599967\n",
            "\n"
          ],
          "name": "stdout"
        },
        {
          "output_type": "stream",
          "text": [
            " 89%|████████▉ | 178/200 [26:33<04:08, 11.31s/it]"
          ],
          "name": "stderr"
        },
        {
          "output_type": "stream",
          "text": [
            "Test score: 0.1136454581832733\n",
            "\n"
          ],
          "name": "stdout"
        },
        {
          "output_type": "stream",
          "text": [
            " 89%|████████▉ | 178/200 [26:41<04:08, 11.31s/it]"
          ],
          "name": "stderr"
        },
        {
          "output_type": "stream",
          "text": [
            "Epoch 178 complete : \n",
            "Loss : 22736.76181718904\n",
            "Mean Training Loss : 3.031164087080261\n",
            "\n"
          ],
          "name": "stdout"
        },
        {
          "output_type": "stream",
          "text": [
            " 90%|████████▉ | 179/200 [26:42<03:38, 10.41s/it]"
          ],
          "name": "stderr"
        },
        {
          "output_type": "stream",
          "text": [
            "Test score: 0.11484593837535013\n",
            "\n"
          ],
          "name": "stdout"
        },
        {
          "output_type": "stream",
          "text": [
            " 90%|████████▉ | 179/200 [26:51<03:38, 10.41s/it]"
          ],
          "name": "stderr"
        },
        {
          "output_type": "stream",
          "text": [
            "Epoch 179 complete : \n",
            "Loss : 22727.524550862203\n",
            "Mean Training Loss : 3.0299326157661914\n",
            "\n"
          ],
          "name": "stdout"
        },
        {
          "output_type": "stream",
          "text": [
            " 90%|█████████ | 180/200 [26:52<03:26, 10.31s/it]"
          ],
          "name": "stderr"
        },
        {
          "output_type": "stream",
          "text": [
            "Test score: 0.11484593837535013\n",
            "\n"
          ],
          "name": "stdout"
        },
        {
          "output_type": "stream",
          "text": [
            " 90%|█████████ | 180/200 [27:08<03:26, 10.31s/it]"
          ],
          "name": "stderr"
        },
        {
          "output_type": "stream",
          "text": [
            "Epoch 180 complete : \n",
            "Loss : 22715.559443399405\n",
            "Mean Training Loss : 3.0283374807891486\n",
            "\n"
          ],
          "name": "stdout"
        },
        {
          "output_type": "stream",
          "text": [
            " 90%|█████████ | 181/200 [27:09<03:54, 12.36s/it]"
          ],
          "name": "stderr"
        },
        {
          "output_type": "stream",
          "text": [
            "Test score: 0.1136454581832733\n",
            "\n"
          ],
          "name": "stdout"
        },
        {
          "output_type": "stream",
          "text": [
            " 90%|█████████ | 181/200 [27:26<03:54, 12.36s/it]"
          ],
          "name": "stderr"
        },
        {
          "output_type": "stream",
          "text": [
            "Epoch 181 complete : \n",
            "Loss : 22702.139161476247\n",
            "Mean Training Loss : 3.026548348417044\n",
            "\n"
          ],
          "name": "stdout"
        },
        {
          "output_type": "stream",
          "text": [
            " 91%|█████████ | 182/200 [27:27<04:14, 14.16s/it]"
          ],
          "name": "stderr"
        },
        {
          "output_type": "stream",
          "text": [
            "Test score: 0.11524609843937575\n",
            "\n"
          ],
          "name": "stdout"
        },
        {
          "output_type": "stream",
          "text": [
            " 91%|█████████ | 182/200 [27:37<04:14, 14.16s/it]"
          ],
          "name": "stderr"
        },
        {
          "output_type": "stream",
          "text": [
            "Epoch 182 complete : \n",
            "Loss : 22686.525004298917\n",
            "Mean Training Loss : 3.02446673834141\n",
            "\n"
          ],
          "name": "stdout"
        },
        {
          "output_type": "stream",
          "text": [
            " 92%|█████████▏| 183/200 [27:37<03:37, 12.79s/it]"
          ],
          "name": "stderr"
        },
        {
          "output_type": "stream",
          "text": [
            "Test score: 0.11524609843937575\n",
            "\n"
          ],
          "name": "stdout"
        },
        {
          "output_type": "stream",
          "text": [
            " 92%|█████████▏| 183/200 [27:45<03:37, 12.79s/it]"
          ],
          "name": "stderr"
        },
        {
          "output_type": "stream",
          "text": [
            "Epoch 183 complete : \n",
            "Loss : 22679.49638096413\n",
            "Mean Training Loss : 3.0235297135000843\n",
            "\n"
          ],
          "name": "stdout"
        },
        {
          "output_type": "stream",
          "text": [
            " 92%|█████████▏| 184/200 [27:45<03:02, 11.41s/it]"
          ],
          "name": "stderr"
        },
        {
          "output_type": "stream",
          "text": [
            "Test score: 0.11444577831132453\n",
            "\n"
          ],
          "name": "stdout"
        },
        {
          "output_type": "stream",
          "text": [
            " 92%|█████████▏| 184/200 [27:53<03:02, 11.41s/it]"
          ],
          "name": "stderr"
        },
        {
          "output_type": "stream",
          "text": [
            "Epoch 184 complete : \n",
            "Loss : 22667.3636418157\n",
            "Mean Training Loss : 3.021912230611345\n",
            "\n"
          ],
          "name": "stdout"
        },
        {
          "output_type": "stream",
          "text": [
            " 92%|█████████▎| 185/200 [27:53<02:36, 10.45s/it]"
          ],
          "name": "stderr"
        },
        {
          "output_type": "stream",
          "text": [
            "Test score: 0.11644657863145258\n",
            "\n"
          ],
          "name": "stdout"
        },
        {
          "output_type": "stream",
          "text": [
            " 92%|█████████▎| 185/200 [28:01<02:36, 10.45s/it]"
          ],
          "name": "stderr"
        },
        {
          "output_type": "stream",
          "text": [
            "Epoch 185 complete : \n",
            "Loss : 22653.868838333638\n",
            "Mean Training Loss : 3.0201131633560374\n",
            "\n"
          ],
          "name": "stdout"
        },
        {
          "output_type": "stream",
          "text": [
            " 93%|█████████▎| 186/200 [28:01<02:16,  9.76s/it]"
          ],
          "name": "stderr"
        },
        {
          "output_type": "stream",
          "text": [
            "Test score: 0.11404561824729892\n",
            "\n"
          ],
          "name": "stdout"
        },
        {
          "output_type": "stream",
          "text": [
            " 93%|█████████▎| 186/200 [28:09<02:16,  9.76s/it]"
          ],
          "name": "stderr"
        },
        {
          "output_type": "stream",
          "text": [
            "Epoch 186 complete : \n",
            "Loss : 22640.982007533887\n",
            "Mean Training Loss : 3.018395148318076\n",
            "\n"
          ],
          "name": "stdout"
        },
        {
          "output_type": "stream",
          "text": [
            " 94%|█████████▎| 187/200 [28:10<02:00,  9.29s/it]"
          ],
          "name": "stderr"
        },
        {
          "output_type": "stream",
          "text": [
            "Test score: 0.11444577831132453\n",
            "\n"
          ],
          "name": "stdout"
        },
        {
          "output_type": "stream",
          "text": [
            " 94%|█████████▎| 187/200 [28:18<02:00,  9.29s/it]"
          ],
          "name": "stderr"
        },
        {
          "output_type": "stream",
          "text": [
            "Epoch 187 complete : \n",
            "Loss : 22631.553262155605\n",
            "Mean Training Loss : 3.0171381498674315\n",
            "\n"
          ],
          "name": "stdout"
        },
        {
          "output_type": "stream",
          "text": [
            " 94%|█████████▍| 188/200 [28:18<01:48,  9.02s/it]"
          ],
          "name": "stderr"
        },
        {
          "output_type": "stream",
          "text": [
            "Test score: 0.11484593837535013\n",
            "\n"
          ],
          "name": "stdout"
        }
      ]
    },
    {
      "metadata": {
        "id": "OTT9n79bSVpa",
        "colab_type": "code",
        "outputId": "618cf5d2-dd86-4f49-a38a-6d18206daba8",
        "colab": {
          "base_uri": "https://localhost:8080/",
          "height": 34
        }
      },
      "cell_type": "code",
      "source": [
        "model.sizes"
      ],
      "execution_count": 8,
      "outputs": [
        {
          "output_type": "execute_result",
          "data": {
            "text/plain": [
              "[72, 200, 100, 31]"
            ]
          },
          "metadata": {
            "tags": []
          },
          "execution_count": 8
        }
      ]
    },
    {
      "metadata": {
        "id": "4Rq5lCVynr6g",
        "colab_type": "code",
        "colab": {}
      },
      "cell_type": "code",
      "source": [
        "%matplotlib inline\n",
        "\n",
        "model.figures_plot('errors',('Errors for NN of '+str(model.sizes)))\n"
      ],
      "execution_count": 0,
      "outputs": []
    },
    {
      "metadata": {
        "id": "Z6F0aunbqfyP",
        "colab_type": "code",
        "colab": {}
      },
      "cell_type": "code",
      "source": [
        "x = model.train_errors"
      ],
      "execution_count": 0,
      "outputs": []
    },
    {
      "metadata": {
        "id": "sp0mYJ-urGJt",
        "colab_type": "code",
        "colab": {}
      },
      "cell_type": "code",
      "source": [
        "model.train_errors /= np.max(model.train_errors)"
      ],
      "execution_count": 0,
      "outputs": []
    },
    {
      "metadata": {
        "id": "SEYnmh7ir7fi",
        "colab_type": "code",
        "outputId": "0f930745-67af-452c-94d1-954c9791dfb3",
        "colab": {
          "base_uri": "https://localhost:8080/",
          "height": 697
        }
      },
      "cell_type": "code",
      "source": [
        "model.train_errors"
      ],
      "execution_count": 12,
      "outputs": [
        {
          "output_type": "execute_result",
          "data": {
            "text/plain": [
              "array([1.        , 0.99782384, 0.99719786, 0.99658525, 0.99558165,\n",
              "       0.99375851, 0.99009181, 0.98426421, 0.97840528, 0.97474583,\n",
              "       0.97266658, 0.97115143, 0.97010442, 0.96912634, 0.96814777,\n",
              "       0.96714832, 0.96608279, 0.96465019, 0.9628922 , 0.96067108,\n",
              "       0.95859694, 0.95665968, 0.95516508, 0.9539401 , 0.9530397 ,\n",
              "       0.95223758, 0.95142872, 0.950855  , 0.95019959, 0.94957237,\n",
              "       0.94902473, 0.94862247, 0.9481468 , 0.94756441, 0.94701661,\n",
              "       0.94664376, 0.9461461 , 0.94570493, 0.94534116, 0.94477978,\n",
              "       0.9444307 , 0.94396743, 0.94354166, 0.94309047, 0.9426644 ,\n",
              "       0.94204609, 0.94162819, 0.94107531, 0.94055134, 0.94001741,\n",
              "       0.9393908 , 0.93891306, 0.9385443 , 0.93791612, 0.93719817,\n",
              "       0.93645168, 0.93584861, 0.9350708 , 0.9341589 , 0.93343715,\n",
              "       0.93234554, 0.93204402, 0.9311074 , 0.93034638, 0.92933309,\n",
              "       0.92878563, 0.92803775, 0.92712471, 0.92625509, 0.92579765,\n",
              "       0.92498323, 0.92412887, 0.92312704, 0.92249064, 0.92140671,\n",
              "       0.92023115, 0.92002532, 0.91904166, 0.91804486, 0.91752323,\n",
              "       0.91685599, 0.91568142, 0.91491211, 0.91392138, 0.91307798,\n",
              "       0.91215886, 0.9114758 , 0.91010351, 0.90937885, 0.90874499,\n",
              "       0.90772674, 0.90677995, 0.90593635, 0.90505602, 0.90457507,\n",
              "       0.9035752 , 0.90285917, 0.90183912, 0.9014671 , 0.90040722,\n",
              "       0.90025619, 0.89941004, 0.89838538, 0.89761937, 0.89688695,\n",
              "       0.89608527, 0.8955294 , 0.89477916, 0.89398486, 0.89324585,\n",
              "       0.89227629, 0.89145272, 0.89073857, 0.88976947, 0.88893613,\n",
              "       0.88868001, 0.88761696, 0.88654028, 0.88597048, 0.8850032 ,\n",
              "       0.8845931 , 0.8838963 , 0.88270906, 0.88160121, 0.88061774,\n",
              "       0.88027613, 0.8791083 , 0.87829923, 0.87725265, 0.8758768 ,\n",
              "       0.87607489, 0.8752924 , 0.87467113, 0.87245429, 0.87306663,\n",
              "       0.87173979, 0.87044717, 0.87026067, 0.86901647, 0.86874358,\n",
              "       0.86722545, 0.86661146, 0.86572913, 0.86498076, 0.86421389,\n",
              "       0.86301133, 0.86272797, 0.86202441, 0.86100028, 0.85984801,\n",
              "       0.85951655, 0.85831589, 0.85721131, 0.85613314, 0.85442289,\n",
              "       0.85487415, 0.85271222, 0.85140347, 0.85114523, 0.84981183,\n",
              "       0.84898406, 0.84782859, 0.84637347, 0.84603118, 0.8444617 ,\n",
              "       0.84401905, 0.84319922, 0.84166213, 0.84034049, 0.84011019,\n",
              "       0.83936183, 0.83841008, 0.83692735, 0.83621056, 0.83499253,\n",
              "       0.83422355, 0.83328525, 0.83176275, 0.83045076, 0.82963345,\n",
              "       0.8288774 , 0.82747916, 0.82665349, 0.8257099 , 0.82492167,\n",
              "       0.82323133, 0.82208456, 0.82140354, 0.82048508, 0.81924814,\n",
              "       0.8188857 , 0.81659115, 0.81669389, 0.81461891, 0.81412719,\n",
              "       0.81362059, 0.81294996, 0.8104379 , 0.80978001, 0.80942867])"
            ]
          },
          "metadata": {
            "tags": []
          },
          "execution_count": 12
        }
      ]
    },
    {
      "metadata": {
        "id": "k2MJjFPEsDqE",
        "colab_type": "code",
        "outputId": "5ec66021-39c4-43e8-bd0d-5f927e4c0471",
        "colab": {
          "base_uri": "https://localhost:8080/",
          "height": 3417
        }
      },
      "cell_type": "code",
      "source": [
        "model.test_errors"
      ],
      "execution_count": 13,
      "outputs": [
        {
          "output_type": "execute_result",
          "data": {
            "text/plain": [
              "[0.938375350140056,\n",
              " 0.938375350140056,\n",
              " 0.938375350140056,\n",
              " 0.938375350140056,\n",
              " 0.938375350140056,\n",
              " 0.9259703881552621,\n",
              " 0.9295718287314926,\n",
              " 0.9339735894357744,\n",
              " 0.9327731092436975,\n",
              " 0.9311724689875951,\n",
              " 0.9283713485394157,\n",
              " 0.927170868347339,\n",
              " 0.9275710284113645,\n",
              " 0.9283713485394157,\n",
              " 0.9243697478991597,\n",
              " 0.9243697478991597,\n",
              " 0.9231692677070829,\n",
              " 0.9199679871948779,\n",
              " 0.9151660664265706,\n",
              " 0.9143657462985194,\n",
              " 0.9135654261704682,\n",
              " 0.9087635054021609,\n",
              " 0.9079631852741097,\n",
              " 0.9091636654661864,\n",
              " 0.9059623849539816,\n",
              " 0.9063625450180072,\n",
              " 0.9051620648259304,\n",
              " 0.9059623849539816,\n",
              " 0.9039615846338536,\n",
              " 0.900360144057623,\n",
              " 0.9007603041216486,\n",
              " 0.8999599839935974,\n",
              " 0.9015606242496998,\n",
              " 0.8995598239295718,\n",
              " 0.8999599839935974,\n",
              " 0.9027611044417767,\n",
              " 0.9027611044417767,\n",
              " 0.9019607843137255,\n",
              " 0.9007603041216486,\n",
              " 0.9043617446978791,\n",
              " 0.9023609443777512,\n",
              " 0.9039615846338536,\n",
              " 0.9023609443777512,\n",
              " 0.9011604641856743,\n",
              " 0.9031612645058024,\n",
              " 0.9019607843137255,\n",
              " 0.9019607843137255,\n",
              " 0.9019607843137255,\n",
              " 0.9031612645058024,\n",
              " 0.9011604641856743,\n",
              " 0.9019607843137255,\n",
              " 0.9031612645058024,\n",
              " 0.9007603041216486,\n",
              " 0.900360144057623,\n",
              " 0.9015606242496998,\n",
              " 0.8999599839935974,\n",
              " 0.8991596638655462,\n",
              " 0.9007603041216486,\n",
              " 0.8987595038015206,\n",
              " 0.8999599839935974,\n",
              " 0.8991596638655462,\n",
              " 0.8991596638655462,\n",
              " 0.898359343737495,\n",
              " 0.896358543417367,\n",
              " 0.8971588635454182,\n",
              " 0.896358543417367,\n",
              " 0.896358543417367,\n",
              " 0.8919567827130852,\n",
              " 0.8947579031612645,\n",
              " 0.8939575830332133,\n",
              " 0.8951580632252901,\n",
              " 0.8931572629051621,\n",
              " 0.8979591836734694,\n",
              " 0.8955582232893158,\n",
              " 0.8947579031612645,\n",
              " 0.8959583833533413,\n",
              " 0.896358543417367,\n",
              " 0.8959583833533413,\n",
              " 0.8991596638655462,\n",
              " 0.8955582232893158,\n",
              " 0.8951580632252901,\n",
              " 0.8935574229691877,\n",
              " 0.8915566226490597,\n",
              " 0.8931572629051621,\n",
              " 0.8935574229691877,\n",
              " 0.8863545418167267,\n",
              " 0.8931572629051621,\n",
              " 0.891156462585034,\n",
              " 0.8887555022008804,\n",
              " 0.8931572629051621,\n",
              " 0.8855542216886755,\n",
              " 0.8863545418167267,\n",
              " 0.8847539015606243,\n",
              " 0.8843537414965986,\n",
              " 0.8863545418167267,\n",
              " 0.891156462585034,\n",
              " 0.8939575830332133,\n",
              " 0.8863545418167267,\n",
              " 0.8847539015606243,\n",
              " 0.8887555022008804,\n",
              " 0.8867547018807523,\n",
              " 0.8871548619447779,\n",
              " 0.8903561424569828,\n",
              " 0.8891556622649059,\n",
              " 0.8903561424569828,\n",
              " 0.8907563025210083,\n",
              " 0.891156462585034,\n",
              " 0.881952781112445,\n",
              " 0.891156462585034,\n",
              " 0.8915566226490597,\n",
              " 0.8915566226490597,\n",
              " 0.8863545418167267,\n",
              " 0.8831532613045218,\n",
              " 0.8831532613045218,\n",
              " 0.8875550220088035,\n",
              " 0.8855542216886755,\n",
              " 0.8835534213685474,\n",
              " 0.8763505402160865,\n",
              " 0.8811524609843937,\n",
              " 0.8823529411764706,\n",
              " 0.8787515006002401,\n",
              " 0.8771508603441377,\n",
              " 0.879951980792317,\n",
              " 0.8779511804721889,\n",
              " 0.8855542216886755,\n",
              " 0.879951980792317,\n",
              " 0.8831532613045218,\n",
              " 0.881952781112445,\n",
              " 0.8847539015606243,\n",
              " 0.8815526210484194,\n",
              " 0.8843537414965986,\n",
              " 0.8811524609843937,\n",
              " 0.8839535814325731,\n",
              " 0.881952781112445,\n",
              " 0.8815526210484194,\n",
              " 0.8839535814325731,\n",
              " 0.8847539015606243,\n",
              " 0.8851540616246498,\n",
              " 0.8863545418167267,\n",
              " 0.8843537414965986,\n",
              " 0.8835534213685474,\n",
              " 0.8847539015606243,\n",
              " 0.8823529411764706,\n",
              " 0.8851540616246498,\n",
              " 0.8831532613045218,\n",
              " 0.8887555022008804,\n",
              " 0.8895558223289316,\n",
              " 0.8891556622649059,\n",
              " 0.8847539015606243,\n",
              " 0.8919567827130852,\n",
              " 0.8867547018807523,\n",
              " 0.8947579031612645,\n",
              " 0.8907563025210083,\n",
              " 0.8927571028411364,\n",
              " 0.8935574229691877,\n",
              " 0.8903561424569828,\n",
              " 0.8887555022008804,\n",
              " 0.8859543817527011,\n",
              " 0.8867547018807523,\n",
              " 0.8879551820728291,\n",
              " 0.891156462585034,\n",
              " 0.8883553421368547,\n",
              " 0.8811524609843937,\n",
              " 0.8875550220088035,\n",
              " 0.8895558223289316,\n",
              " 0.8887555022008804,\n",
              " 0.8887555022008804,\n",
              " 0.8891556622649059,\n",
              " 0.8891556622649059,\n",
              " 0.8895558223289316,\n",
              " 0.8847539015606243,\n",
              " 0.8883553421368547,\n",
              " 0.8887555022008804,\n",
              " 0.8927571028411364,\n",
              " 0.8935574229691877,\n",
              " 0.8847539015606243,\n",
              " 0.8883553421368547,\n",
              " 0.8891556622649059,\n",
              " 0.8895558223289316,\n",
              " 0.8923569427771109,\n",
              " 0.8931572629051621,\n",
              " 0.8883553421368547,\n",
              " 0.8975590236094437,\n",
              " 0.8935574229691877,\n",
              " 0.8927571028411364,\n",
              " 0.8935574229691877,\n",
              " 0.8931572629051621,\n",
              " 0.8943577430972389,\n",
              " 0.8947579031612645,\n",
              " 0.8943577430972389,\n",
              " 0.8883553421368547,\n",
              " 0.8939575830332133,\n",
              " 0.891156462585034,\n",
              " 0.8951580632252901,\n",
              " 0.8927571028411364,\n",
              " 0.8943577430972389,\n",
              " 0.8895558223289316,\n",
              " 0.8915566226490597,\n",
              " 0.8959583833533413,\n",
              " 0.8975590236094437]"
            ]
          },
          "metadata": {
            "tags": []
          },
          "execution_count": 13
        }
      ]
    },
    {
      "metadata": {
        "id": "2W01s7dusGF5",
        "colab_type": "code",
        "outputId": "e7df8ccd-c1fd-43ad-89e9-28672e84406d",
        "colab": {
          "base_uri": "https://localhost:8080/",
          "height": 997
        }
      },
      "cell_type": "code",
      "source": [
        "plot([model])"
      ],
      "execution_count": 14,
      "outputs": [
        {
          "output_type": "display_data",
          "data": {
            "image/png": "[encoded data removed]",
            "text/plain": [
              "<matplotlib.figure.Figure at 0x7f245ea863c8>"
            ]
          },
          "metadata": {
            "tags": []
          }
        },
        {
          "output_type": "error",
          "ename": "AttributeError",
          "evalue": "ignored",
          "traceback": [
            "\u001b[0;31m---------------------------------------------------------------------------\u001b[0m",
            "\u001b[0;31mAttributeError\u001b[0m                            Traceback (most recent call last)",
            "\u001b[0;32m<ipython-input-14-c3bece80b80b>\u001b[0m in \u001b[0;36m<module>\u001b[0;34m()\u001b[0m\n\u001b[0;32m----> 1\u001b[0;31m \u001b[0mplot\u001b[0m\u001b[0;34m(\u001b[0m\u001b[0;34m[\u001b[0m\u001b[0mmodel\u001b[0m\u001b[0;34m]\u001b[0m\u001b[0;34m)\u001b[0m\u001b[0;34m\u001b[0m\u001b[0;34m\u001b[0m\u001b[0m\n\u001b[0m",
            "\u001b[0;32m<ipython-input-4-f46badb0d658>\u001b[0m in \u001b[0;36mplot\u001b[0;34m(models)\u001b[0m\n\u001b[1;32m      6\u001b[0m \u001b[0;34m\u001b[0m\u001b[0m\n\u001b[1;32m      7\u001b[0m \u001b[0;34m\u001b[0m\u001b[0m\n\u001b[0;32m----> 8\u001b[0;31m     \u001b[0;32mif\u001b[0m \u001b[0mmodels\u001b[0m\u001b[0;34m.\u001b[0m\u001b[0many\u001b[0m\u001b[0;34m(\u001b[0m\u001b[0;34m)\u001b[0m\u001b[0;34m.\u001b[0m\u001b[0mplot_decision\u001b[0m \u001b[0;34m==\u001b[0m \u001b[0;32mTrue\u001b[0m \u001b[0;32mand\u001b[0m \u001b[0mmodels\u001b[0m\u001b[0;34m.\u001b[0m\u001b[0many\u001b[0m\u001b[0;34m(\u001b[0m\u001b[0;34m)\u001b[0m\u001b[0;34m.\u001b[0m\u001b[0mimage\u001b[0m \u001b[0;34m==\u001b[0m \u001b[0;32mFalse\u001b[0m\u001b[0;34m:\u001b[0m\u001b[0;34m\u001b[0m\u001b[0;34m\u001b[0m\u001b[0m\n\u001b[0m\u001b[1;32m      9\u001b[0m         \u001b[0mplt_dec_boundary\u001b[0m\u001b[0;34m(\u001b[0m\u001b[0mmodels\u001b[0m\u001b[0;34m)\u001b[0m\u001b[0;34m\u001b[0m\u001b[0;34m\u001b[0m\u001b[0m\n\u001b[1;32m     10\u001b[0m \u001b[0;34m\u001b[0m\u001b[0m\n",
            "\u001b[0;31mAttributeError\u001b[0m: 'NeuralNetwork' object has no attribute 'plot_decision'"
          ]
        }
      ]
    },
    {
      "metadata": {
        "id": "bZaBbFN-sK07",
        "colab_type": "code",
        "colab": {}
      },
      "cell_type": "code",
      "source": [
        ""
      ],
      "execution_count": 0,
      "outputs": []
    }
  ]
}