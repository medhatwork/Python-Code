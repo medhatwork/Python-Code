{
  "nbformat": 4,
  "nbformat_minor": 0,
  "metadata": {
    "colab": {
      "name": "cnn_devoir4.ipynb",
      "version": "0.3.2",
      "provenance": [],
      "collapsed_sections": []
    },
    "kernelspec": {
      "name": "python3",
      "display_name": "Python 3"
    },
    "accelerator": "GPU"
  },
  "cells": [
    {
      "metadata": {
        "id": "kyAfVqWR6rhh",
        "colab_type": "code",
        "outputId": "7daf261f-562e-4d2e-9ade-2b3049b45231",
        "colab": {
          "base_uri": "https://localhost:8080/",
          "height": 34
        }
      },
      "cell_type": "code",
      "source": [
        "# Import libraries\n",
        "# Presente par Ahmed Mohamed, Sofiene Fehri, Abdessalam Nahnah, Mouard Benchickh\n",
        "\n",
        "import cv2\n",
        "import random\n",
        "import numpy as np\n",
        "import pandas as pd\n",
        "import matplotlib.pyplot as plt\n",
        "import tensorflow as tf\n",
        "from tqdm import tqdm\n",
        "from tensorflow.examples.tutorials.mnist import input_data\n",
        "from sklearn.preprocessing import OneHotEncoder\n",
        "from sklearn.preprocessing import LabelEncoder\n",
        "from sklearn.preprocessing import LabelBinarizer\n",
        "from skimage.feature import hog\n",
        "from sklearn import svm\n",
        "from sklearn.utils import shuffle\n",
        "from sklearn.decomposition import PCA\n",
        "\n",
        "\n",
        "%matplotlib inline\n",
        "from google.colab import drive\n",
        "from google.colab import files\n",
        "drive.mount('/content/gdrive')"
      ],
      "execution_count": 1,
      "outputs": [
        {
          "output_type": "stream",
          "text": [
            "Drive already mounted at /content/gdrive; to attempt to forcibly remount, call drive.mount(\"/content/gdrive\", force_remount=True).\n"
          ],
          "name": "stdout"
        }
      ]
    },
    {
      "metadata": {
        "id": "YH0ehjW16rhk",
        "colab_type": "code",
        "colab": {}
      },
      "cell_type": "code",
      "source": [
        "def load_images(tlabels):\n",
        "  train = np.load(\"/content/gdrive/My Drive/notebooks/train_images.npy\", encoding = 'bytes')\n",
        "  test = np.load(\"/content/gdrive/My Drive/notebooks/test_images.npy\", encoding = 'bytes')\n",
        "  train_labels = pd.read_csv(\"/content/gdrive/My Drive/notebooks/train_labels.csv\")\n",
        "\n",
        "  x_train = train[:,1]\n",
        "  x_test = test[:,1]\n",
        "  for i in range(len(x_train)):\n",
        "    x_train[i] = (x_train[i] - np.min(x_train[i]))/(np.max(x_train[i] - np.min(x_train[i])))\n",
        "  for i in range(len(x_test)):          \n",
        "    x_test[i] = (x_test[i] - np.amin(x_test[i]))/(np.amax(x_test[i] - np.amin(x_test[i])))\n",
        "\n",
        "  train_labs = pd.factorize(train_labels['Category'])\n",
        "  train_lab = train_labs[0]\n",
        "\n",
        "  x_train = np.array([np.array(x) for x in x_train])\n",
        "  x_test = np.array([np.array(x) for x in x_test])\n",
        "\n",
        "  x_train = x_train.reshape((10000,100,100))\n",
        "  x_test = x_test.reshape((10000,100,100))\n",
        "\n",
        "  lb = LabelBinarizer()\n",
        "  y_train = lb.fit_transform(train_lab)\n",
        "  x_train,y_train = shuffle(x_train,y_train, random_state = random.randint(1,21)*5)\n",
        "\n",
        "  train_X = x_train[:8000]\n",
        "  train_y = y_train[:8000]\n",
        "  valid_X = x_train[8000:]\n",
        "  valid_y = y_train[8000:]\n",
        "  test_X = x_test\n",
        "\n",
        "  print(train_X.shape,valid_X.shape,valid_y.shape)\n",
        "  \n",
        "  if tlabels:\n",
        "    return train_X,train_y,valid_X,valid_y, test_X,train_labels\n",
        "  \n",
        "  return train_X,train_y,valid_X,valid_y, test_X\n"
      ],
      "execution_count": 0,
      "outputs": []
    },
    {
      "metadata": {
        "id": "9jl5n9JX6rhn",
        "colab_type": "code",
        "colab": {}
      },
      "cell_type": "code",
      "source": [
        "def denoise(noisy,s1,s2,s3,s4):\n",
        "  se1 = cv2.getStructuringElement(cv2.MORPH_RECT, (s1,s1))\n",
        "  se2 = cv2.getStructuringElement(cv2.MORPH_RECT, (s2,s2))\n",
        "  se3 = cv2.getStructuringElement(cv2.MORPH_RECT, (s3,s3))\n",
        "  se4 = cv2.getStructuringElement(cv2.MORPH_RECT, (s4,s4))\n",
        "  mask = cv2.morphologyEx(noisy, cv2.MORPH_CLOSE, se1)\n",
        "  mask = cv2.morphologyEx(mask, cv2.MORPH_OPEN, se2)\n",
        "  mask = cv2.morphologyEx(mask, cv2.MORPH_OPEN, se3)\n",
        "  mask = cv2.morphologyEx(mask, cv2.MORPH_OPEN, se4)\n",
        "\n",
        "  out = (noisy * mask)/255\n",
        "  return out\n",
        "\n",
        "\n",
        "def horizontal_flip(image_array: np.ndarray):\n",
        "  # horizontal flip doesn't need skimage, it's easy as flipping the image array of pixels !\n",
        "  return image_array[:, ::-1]\n",
        "\n",
        "def tf_resize_images(X_img_file_paths):\n",
        "  X_data = []\n",
        "  tf.reset_default_graph()\n",
        "  X = tf.placeholder(tf.float32, (None, None, 1))\n",
        "  tf_img = tf.image.resize_images(X, (100, 100), \n",
        "                                  tf.image.ResizeMethod.NEAREST_NEIGHBOR)\n",
        "  with tf.Session() as sess:\n",
        "      sess.run(tf.global_variables_initializer())\n",
        "\n",
        "      # Each image is resized individually as different image may be of different size.\n",
        "      for index, file_path in tqdm(enumerate(X_img_file_paths),desc=\"resizing train\"):\n",
        "          img = X_img_file_paths[index]\n",
        "          resized_img = sess.run(tf_img, feed_dict = {X: img})\n",
        "          X_data.append(resized_img)\n",
        "\n",
        "  X_data = np.array(X_data, dtype = np.float32) # Convert to numpy\n",
        "  return X_data\n",
        "\n",
        "def tf_rotate_images(X_img_file_paths):\n",
        "  X_data = []\n",
        "  tf.reset_default_graph()\n",
        "  X = tf.placeholder(tf.float32, (None, None, 1))\n",
        "  degrees = tf.random_uniform([], -25, 25)\n",
        "  tf_img = tf.contrib.image.rotate(X, degrees, interpolation='BILINEAR')\n",
        "\n",
        "  tf_img = tf.image.resize_images(X, (100, 100), \n",
        "                                  tf.image.ResizeMethod.NEAREST_NEIGHBOR)\n",
        "  with tf.Session() as sess:\n",
        "      sess.run(tf.global_variables_initializer())\n",
        "\n",
        "      # Each image is resized individually as different image may be of different size.\n",
        "      for index, file_path in tqdm(enumerate(X_img_file_paths),desc=\"rotating train\"):\n",
        "          img = X_img_file_paths[index]\n",
        "          resized_img = sess.run(tf_img, feed_dict = {X: img})\n",
        "          X_data.append(resized_img)\n",
        "\n",
        "  X_data = np.array(X_data, dtype = np.float32) # Convert to numpy\n",
        "  return X_data\n",
        "\n",
        "def images_preprocessing(images):\n",
        "      list_hog_fd = []\n",
        "      for feature in tqdm(images):\n",
        "              fd = hog(feature, orientations=9, pixels_per_cell=(50, 50), cells_per_block=(1, 1))\n",
        "              list_hog_fd.append(fd)\n",
        "      return np.array(list_hog_fd, 'float64')"
      ],
      "execution_count": 0,
      "outputs": []
    },
    {
      "metadata": {
        "id": "B-mp5S7e6rhp",
        "colab_type": "code",
        "colab": {}
      },
      "cell_type": "code",
      "source": [
        "def data_augmentation(X, y = None, denoise_mask1 = False, denoise_mask2 = False, rand_rotate=False, rand_resize=False, horiz_flip = False):\n",
        "  \n",
        "  if denoise_mask1 :\n",
        "    tr1_X = X.copy()\n",
        "    for i in tqdm(range(len(X)),desc='denoising train 1'):\n",
        "      tr1_X[i] = denoise(tr1_X[i],7,5,5,1)\n",
        "    X = np.row_stack((X,tr1_X))\n",
        "    if y.any():\n",
        "      y = np.row_stack((y,y))\n",
        "                           \n",
        "  if denoise_mask2 :\n",
        "    tr2_X = X.copy()\n",
        "    for i in tqdm(range(len(X)),desc='denoising train 2'):\n",
        "      tr2_X[i] = denoise(tr2_X[i],6,4,4,1)\n",
        "    X = np.row_stack((X,tr2_X))\n",
        "    if y.any():\n",
        "      y = np.row_stack((y,y))\n",
        " \n",
        "  if horiz_flip : \n",
        "    tr_hor_flip = horizontal_flip(X)\n",
        "    X = np.row_stack((X,tr_hor_flip))\n",
        "    y = np.row_stack((y,y))\n",
        "   \n",
        "  X = reshape_dataset(X)\n",
        "  \n",
        "  if rand_rotate : \n",
        "    tr_rotate = tf_rotate_images(X.reshape(-1, 100, 100, 1))\n",
        "    X = np.row_stack((X,tr_rotate))\n",
        "    y = np.row_stack((y,y))\n",
        "\n",
        "  if rand_resize:\n",
        "    tr_resize = tf_resize_images(X.reshape(-1, 100, 100, 1))\n",
        "    X = np.row_stack((X,tr_resize))\n",
        "    y = np.row_stack((y,y))\n",
        "\n",
        "  return shuffle(X,y, random_state = random.randint(1,21)*5)"
      ],
      "execution_count": 0,
      "outputs": []
    },
    {
      "metadata": {
        "id": "VHavhLu46rhs",
        "colab_type": "code",
        "colab": {}
      },
      "cell_type": "code",
      "source": [
        "def reshape_dataset(X):\n",
        "  # Reshape training , validation and testing image\n",
        "  X = X.reshape(-1, 100, 100, 1)\n",
        "  return X"
      ],
      "execution_count": 0,
      "outputs": []
    },
    {
      "metadata": {
        "id": "EqxknNLJ6rhy",
        "colab_type": "code",
        "colab": {}
      },
      "cell_type": "code",
      "source": [
        "def compatible_convolutional_noise_shape(Y):\n",
        "    noiseshape = tf.shape(Y)\n",
        "    noiseshape = noiseshape * tf.constant([1,0,0,1]) + tf.constant([0,1,1,0])\n",
        "    return noiseshape\n",
        "\n",
        "def conv2d(x, W, b, strides=1):\n",
        "    # Conv2D wrapper, with bias and relu activation\n",
        "    training = tf.placeholder(tf.bool)\n",
        "    x = tf.nn.conv2d(x, W, strides=[1, strides, strides, 1], padding='SAME')\n",
        "    x = tf.layers.batch_normalization(x)\n",
        "    x = tf.nn.bias_add(x, b)\n",
        "\n",
        "    return tf.nn.relu6(x) \n",
        "\n",
        "def avgpool2d(x, k=2):\n",
        "    return tf.nn.avg_pool(x, ksize=[1, k, k, 1], strides=[1, k, k, 1],padding='SAME')\n",
        "  \n",
        "def maxpool2d(x, k=2):\n",
        "    return tf.nn.max_pool(x, ksize=[1, k, k, 1], strides=[1, k, k, 1],padding='SAME')\n",
        "  \n",
        "def batchnorm(Ylogits, iteration, offset, convolutional=False):\n",
        "    exp_moving_avg = tf.train.ExponentialMovingAverage(0.999, iteration) # adding the iteration prevents from averaging across non-existing iterations\n",
        "    bnepsilon = 1e-5\n",
        "    print(Ylogits)\n",
        "    if convolutional:\n",
        "        mean, variance = tf.nn.moments(Ylogits, [0, 1, 2])\n",
        "    else:\n",
        "        mean, variance = tf.nn.moments(Ylogits, [0])\n",
        "    update_moving_everages = exp_moving_avg.apply([mean, variance])\n",
        "    m = tf.cond(is_test, lambda: exp_moving_avg.average(mean), lambda: mean)\n",
        "    v = tf.cond(is_test, lambda: exp_moving_avg.average(variance), lambda: variance)\n",
        "    Ybn = tf.nn.batch_normalization(Ylogits, m, v, offset, None, bnepsilon)\n",
        "    return Ybn, update_moving_everages"
      ],
      "execution_count": 0,
      "outputs": []
    },
    {
      "metadata": {
        "id": "SBtryO6fOSaB",
        "colab_type": "code",
        "colab": {}
      },
      "cell_type": "code",
      "source": [
        "def initialize_filters(filter_sizes,num_filters,final_size,init):\n",
        "  initializer = None\n",
        "  if 'xavier' in init:\n",
        "    initial=tf.contrib.layers.xavier_initializer()\n",
        "  else:\n",
        "    initial=tf.contrib.layers.variance_scaling_initializer()\n",
        "\n",
        "  weights = {'wc'+str(i+1): tf.get_variable('W'+str(i), shape=(filter_sizes[i][0],filter_sizes[i][1],num_filters[i],num_filters[i+1]), initializer = initial)\n",
        "             for i in range(len(num_filters)-1)}\n",
        "  biases = {'bc'+str(i+1):tf.get_variable('B'+str(i), shape=(num_filters[i+1]), initializer=initial) for i in range(len(num_filters)-1)}\n",
        "\n",
        "  weights['wd1'] = tf.get_variable('W'+str(len(num_filters)), shape=(final_size*final_size*num_filters[len(num_filters)-1],num_filters[len(num_filters)-1]), initializer = initial)\n",
        "  weights['out'] = tf.get_variable('W'+str(len(num_filters)+1), shape=(num_filters[len(num_filters)-1],n_classes), initializer = initial)\n",
        "  biases['bd1'] = tf.get_variable('B'+str(len(num_filters)), shape=(num_filters[len(num_filters)-1]), initializer = initial)\n",
        "  biases['out'] = tf.get_variable('B'+str(len(num_filters)+1), shape=(n_classes), initializer = initial)\n",
        "  \n",
        "  return weights,biases\n",
        "                          "
      ],
      "execution_count": 0,
      "outputs": []
    },
    {
      "metadata": {
        "id": "ef9dN9XMeMkb",
        "colab_type": "code",
        "colab": {}
      },
      "cell_type": "code",
      "source": [
        "def cnn(x,weights,biases,strides,dropout,drop = 0):\n",
        "  conv = None\n",
        "  for i in range(len(weights)-2):\n",
        "    conv = conv2d(x, weights['wc'+str(i+1)], biases['bc'+str(i+1)])\n",
        "    print(conv)\n",
        "    conv = maxpool2d(conv, k=strides)\n",
        "    print(conv)\n",
        "    x = conv\n",
        "  # Reshape conv2 output to fit fully connected layer input\n",
        "  fc1 = tf.reshape(conv, [-1, weights['wd1'].get_shape().as_list()[0]])\n",
        "  print(fc1)\n",
        "\n",
        "  fc1 = tf.add(tf.matmul(fc1, weights['wd1']), biases['bd1'])\n",
        "  fc1 = tf.nn.relu(fc1)\n",
        "  # Output, class prediction\n",
        "  # finally we multiply the fully connected layer with the weights and add a bias term. \n",
        "  out = tf.add(tf.matmul(fc1, weights['out']), biases['out'])\n",
        "  print(out)\n",
        "\n",
        "  if drop:\n",
        "    drop = tf.layers.dropout(inputs=out, rate=drop)\n",
        "    print(drop)\n",
        "    return drop\n",
        "\n",
        "  return out"
      ],
      "execution_count": 0,
      "outputs": []
    },
    {
      "metadata": {
        "scrolled": false,
        "id": "tcTaL3f66riA",
        "colab_type": "code",
        "colab": {}
      },
      "cell_type": "code",
      "source": [
        "def run_session():\n",
        "  with tf.Session() as sess:\n",
        "    init=tf.global_variables_initializer()\n",
        "    sess.run(init) \n",
        "    train_loss = []\n",
        "    valid_loss = []\n",
        "    train_accuracy = []\n",
        "    valid_accuracy = []\n",
        "    train_writer = tf.summary.FileWriter(DIR + '/train',sess.graph)\n",
        "    test_writer = tf.summary.FileWriter(DIR + '/test')\n",
        "    for i in range(training_iters):\n",
        "  #         if i%20 == 0:\n",
        "  #               train_X, train_y = shuffle(train_X,train_y, random_state = i)\n",
        "        for batch in tqdm(range(len(train_X)//batch_size)):\n",
        "            batch_x = train_X[batch*batch_size:min((batch+1)*batch_size,len(train_X))]\n",
        "            batch_y = train_y[batch*batch_size:min((batch+1)*batch_size,len(train_y))]   \n",
        "            # Run optimization op (backprop).\n",
        "                # Calculate batch loss and accuracy\n",
        "            opt = sess.run(optimizer, feed_dict={x: batch_x,\n",
        "                                                              y: batch_y})\n",
        "            summary, loss, acc = sess.run([merged,cost, accuracy], feed_dict={x: batch_x,\n",
        "                                                              y: batch_y})\n",
        "            train_writer.add_summary(summary, i)\n",
        "\n",
        "\n",
        "        print(\"Iter \" + str(i) + \", Loss= \" + \\\n",
        "                      \"{:.6f}\".format(loss) + \", Training Accuracy= \" + \\\n",
        "                      \"{:.5f}\".format(acc))\n",
        "        print(\"Optimization Finished!\")\n",
        "        summary, valid_acc = sess.run([merged,accuracy], feed_dict={x:valid_X, y:valid_y})\n",
        "        test_writer.add_summary(summary, i)\n",
        "\n",
        "        train_loss.append(loss)\n",
        "        valid_loss.append(valid_loss)\n",
        "        train_accuracy.append(acc)\n",
        "        valid_accuracy.append(valid_acc)\n",
        "        print(\"Validation Accuracy:\",\"{:.5f}\".format(valid_acc))\n",
        "    predict = sess.run([predict], feed_dict={x: test_X})\n",
        "    summary_writer.close()"
      ],
      "execution_count": 0,
      "outputs": []
    },
    {
      "metadata": {
        "id": "nOGudyrE1biV",
        "colab_type": "code",
        "colab": {
          "base_uri": "https://localhost:8080/",
          "height": 6199
        },
        "outputId": "011768cd-bee5-443b-f866-e3c0a31ef820"
      },
      "cell_type": "code",
      "source": [
        "train_X,train_y,valid_X,valid_y, test_X = load_images(False)\n",
        "train_X = reshape_dataset(train_X)\n",
        "valid_X = reshape_dataset(valid_X)\n",
        "test_X = reshape_dataset(test_X)\n",
        "\n",
        "training_iters = 400 \n",
        "learning_rate = 0.001 \n",
        "batch_size = 128\n",
        "\n",
        "# Kaggle data input (img shape: 100*100)\n",
        "n_input = 100\n",
        "\n",
        "# Kaggle total classes (31 classes)\n",
        "n_classes = 31\n",
        "\n",
        "#both placeholders are of type float\n",
        "x = tf.placeholder(\"float\", [None, 100,100,1])\n",
        "y = tf.placeholder(\"float\", [None, n_classes])\n",
        "\n",
        "weights,biases = initialize_filters([(8,8),(8,8),(8,8),(4,4),(4,4),(2,2)],[1,8,16,32,64,128,256],2,'xavier')\n",
        "pred = cnn(x,weights,biases,2,True,0.4)\n",
        "\n",
        "with tf.name_scope(\"cost\"):\n",
        "  cost = tf.reduce_mean(tf.nn.softmax_cross_entropy_with_logits_v2(logits=pred, labels=y))\n",
        "  tf.summary.scalar('loss', cost)\n",
        "optimizer = tf.train.AdamOptimizer(learning_rate=learning_rate).minimize(cost)\n",
        "predict = tf.argmax(pred, 1)\n",
        "\n",
        "#Here you check whether the index of the maximum value of the predicted image is equal to the actual labelled image. and both will be a column vector.\n",
        "correct_prediction = tf.equal(tf.argmax(pred, 1), tf.argmax(y, 1))\n",
        "\n",
        "with tf.name_scope(\"accuracy\"):\n",
        "#calculate accuracy across all the given images and average them out. \n",
        "  accuracy = tf.reduce_mean(tf.cast(correct_prediction, tf.float32))\n",
        "  tf.summary.scalar('accuracy', accuracy)\n",
        "  \n",
        "# Initializing the variables\n",
        "sess = tf.Session()\n",
        "DIR = \"/content/drive/My Drive/Colab Notebooks/\"\n",
        "merged = tf.summary.merge_all()\n",
        "\n",
        "run_session()"
      ],
      "execution_count": 10,
      "outputs": [
        {
          "output_type": "stream",
          "text": [
            "(8000, 100, 100) (2000, 100, 100) (2000, 31)\n",
            "Tensor(\"Relu6:0\", shape=(?, 100, 100, 8), dtype=float32)\n",
            "Tensor(\"MaxPool:0\", shape=(?, 50, 50, 8), dtype=float32)\n",
            "Tensor(\"Relu6_1:0\", shape=(?, 50, 50, 16), dtype=float32)\n",
            "Tensor(\"MaxPool_1:0\", shape=(?, 25, 25, 16), dtype=float32)\n",
            "Tensor(\"Relu6_2:0\", shape=(?, 25, 25, 32), dtype=float32)\n",
            "Tensor(\"MaxPool_2:0\", shape=(?, 13, 13, 32), dtype=float32)\n",
            "Tensor(\"Relu6_3:0\", shape=(?, 13, 13, 64), dtype=float32)\n",
            "Tensor(\"MaxPool_3:0\", shape=(?, 7, 7, 64), dtype=float32)\n",
            "Tensor(\"Relu6_4:0\", shape=(?, 7, 7, 128), dtype=float32)\n",
            "Tensor(\"MaxPool_4:0\", shape=(?, 4, 4, 128), dtype=float32)\n",
            "Tensor(\"Relu6_5:0\", shape=(?, 4, 4, 256), dtype=float32)\n",
            "Tensor(\"MaxPool_5:0\", shape=(?, 2, 2, 256), dtype=float32)\n",
            "Tensor(\"Reshape:0\", shape=(?, 1024), dtype=float32)\n",
            "Tensor(\"Add_1:0\", shape=(?, 31), dtype=float32)\n",
            "Tensor(\"dropout/Identity:0\", shape=(?, 31), dtype=float32)\n"
          ],
          "name": "stdout"
        },
        {
          "output_type": "stream",
          "text": [
            "100%|██████████| 125/125 [00:07<00:00, 21.64it/s]\n"
          ],
          "name": "stderr"
        },
        {
          "output_type": "stream",
          "text": [
            "Iter 0, Loss= 3.348546, Training Accuracy= 0.09375\n",
            "Optimization Finished!\n"
          ],
          "name": "stdout"
        },
        {
          "output_type": "stream",
          "text": [
            "  2%|▏         | 2/125 [00:00<00:06, 19.61it/s]"
          ],
          "name": "stderr"
        },
        {
          "output_type": "stream",
          "text": [
            "Validation Accuracy: 0.06050\n"
          ],
          "name": "stdout"
        },
        {
          "output_type": "stream",
          "text": [
            "100%|██████████| 125/125 [00:05<00:00, 21.18it/s]\n"
          ],
          "name": "stderr"
        },
        {
          "output_type": "stream",
          "text": [
            "Iter 1, Loss= 3.345601, Training Accuracy= 0.09375\n",
            "Optimization Finished!\n"
          ],
          "name": "stdout"
        },
        {
          "output_type": "stream",
          "text": [
            "  2%|▏         | 3/125 [00:00<00:05, 22.01it/s]"
          ],
          "name": "stderr"
        },
        {
          "output_type": "stream",
          "text": [
            "Validation Accuracy: 0.06050\n"
          ],
          "name": "stdout"
        },
        {
          "output_type": "stream",
          "text": [
            "100%|██████████| 125/125 [00:05<00:00, 21.34it/s]\n"
          ],
          "name": "stderr"
        },
        {
          "output_type": "stream",
          "text": [
            "Iter 2, Loss= 3.343091, Training Accuracy= 0.09375\n",
            "Optimization Finished!\n"
          ],
          "name": "stdout"
        },
        {
          "output_type": "stream",
          "text": [
            "  2%|▏         | 3/125 [00:00<00:05, 21.86it/s]"
          ],
          "name": "stderr"
        },
        {
          "output_type": "stream",
          "text": [
            "Validation Accuracy: 0.06050\n"
          ],
          "name": "stdout"
        },
        {
          "output_type": "stream",
          "text": [
            "100%|██████████| 125/125 [00:05<00:00, 21.26it/s]\n"
          ],
          "name": "stderr"
        },
        {
          "output_type": "stream",
          "text": [
            "Iter 3, Loss= 3.338244, Training Accuracy= 0.09375\n",
            "Optimization Finished!\n"
          ],
          "name": "stdout"
        },
        {
          "output_type": "stream",
          "text": [
            "  2%|▏         | 3/125 [00:00<00:05, 22.03it/s]"
          ],
          "name": "stderr"
        },
        {
          "output_type": "stream",
          "text": [
            "Validation Accuracy: 0.06050\n"
          ],
          "name": "stdout"
        },
        {
          "output_type": "stream",
          "text": [
            "100%|██████████| 125/125 [00:05<00:00, 21.11it/s]\n"
          ],
          "name": "stderr"
        },
        {
          "output_type": "stream",
          "text": [
            "Iter 4, Loss= 3.333791, Training Accuracy= 0.09375\n",
            "Optimization Finished!\n"
          ],
          "name": "stdout"
        },
        {
          "output_type": "stream",
          "text": [
            "  2%|▏         | 3/125 [00:00<00:05, 21.94it/s]"
          ],
          "name": "stderr"
        },
        {
          "output_type": "stream",
          "text": [
            "Validation Accuracy: 0.06050\n"
          ],
          "name": "stdout"
        },
        {
          "output_type": "stream",
          "text": [
            "100%|██████████| 125/125 [00:05<00:00, 20.95it/s]\n"
          ],
          "name": "stderr"
        },
        {
          "output_type": "stream",
          "text": [
            "Iter 5, Loss= 3.332219, Training Accuracy= 0.09375\n",
            "Optimization Finished!\n"
          ],
          "name": "stdout"
        },
        {
          "output_type": "stream",
          "text": [
            "  2%|▏         | 3/125 [00:00<00:05, 21.72it/s]"
          ],
          "name": "stderr"
        },
        {
          "output_type": "stream",
          "text": [
            "Validation Accuracy: 0.06050\n"
          ],
          "name": "stdout"
        },
        {
          "output_type": "stream",
          "text": [
            "100%|██████████| 125/125 [00:05<00:00, 21.14it/s]\n"
          ],
          "name": "stderr"
        },
        {
          "output_type": "stream",
          "text": [
            "Iter 6, Loss= 3.336587, Training Accuracy= 0.09375\n",
            "Optimization Finished!\n"
          ],
          "name": "stdout"
        },
        {
          "output_type": "stream",
          "text": [
            "  2%|▏         | 3/125 [00:00<00:05, 21.55it/s]"
          ],
          "name": "stderr"
        },
        {
          "output_type": "stream",
          "text": [
            "Validation Accuracy: 0.06050\n"
          ],
          "name": "stdout"
        },
        {
          "output_type": "stream",
          "text": [
            "100%|██████████| 125/125 [00:05<00:00, 20.89it/s]\n"
          ],
          "name": "stderr"
        },
        {
          "output_type": "stream",
          "text": [
            "Iter 7, Loss= 3.331732, Training Accuracy= 0.09375\n",
            "Optimization Finished!\n"
          ],
          "name": "stdout"
        },
        {
          "output_type": "stream",
          "text": [
            "  2%|▏         | 3/125 [00:00<00:05, 21.49it/s]"
          ],
          "name": "stderr"
        },
        {
          "output_type": "stream",
          "text": [
            "Validation Accuracy: 0.06050\n"
          ],
          "name": "stdout"
        },
        {
          "output_type": "stream",
          "text": [
            "100%|██████████| 125/125 [00:05<00:00, 21.01it/s]\n"
          ],
          "name": "stderr"
        },
        {
          "output_type": "stream",
          "text": [
            "Iter 8, Loss= 3.331067, Training Accuracy= 0.09375\n",
            "Optimization Finished!\n"
          ],
          "name": "stdout"
        },
        {
          "output_type": "stream",
          "text": [
            "  2%|▏         | 3/125 [00:00<00:05, 21.19it/s]"
          ],
          "name": "stderr"
        },
        {
          "output_type": "stream",
          "text": [
            "Validation Accuracy: 0.06050\n"
          ],
          "name": "stdout"
        },
        {
          "output_type": "stream",
          "text": [
            "100%|██████████| 125/125 [00:05<00:00, 20.94it/s]\n"
          ],
          "name": "stderr"
        },
        {
          "output_type": "stream",
          "text": [
            "Iter 9, Loss= 3.330878, Training Accuracy= 0.09375\n",
            "Optimization Finished!\n"
          ],
          "name": "stdout"
        },
        {
          "output_type": "stream",
          "text": [
            "  2%|▏         | 3/125 [00:00<00:05, 21.78it/s]"
          ],
          "name": "stderr"
        },
        {
          "output_type": "stream",
          "text": [
            "Validation Accuracy: 0.06050\n"
          ],
          "name": "stdout"
        },
        {
          "output_type": "stream",
          "text": [
            "100%|██████████| 125/125 [00:05<00:00, 21.40it/s]\n"
          ],
          "name": "stderr"
        },
        {
          "output_type": "stream",
          "text": [
            "Iter 10, Loss= 3.330750, Training Accuracy= 0.09375\n",
            "Optimization Finished!\n"
          ],
          "name": "stdout"
        },
        {
          "output_type": "stream",
          "text": [
            "  2%|▏         | 3/125 [00:00<00:05, 21.84it/s]"
          ],
          "name": "stderr"
        },
        {
          "output_type": "stream",
          "text": [
            "Validation Accuracy: 0.06050\n"
          ],
          "name": "stdout"
        },
        {
          "output_type": "stream",
          "text": [
            "100%|██████████| 125/125 [00:05<00:00, 21.28it/s]\n"
          ],
          "name": "stderr"
        },
        {
          "output_type": "stream",
          "text": [
            "Iter 11, Loss= 3.330640, Training Accuracy= 0.09375\n",
            "Optimization Finished!\n"
          ],
          "name": "stdout"
        },
        {
          "output_type": "stream",
          "text": [
            "  2%|▏         | 3/125 [00:00<00:05, 21.80it/s]"
          ],
          "name": "stderr"
        },
        {
          "output_type": "stream",
          "text": [
            "Validation Accuracy: 0.06050\n"
          ],
          "name": "stdout"
        },
        {
          "output_type": "stream",
          "text": [
            "100%|██████████| 125/125 [00:05<00:00, 21.54it/s]\n"
          ],
          "name": "stderr"
        },
        {
          "output_type": "stream",
          "text": [
            "Iter 12, Loss= 3.334883, Training Accuracy= 0.09375\n",
            "Optimization Finished!\n"
          ],
          "name": "stdout"
        },
        {
          "output_type": "stream",
          "text": [
            "  2%|▏         | 3/125 [00:00<00:05, 21.44it/s]"
          ],
          "name": "stderr"
        },
        {
          "output_type": "stream",
          "text": [
            "Validation Accuracy: 0.06050\n"
          ],
          "name": "stdout"
        },
        {
          "output_type": "stream",
          "text": [
            "100%|██████████| 125/125 [00:05<00:00, 20.70it/s]\n"
          ],
          "name": "stderr"
        },
        {
          "output_type": "stream",
          "text": [
            "Iter 13, Loss= 3.328991, Training Accuracy= 0.09375\n",
            "Optimization Finished!\n"
          ],
          "name": "stdout"
        },
        {
          "output_type": "stream",
          "text": [
            "  2%|▏         | 3/125 [00:00<00:05, 21.47it/s]"
          ],
          "name": "stderr"
        },
        {
          "output_type": "stream",
          "text": [
            "Validation Accuracy: 0.06050\n"
          ],
          "name": "stdout"
        },
        {
          "output_type": "stream",
          "text": [
            "100%|██████████| 125/125 [00:05<00:00, 21.03it/s]\n"
          ],
          "name": "stderr"
        },
        {
          "output_type": "stream",
          "text": [
            "Iter 14, Loss= 3.330904, Training Accuracy= 0.09375\n",
            "Optimization Finished!\n"
          ],
          "name": "stdout"
        },
        {
          "output_type": "stream",
          "text": [
            "  2%|▏         | 3/125 [00:00<00:05, 21.56it/s]"
          ],
          "name": "stderr"
        },
        {
          "output_type": "stream",
          "text": [
            "Validation Accuracy: 0.06050\n"
          ],
          "name": "stdout"
        },
        {
          "output_type": "stream",
          "text": [
            "100%|██████████| 125/125 [00:05<00:00, 21.32it/s]\n"
          ],
          "name": "stderr"
        },
        {
          "output_type": "stream",
          "text": [
            "Iter 15, Loss= 3.332753, Training Accuracy= 0.09375\n",
            "Optimization Finished!\n"
          ],
          "name": "stdout"
        },
        {
          "output_type": "stream",
          "text": [
            "  2%|▏         | 3/125 [00:00<00:05, 21.31it/s]"
          ],
          "name": "stderr"
        },
        {
          "output_type": "stream",
          "text": [
            "Validation Accuracy: 0.06050\n"
          ],
          "name": "stdout"
        },
        {
          "output_type": "stream",
          "text": [
            "100%|██████████| 125/125 [00:05<00:00, 21.21it/s]\n"
          ],
          "name": "stderr"
        },
        {
          "output_type": "stream",
          "text": [
            "Iter 16, Loss= 3.325380, Training Accuracy= 0.09375\n",
            "Optimization Finished!\n"
          ],
          "name": "stdout"
        },
        {
          "output_type": "stream",
          "text": [
            "  2%|▏         | 3/125 [00:00<00:05, 21.56it/s]"
          ],
          "name": "stderr"
        },
        {
          "output_type": "stream",
          "text": [
            "Validation Accuracy: 0.06050\n"
          ],
          "name": "stdout"
        },
        {
          "output_type": "stream",
          "text": [
            "100%|██████████| 125/125 [00:05<00:00, 21.10it/s]\n"
          ],
          "name": "stderr"
        },
        {
          "output_type": "stream",
          "text": [
            "Iter 17, Loss= 3.331449, Training Accuracy= 0.09375\n",
            "Optimization Finished!\n"
          ],
          "name": "stdout"
        },
        {
          "output_type": "stream",
          "text": [
            "  2%|▏         | 3/125 [00:00<00:05, 21.07it/s]"
          ],
          "name": "stderr"
        },
        {
          "output_type": "stream",
          "text": [
            "Validation Accuracy: 0.06050\n"
          ],
          "name": "stdout"
        },
        {
          "output_type": "stream",
          "text": [
            "100%|██████████| 125/125 [00:05<00:00, 21.07it/s]\n"
          ],
          "name": "stderr"
        },
        {
          "output_type": "stream",
          "text": [
            "Iter 18, Loss= 3.330465, Training Accuracy= 0.09375\n",
            "Optimization Finished!\n"
          ],
          "name": "stdout"
        },
        {
          "output_type": "stream",
          "text": [
            "  2%|▏         | 3/125 [00:00<00:05, 21.22it/s]"
          ],
          "name": "stderr"
        },
        {
          "output_type": "stream",
          "text": [
            "Validation Accuracy: 0.06050\n"
          ],
          "name": "stdout"
        },
        {
          "output_type": "stream",
          "text": [
            "100%|██████████| 125/125 [00:05<00:00, 21.20it/s]\n"
          ],
          "name": "stderr"
        },
        {
          "output_type": "stream",
          "text": [
            "Iter 19, Loss= 3.331502, Training Accuracy= 0.09375\n",
            "Optimization Finished!\n"
          ],
          "name": "stdout"
        },
        {
          "output_type": "stream",
          "text": [
            "  2%|▏         | 3/125 [00:00<00:05, 21.20it/s]"
          ],
          "name": "stderr"
        },
        {
          "output_type": "stream",
          "text": [
            "Validation Accuracy: 0.06050\n"
          ],
          "name": "stdout"
        },
        {
          "output_type": "stream",
          "text": [
            "100%|██████████| 125/125 [00:05<00:00, 21.21it/s]\n"
          ],
          "name": "stderr"
        },
        {
          "output_type": "stream",
          "text": [
            "Iter 20, Loss= 3.326369, Training Accuracy= 0.09375\n",
            "Optimization Finished!\n"
          ],
          "name": "stdout"
        },
        {
          "output_type": "stream",
          "text": [
            "  2%|▏         | 3/125 [00:00<00:05, 21.45it/s]"
          ],
          "name": "stderr"
        },
        {
          "output_type": "stream",
          "text": [
            "Validation Accuracy: 0.06050\n"
          ],
          "name": "stdout"
        },
        {
          "output_type": "stream",
          "text": [
            "100%|██████████| 125/125 [00:05<00:00, 21.54it/s]\n"
          ],
          "name": "stderr"
        },
        {
          "output_type": "stream",
          "text": [
            "Iter 21, Loss= 3.332001, Training Accuracy= 0.09375\n",
            "Optimization Finished!\n"
          ],
          "name": "stdout"
        },
        {
          "output_type": "stream",
          "text": [
            "  2%|▏         | 3/125 [00:00<00:05, 22.05it/s]"
          ],
          "name": "stderr"
        },
        {
          "output_type": "stream",
          "text": [
            "Validation Accuracy: 0.06050\n"
          ],
          "name": "stdout"
        },
        {
          "output_type": "stream",
          "text": [
            "100%|██████████| 125/125 [00:05<00:00, 21.44it/s]\n"
          ],
          "name": "stderr"
        },
        {
          "output_type": "stream",
          "text": [
            "Iter 22, Loss= 3.326640, Training Accuracy= 0.09375\n",
            "Optimization Finished!\n"
          ],
          "name": "stdout"
        },
        {
          "output_type": "stream",
          "text": [
            "  2%|▏         | 2/125 [00:00<00:06, 19.40it/s]"
          ],
          "name": "stderr"
        },
        {
          "output_type": "stream",
          "text": [
            "Validation Accuracy: 0.06050\n"
          ],
          "name": "stdout"
        },
        {
          "output_type": "stream",
          "text": [
            "100%|██████████| 125/125 [00:05<00:00, 21.48it/s]\n"
          ],
          "name": "stderr"
        },
        {
          "output_type": "stream",
          "text": [
            "Iter 23, Loss= 3.329930, Training Accuracy= 0.09375\n",
            "Optimization Finished!\n"
          ],
          "name": "stdout"
        },
        {
          "output_type": "stream",
          "text": [
            "  2%|▏         | 3/125 [00:00<00:05, 21.20it/s]"
          ],
          "name": "stderr"
        },
        {
          "output_type": "stream",
          "text": [
            "Validation Accuracy: 0.06050\n"
          ],
          "name": "stdout"
        },
        {
          "output_type": "stream",
          "text": [
            "100%|██████████| 125/125 [00:05<00:00, 21.20it/s]\n"
          ],
          "name": "stderr"
        },
        {
          "output_type": "stream",
          "text": [
            "Iter 24, Loss= 3.331755, Training Accuracy= 0.09375\n",
            "Optimization Finished!\n"
          ],
          "name": "stdout"
        },
        {
          "output_type": "stream",
          "text": [
            "  2%|▏         | 3/125 [00:00<00:05, 22.39it/s]"
          ],
          "name": "stderr"
        },
        {
          "output_type": "stream",
          "text": [
            "Validation Accuracy: 0.06050\n"
          ],
          "name": "stdout"
        },
        {
          "output_type": "stream",
          "text": [
            "100%|██████████| 125/125 [00:05<00:00, 21.10it/s]\n"
          ],
          "name": "stderr"
        },
        {
          "output_type": "stream",
          "text": [
            "Iter 25, Loss= 3.327057, Training Accuracy= 0.09375\n",
            "Optimization Finished!\n"
          ],
          "name": "stdout"
        },
        {
          "output_type": "stream",
          "text": [
            "  2%|▏         | 3/125 [00:00<00:05, 20.87it/s]"
          ],
          "name": "stderr"
        },
        {
          "output_type": "stream",
          "text": [
            "Validation Accuracy: 0.06050\n"
          ],
          "name": "stdout"
        },
        {
          "output_type": "stream",
          "text": [
            "100%|██████████| 125/125 [00:05<00:00, 21.21it/s]\n"
          ],
          "name": "stderr"
        },
        {
          "output_type": "stream",
          "text": [
            "Iter 26, Loss= 3.331279, Training Accuracy= 0.09375\n",
            "Optimization Finished!\n"
          ],
          "name": "stdout"
        },
        {
          "output_type": "stream",
          "text": [
            "  2%|▏         | 3/125 [00:00<00:05, 21.65it/s]"
          ],
          "name": "stderr"
        },
        {
          "output_type": "stream",
          "text": [
            "Validation Accuracy: 0.06050\n"
          ],
          "name": "stdout"
        },
        {
          "output_type": "stream",
          "text": [
            "100%|██████████| 125/125 [00:05<00:00, 21.23it/s]\n"
          ],
          "name": "stderr"
        },
        {
          "output_type": "stream",
          "text": [
            "Iter 27, Loss= 3.330513, Training Accuracy= 0.09375\n",
            "Optimization Finished!\n"
          ],
          "name": "stdout"
        },
        {
          "output_type": "stream",
          "text": [
            "  2%|▏         | 3/125 [00:00<00:05, 21.48it/s]"
          ],
          "name": "stderr"
        },
        {
          "output_type": "stream",
          "text": [
            "Validation Accuracy: 0.06050\n"
          ],
          "name": "stdout"
        },
        {
          "output_type": "stream",
          "text": [
            "100%|██████████| 125/125 [00:05<00:00, 21.30it/s]\n"
          ],
          "name": "stderr"
        },
        {
          "output_type": "stream",
          "text": [
            "Iter 28, Loss= 3.330246, Training Accuracy= 0.09375\n",
            "Optimization Finished!\n"
          ],
          "name": "stdout"
        },
        {
          "output_type": "stream",
          "text": [
            "  2%|▏         | 3/125 [00:00<00:05, 21.34it/s]"
          ],
          "name": "stderr"
        },
        {
          "output_type": "stream",
          "text": [
            "Validation Accuracy: 0.06050\n"
          ],
          "name": "stdout"
        },
        {
          "output_type": "stream",
          "text": [
            "100%|██████████| 125/125 [00:05<00:00, 21.13it/s]\n"
          ],
          "name": "stderr"
        },
        {
          "output_type": "stream",
          "text": [
            "Iter 29, Loss= 3.332100, Training Accuracy= 0.09375\n",
            "Optimization Finished!\n"
          ],
          "name": "stdout"
        },
        {
          "output_type": "stream",
          "text": [
            "  2%|▏         | 3/125 [00:00<00:05, 21.44it/s]"
          ],
          "name": "stderr"
        },
        {
          "output_type": "stream",
          "text": [
            "Validation Accuracy: 0.06050\n"
          ],
          "name": "stdout"
        },
        {
          "output_type": "stream",
          "text": [
            "100%|██████████| 125/125 [00:05<00:00, 20.96it/s]\n"
          ],
          "name": "stderr"
        },
        {
          "output_type": "stream",
          "text": [
            "Iter 30, Loss= 3.331630, Training Accuracy= 0.09375\n",
            "Optimization Finished!\n"
          ],
          "name": "stdout"
        },
        {
          "output_type": "stream",
          "text": [
            "  2%|▏         | 3/125 [00:00<00:05, 21.27it/s]"
          ],
          "name": "stderr"
        },
        {
          "output_type": "stream",
          "text": [
            "Validation Accuracy: 0.06050\n"
          ],
          "name": "stdout"
        },
        {
          "output_type": "stream",
          "text": [
            "100%|██████████| 125/125 [00:05<00:00, 21.24it/s]\n"
          ],
          "name": "stderr"
        },
        {
          "output_type": "stream",
          "text": [
            "Iter 31, Loss= 3.333010, Training Accuracy= 0.09375\n",
            "Optimization Finished!\n"
          ],
          "name": "stdout"
        },
        {
          "output_type": "stream",
          "text": [
            "  2%|▏         | 3/125 [00:00<00:05, 21.60it/s]"
          ],
          "name": "stderr"
        },
        {
          "output_type": "stream",
          "text": [
            "Validation Accuracy: 0.06050\n"
          ],
          "name": "stdout"
        },
        {
          "output_type": "stream",
          "text": [
            "100%|██████████| 125/125 [00:05<00:00, 21.27it/s]\n"
          ],
          "name": "stderr"
        },
        {
          "output_type": "stream",
          "text": [
            "Iter 32, Loss= 3.332501, Training Accuracy= 0.09375\n",
            "Optimization Finished!\n"
          ],
          "name": "stdout"
        },
        {
          "output_type": "stream",
          "text": [
            "  2%|▏         | 3/125 [00:00<00:05, 21.56it/s]"
          ],
          "name": "stderr"
        },
        {
          "output_type": "stream",
          "text": [
            "Validation Accuracy: 0.06050\n"
          ],
          "name": "stdout"
        },
        {
          "output_type": "stream",
          "text": [
            "100%|██████████| 125/125 [00:05<00:00, 21.22it/s]\n"
          ],
          "name": "stderr"
        },
        {
          "output_type": "stream",
          "text": [
            "Iter 33, Loss= 3.332068, Training Accuracy= 0.09375\n",
            "Optimization Finished!\n"
          ],
          "name": "stdout"
        },
        {
          "output_type": "stream",
          "text": [
            "  2%|▏         | 3/125 [00:00<00:05, 21.12it/s]"
          ],
          "name": "stderr"
        },
        {
          "output_type": "stream",
          "text": [
            "Validation Accuracy: 0.06050\n"
          ],
          "name": "stdout"
        },
        {
          "output_type": "stream",
          "text": [
            "100%|██████████| 125/125 [00:05<00:00, 21.25it/s]\n"
          ],
          "name": "stderr"
        },
        {
          "output_type": "stream",
          "text": [
            "Iter 34, Loss= 3.332268, Training Accuracy= 0.09375\n",
            "Optimization Finished!\n"
          ],
          "name": "stdout"
        },
        {
          "output_type": "stream",
          "text": [
            "  2%|▏         | 3/125 [00:00<00:05, 21.23it/s]"
          ],
          "name": "stderr"
        },
        {
          "output_type": "stream",
          "text": [
            "Validation Accuracy: 0.06050\n"
          ],
          "name": "stdout"
        },
        {
          "output_type": "stream",
          "text": [
            "100%|██████████| 125/125 [00:05<00:00, 21.09it/s]\n"
          ],
          "name": "stderr"
        },
        {
          "output_type": "stream",
          "text": [
            "Iter 35, Loss= 3.331913, Training Accuracy= 0.09375\n",
            "Optimization Finished!\n"
          ],
          "name": "stdout"
        },
        {
          "output_type": "stream",
          "text": [
            "  2%|▏         | 3/125 [00:00<00:05, 21.84it/s]"
          ],
          "name": "stderr"
        },
        {
          "output_type": "stream",
          "text": [
            "Validation Accuracy: 0.06050\n"
          ],
          "name": "stdout"
        },
        {
          "output_type": "stream",
          "text": [
            "100%|██████████| 125/125 [00:05<00:00, 21.40it/s]\n"
          ],
          "name": "stderr"
        },
        {
          "output_type": "stream",
          "text": [
            "Iter 36, Loss= 3.333271, Training Accuracy= 0.09375\n",
            "Optimization Finished!\n"
          ],
          "name": "stdout"
        },
        {
          "output_type": "stream",
          "text": [
            "  2%|▏         | 3/125 [00:00<00:05, 22.07it/s]"
          ],
          "name": "stderr"
        },
        {
          "output_type": "stream",
          "text": [
            "Validation Accuracy: 0.06050\n"
          ],
          "name": "stdout"
        },
        {
          "output_type": "stream",
          "text": [
            "100%|██████████| 125/125 [00:05<00:00, 21.03it/s]\n"
          ],
          "name": "stderr"
        },
        {
          "output_type": "stream",
          "text": [
            "Iter 37, Loss= 3.331804, Training Accuracy= 0.09375\n",
            "Optimization Finished!\n"
          ],
          "name": "stdout"
        },
        {
          "output_type": "stream",
          "text": [
            "  2%|▏         | 3/125 [00:00<00:05, 21.34it/s]"
          ],
          "name": "stderr"
        },
        {
          "output_type": "stream",
          "text": [
            "Validation Accuracy: 0.06050\n"
          ],
          "name": "stdout"
        },
        {
          "output_type": "stream",
          "text": [
            "100%|██████████| 125/125 [00:05<00:00, 21.11it/s]\n"
          ],
          "name": "stderr"
        },
        {
          "output_type": "stream",
          "text": [
            "Iter 38, Loss= 3.332783, Training Accuracy= 0.09375\n",
            "Optimization Finished!\n"
          ],
          "name": "stdout"
        },
        {
          "output_type": "stream",
          "text": [
            "  2%|▏         | 3/125 [00:00<00:05, 21.60it/s]"
          ],
          "name": "stderr"
        },
        {
          "output_type": "stream",
          "text": [
            "Validation Accuracy: 0.06050\n"
          ],
          "name": "stdout"
        },
        {
          "output_type": "stream",
          "text": [
            "100%|██████████| 125/125 [00:05<00:00, 21.29it/s]\n"
          ],
          "name": "stderr"
        },
        {
          "output_type": "stream",
          "text": [
            "Iter 39, Loss= 3.331092, Training Accuracy= 0.09375\n",
            "Optimization Finished!\n"
          ],
          "name": "stdout"
        },
        {
          "output_type": "stream",
          "text": [
            "  2%|▏         | 3/125 [00:00<00:05, 22.05it/s]"
          ],
          "name": "stderr"
        },
        {
          "output_type": "stream",
          "text": [
            "Validation Accuracy: 0.06050\n"
          ],
          "name": "stdout"
        },
        {
          "output_type": "stream",
          "text": [
            "100%|██████████| 125/125 [00:05<00:00, 21.27it/s]\n"
          ],
          "name": "stderr"
        },
        {
          "output_type": "stream",
          "text": [
            "Iter 40, Loss= 3.333204, Training Accuracy= 0.09375\n",
            "Optimization Finished!\n"
          ],
          "name": "stdout"
        },
        {
          "output_type": "stream",
          "text": [
            "  2%|▏         | 3/125 [00:00<00:05, 21.49it/s]"
          ],
          "name": "stderr"
        },
        {
          "output_type": "stream",
          "text": [
            "Validation Accuracy: 0.06050\n"
          ],
          "name": "stdout"
        },
        {
          "output_type": "stream",
          "text": [
            "100%|██████████| 125/125 [00:05<00:00, 21.24it/s]\n"
          ],
          "name": "stderr"
        },
        {
          "output_type": "stream",
          "text": [
            "Iter 41, Loss= 3.333224, Training Accuracy= 0.09375\n",
            "Optimization Finished!\n"
          ],
          "name": "stdout"
        },
        {
          "output_type": "stream",
          "text": [
            "  2%|▏         | 3/125 [00:00<00:05, 21.69it/s]"
          ],
          "name": "stderr"
        },
        {
          "output_type": "stream",
          "text": [
            "Validation Accuracy: 0.06050\n"
          ],
          "name": "stdout"
        },
        {
          "output_type": "stream",
          "text": [
            "100%|██████████| 125/125 [00:05<00:00, 21.22it/s]\n"
          ],
          "name": "stderr"
        },
        {
          "output_type": "stream",
          "text": [
            "Iter 42, Loss= 3.333557, Training Accuracy= 0.09375\n",
            "Optimization Finished!\n"
          ],
          "name": "stdout"
        },
        {
          "output_type": "stream",
          "text": [
            "  2%|▏         | 3/125 [00:00<00:05, 21.39it/s]"
          ],
          "name": "stderr"
        },
        {
          "output_type": "stream",
          "text": [
            "Validation Accuracy: 0.06050\n"
          ],
          "name": "stdout"
        },
        {
          "output_type": "stream",
          "text": [
            "100%|██████████| 125/125 [00:05<00:00, 21.00it/s]\n"
          ],
          "name": "stderr"
        },
        {
          "output_type": "stream",
          "text": [
            "Iter 43, Loss= 3.332692, Training Accuracy= 0.09375\n",
            "Optimization Finished!\n"
          ],
          "name": "stdout"
        },
        {
          "output_type": "stream",
          "text": [
            "  2%|▏         | 3/125 [00:00<00:05, 21.30it/s]"
          ],
          "name": "stderr"
        },
        {
          "output_type": "stream",
          "text": [
            "Validation Accuracy: 0.06050\n"
          ],
          "name": "stdout"
        },
        {
          "output_type": "stream",
          "text": [
            "100%|██████████| 125/125 [00:05<00:00, 21.09it/s]\n"
          ],
          "name": "stderr"
        },
        {
          "output_type": "stream",
          "text": [
            "Iter 44, Loss= 3.332510, Training Accuracy= 0.09375\n",
            "Optimization Finished!\n"
          ],
          "name": "stdout"
        },
        {
          "output_type": "stream",
          "text": [
            "  2%|▏         | 3/125 [00:00<00:05, 21.36it/s]"
          ],
          "name": "stderr"
        },
        {
          "output_type": "stream",
          "text": [
            "Validation Accuracy: 0.06050\n"
          ],
          "name": "stdout"
        },
        {
          "output_type": "stream",
          "text": [
            "100%|██████████| 125/125 [00:05<00:00, 21.12it/s]\n"
          ],
          "name": "stderr"
        },
        {
          "output_type": "stream",
          "text": [
            "Iter 45, Loss= 3.332468, Training Accuracy= 0.09375\n",
            "Optimization Finished!\n"
          ],
          "name": "stdout"
        },
        {
          "output_type": "stream",
          "text": [
            "  2%|▏         | 3/125 [00:00<00:05, 22.04it/s]"
          ],
          "name": "stderr"
        },
        {
          "output_type": "stream",
          "text": [
            "Validation Accuracy: 0.06050\n"
          ],
          "name": "stdout"
        },
        {
          "output_type": "stream",
          "text": [
            "100%|██████████| 125/125 [00:05<00:00, 21.28it/s]\n"
          ],
          "name": "stderr"
        },
        {
          "output_type": "stream",
          "text": [
            "Iter 46, Loss= 3.332485, Training Accuracy= 0.09375\n",
            "Optimization Finished!\n"
          ],
          "name": "stdout"
        },
        {
          "output_type": "stream",
          "text": [
            "  2%|▏         | 3/125 [00:00<00:05, 21.68it/s]"
          ],
          "name": "stderr"
        },
        {
          "output_type": "stream",
          "text": [
            "Validation Accuracy: 0.06050\n"
          ],
          "name": "stdout"
        },
        {
          "output_type": "stream",
          "text": [
            "100%|██████████| 125/125 [00:05<00:00, 21.36it/s]\n"
          ],
          "name": "stderr"
        },
        {
          "output_type": "stream",
          "text": [
            "Iter 47, Loss= 3.332351, Training Accuracy= 0.09375\n",
            "Optimization Finished!\n"
          ],
          "name": "stdout"
        },
        {
          "output_type": "stream",
          "text": [
            "  2%|▏         | 3/125 [00:00<00:05, 21.82it/s]"
          ],
          "name": "stderr"
        },
        {
          "output_type": "stream",
          "text": [
            "Validation Accuracy: 0.06050\n"
          ],
          "name": "stdout"
        },
        {
          "output_type": "stream",
          "text": [
            "100%|██████████| 125/125 [00:05<00:00, 21.18it/s]\n"
          ],
          "name": "stderr"
        },
        {
          "output_type": "stream",
          "text": [
            "Iter 48, Loss= 3.332529, Training Accuracy= 0.09375\n",
            "Optimization Finished!\n"
          ],
          "name": "stdout"
        },
        {
          "output_type": "stream",
          "text": [
            "  2%|▏         | 3/125 [00:00<00:05, 21.78it/s]"
          ],
          "name": "stderr"
        },
        {
          "output_type": "stream",
          "text": [
            "Validation Accuracy: 0.06050\n"
          ],
          "name": "stdout"
        },
        {
          "output_type": "stream",
          "text": [
            "100%|██████████| 125/125 [00:05<00:00, 21.34it/s]\n"
          ],
          "name": "stderr"
        },
        {
          "output_type": "stream",
          "text": [
            "Iter 49, Loss= 3.332861, Training Accuracy= 0.09375\n",
            "Optimization Finished!\n"
          ],
          "name": "stdout"
        },
        {
          "output_type": "stream",
          "text": [
            "  2%|▏         | 3/125 [00:00<00:05, 21.22it/s]"
          ],
          "name": "stderr"
        },
        {
          "output_type": "stream",
          "text": [
            "Validation Accuracy: 0.06050\n"
          ],
          "name": "stdout"
        },
        {
          "output_type": "stream",
          "text": [
            "100%|██████████| 125/125 [00:05<00:00, 21.33it/s]\n"
          ],
          "name": "stderr"
        },
        {
          "output_type": "stream",
          "text": [
            "Iter 50, Loss= 3.331651, Training Accuracy= 0.09375\n",
            "Optimization Finished!\n"
          ],
          "name": "stdout"
        },
        {
          "output_type": "stream",
          "text": [
            "  2%|▏         | 3/125 [00:00<00:05, 22.23it/s]"
          ],
          "name": "stderr"
        },
        {
          "output_type": "stream",
          "text": [
            "Validation Accuracy: 0.06050\n"
          ],
          "name": "stdout"
        },
        {
          "output_type": "stream",
          "text": [
            "100%|██████████| 125/125 [00:05<00:00, 21.32it/s]\n"
          ],
          "name": "stderr"
        },
        {
          "output_type": "stream",
          "text": [
            "Iter 51, Loss= 3.332963, Training Accuracy= 0.09375\n",
            "Optimization Finished!\n"
          ],
          "name": "stdout"
        },
        {
          "output_type": "stream",
          "text": [
            "  2%|▏         | 3/125 [00:00<00:05, 20.96it/s]"
          ],
          "name": "stderr"
        },
        {
          "output_type": "stream",
          "text": [
            "Validation Accuracy: 0.06050\n"
          ],
          "name": "stdout"
        },
        {
          "output_type": "stream",
          "text": [
            "100%|██████████| 125/125 [00:05<00:00, 21.48it/s]\n"
          ],
          "name": "stderr"
        },
        {
          "output_type": "stream",
          "text": [
            "Iter 52, Loss= 3.332659, Training Accuracy= 0.09375\n",
            "Optimization Finished!\n"
          ],
          "name": "stdout"
        },
        {
          "output_type": "stream",
          "text": [
            "  2%|▏         | 3/125 [00:00<00:05, 21.62it/s]"
          ],
          "name": "stderr"
        },
        {
          "output_type": "stream",
          "text": [
            "Validation Accuracy: 0.06050\n"
          ],
          "name": "stdout"
        },
        {
          "output_type": "stream",
          "text": [
            "100%|██████████| 125/125 [00:05<00:00, 21.21it/s]\n"
          ],
          "name": "stderr"
        },
        {
          "output_type": "stream",
          "text": [
            "Iter 53, Loss= 3.332423, Training Accuracy= 0.09375\n",
            "Optimization Finished!\n"
          ],
          "name": "stdout"
        },
        {
          "output_type": "stream",
          "text": [
            "  2%|▏         | 3/125 [00:00<00:06, 20.03it/s]"
          ],
          "name": "stderr"
        },
        {
          "output_type": "stream",
          "text": [
            "Validation Accuracy: 0.06050\n"
          ],
          "name": "stdout"
        },
        {
          "output_type": "stream",
          "text": [
            "100%|██████████| 125/125 [00:05<00:00, 21.43it/s]\n"
          ],
          "name": "stderr"
        },
        {
          "output_type": "stream",
          "text": [
            "Iter 54, Loss= 3.332478, Training Accuracy= 0.09375\n",
            "Optimization Finished!\n"
          ],
          "name": "stdout"
        },
        {
          "output_type": "stream",
          "text": [
            "  2%|▏         | 3/125 [00:00<00:05, 21.68it/s]"
          ],
          "name": "stderr"
        },
        {
          "output_type": "stream",
          "text": [
            "Validation Accuracy: 0.06050\n"
          ],
          "name": "stdout"
        },
        {
          "output_type": "stream",
          "text": [
            "100%|██████████| 125/125 [00:05<00:00, 21.12it/s]\n"
          ],
          "name": "stderr"
        },
        {
          "output_type": "stream",
          "text": [
            "Iter 55, Loss= 3.332401, Training Accuracy= 0.09375\n",
            "Optimization Finished!\n"
          ],
          "name": "stdout"
        },
        {
          "output_type": "stream",
          "text": [
            "  2%|▏         | 3/125 [00:00<00:05, 21.65it/s]"
          ],
          "name": "stderr"
        },
        {
          "output_type": "stream",
          "text": [
            "Validation Accuracy: 0.06050\n"
          ],
          "name": "stdout"
        },
        {
          "output_type": "stream",
          "text": [
            "100%|██████████| 125/125 [00:05<00:00, 20.92it/s]\n"
          ],
          "name": "stderr"
        },
        {
          "output_type": "stream",
          "text": [
            "Iter 56, Loss= 3.332309, Training Accuracy= 0.09375\n",
            "Optimization Finished!\n"
          ],
          "name": "stdout"
        },
        {
          "output_type": "stream",
          "text": [
            "  2%|▏         | 3/125 [00:00<00:05, 20.99it/s]"
          ],
          "name": "stderr"
        },
        {
          "output_type": "stream",
          "text": [
            "Validation Accuracy: 0.06050\n"
          ],
          "name": "stdout"
        },
        {
          "output_type": "stream",
          "text": [
            "100%|██████████| 125/125 [00:05<00:00, 20.89it/s]\n"
          ],
          "name": "stderr"
        },
        {
          "output_type": "stream",
          "text": [
            "Iter 57, Loss= 3.332432, Training Accuracy= 0.09375\n",
            "Optimization Finished!\n"
          ],
          "name": "stdout"
        },
        {
          "output_type": "stream",
          "text": [
            "  2%|▏         | 3/125 [00:00<00:05, 21.90it/s]"
          ],
          "name": "stderr"
        },
        {
          "output_type": "stream",
          "text": [
            "Validation Accuracy: 0.06050\n"
          ],
          "name": "stdout"
        },
        {
          "output_type": "stream",
          "text": [
            "100%|██████████| 125/125 [00:05<00:00, 21.29it/s]\n"
          ],
          "name": "stderr"
        },
        {
          "output_type": "stream",
          "text": [
            "Iter 58, Loss= 3.332370, Training Accuracy= 0.09375\n",
            "Optimization Finished!\n"
          ],
          "name": "stdout"
        },
        {
          "output_type": "stream",
          "text": [
            "  2%|▏         | 3/125 [00:00<00:05, 21.21it/s]"
          ],
          "name": "stderr"
        },
        {
          "output_type": "stream",
          "text": [
            "Validation Accuracy: 0.06050\n"
          ],
          "name": "stdout"
        },
        {
          "output_type": "stream",
          "text": [
            "100%|██████████| 125/125 [00:05<00:00, 21.33it/s]\n"
          ],
          "name": "stderr"
        },
        {
          "output_type": "stream",
          "text": [
            "Iter 59, Loss= 3.332281, Training Accuracy= 0.09375\n",
            "Optimization Finished!\n"
          ],
          "name": "stdout"
        },
        {
          "output_type": "stream",
          "text": [
            "  2%|▏         | 3/125 [00:00<00:05, 21.81it/s]"
          ],
          "name": "stderr"
        },
        {
          "output_type": "stream",
          "text": [
            "Validation Accuracy: 0.06050\n"
          ],
          "name": "stdout"
        },
        {
          "output_type": "stream",
          "text": [
            "100%|██████████| 125/125 [00:05<00:00, 21.00it/s]\n"
          ],
          "name": "stderr"
        },
        {
          "output_type": "stream",
          "text": [
            "Iter 60, Loss= 3.332414, Training Accuracy= 0.09375\n",
            "Optimization Finished!\n"
          ],
          "name": "stdout"
        },
        {
          "output_type": "stream",
          "text": [
            "  2%|▏         | 3/125 [00:00<00:05, 21.14it/s]"
          ],
          "name": "stderr"
        },
        {
          "output_type": "stream",
          "text": [
            "Validation Accuracy: 0.06050\n"
          ],
          "name": "stdout"
        },
        {
          "output_type": "stream",
          "text": [
            "100%|██████████| 125/125 [00:05<00:00, 21.31it/s]\n"
          ],
          "name": "stderr"
        },
        {
          "output_type": "stream",
          "text": [
            "Iter 61, Loss= 3.332325, Training Accuracy= 0.09375\n",
            "Optimization Finished!\n"
          ],
          "name": "stdout"
        },
        {
          "output_type": "stream",
          "text": [
            "  2%|▏         | 3/125 [00:00<00:05, 21.86it/s]"
          ],
          "name": "stderr"
        },
        {
          "output_type": "stream",
          "text": [
            "Validation Accuracy: 0.06050\n"
          ],
          "name": "stdout"
        },
        {
          "output_type": "stream",
          "text": [
            "100%|██████████| 125/125 [00:05<00:00, 21.20it/s]\n"
          ],
          "name": "stderr"
        },
        {
          "output_type": "stream",
          "text": [
            "Iter 62, Loss= 3.332289, Training Accuracy= 0.09375\n",
            "Optimization Finished!\n"
          ],
          "name": "stdout"
        },
        {
          "output_type": "stream",
          "text": [
            "  2%|▏         | 3/125 [00:00<00:05, 21.02it/s]"
          ],
          "name": "stderr"
        },
        {
          "output_type": "stream",
          "text": [
            "Validation Accuracy: 0.06050\n"
          ],
          "name": "stdout"
        },
        {
          "output_type": "stream",
          "text": [
            "100%|██████████| 125/125 [00:05<00:00, 21.19it/s]\n"
          ],
          "name": "stderr"
        },
        {
          "output_type": "stream",
          "text": [
            "Iter 63, Loss= 3.332317, Training Accuracy= 0.09375\n",
            "Optimization Finished!\n"
          ],
          "name": "stdout"
        },
        {
          "output_type": "stream",
          "text": [
            "  2%|▏         | 3/125 [00:00<00:05, 20.87it/s]"
          ],
          "name": "stderr"
        },
        {
          "output_type": "stream",
          "text": [
            "Validation Accuracy: 0.06050\n"
          ],
          "name": "stdout"
        },
        {
          "output_type": "stream",
          "text": [
            "100%|██████████| 125/125 [00:05<00:00, 21.07it/s]\n"
          ],
          "name": "stderr"
        },
        {
          "output_type": "stream",
          "text": [
            "Iter 64, Loss= 3.332422, Training Accuracy= 0.09375\n",
            "Optimization Finished!\n"
          ],
          "name": "stdout"
        },
        {
          "output_type": "stream",
          "text": [
            "  2%|▏         | 3/125 [00:00<00:05, 21.34it/s]"
          ],
          "name": "stderr"
        },
        {
          "output_type": "stream",
          "text": [
            "Validation Accuracy: 0.06050\n"
          ],
          "name": "stdout"
        },
        {
          "output_type": "stream",
          "text": [
            "100%|██████████| 125/125 [00:05<00:00, 21.22it/s]\n"
          ],
          "name": "stderr"
        },
        {
          "output_type": "stream",
          "text": [
            "Iter 65, Loss= 3.332275, Training Accuracy= 0.09375\n",
            "Optimization Finished!\n"
          ],
          "name": "stdout"
        },
        {
          "output_type": "stream",
          "text": [
            "  2%|▏         | 3/125 [00:00<00:05, 21.65it/s]"
          ],
          "name": "stderr"
        },
        {
          "output_type": "stream",
          "text": [
            "Validation Accuracy: 0.06050\n"
          ],
          "name": "stdout"
        },
        {
          "output_type": "stream",
          "text": [
            "100%|██████████| 125/125 [00:05<00:00, 21.22it/s]\n"
          ],
          "name": "stderr"
        },
        {
          "output_type": "stream",
          "text": [
            "Iter 66, Loss= 3.331126, Training Accuracy= 0.09375\n",
            "Optimization Finished!\n"
          ],
          "name": "stdout"
        },
        {
          "output_type": "stream",
          "text": [
            "  2%|▏         | 3/125 [00:00<00:05, 21.36it/s]"
          ],
          "name": "stderr"
        },
        {
          "output_type": "stream",
          "text": [
            "Validation Accuracy: 0.06050\n"
          ],
          "name": "stdout"
        },
        {
          "output_type": "stream",
          "text": [
            "100%|██████████| 125/125 [00:05<00:00, 20.94it/s]\n"
          ],
          "name": "stderr"
        },
        {
          "output_type": "stream",
          "text": [
            "Iter 67, Loss= 3.332619, Training Accuracy= 0.09375\n",
            "Optimization Finished!\n"
          ],
          "name": "stdout"
        },
        {
          "output_type": "stream",
          "text": [
            "  2%|▏         | 3/125 [00:00<00:05, 21.67it/s]"
          ],
          "name": "stderr"
        },
        {
          "output_type": "stream",
          "text": [
            "Validation Accuracy: 0.06050\n"
          ],
          "name": "stdout"
        },
        {
          "output_type": "stream",
          "text": [
            "100%|██████████| 125/125 [00:05<00:00, 21.55it/s]\n"
          ],
          "name": "stderr"
        },
        {
          "output_type": "stream",
          "text": [
            "Iter 68, Loss= 3.332315, Training Accuracy= 0.09375\n",
            "Optimization Finished!\n"
          ],
          "name": "stdout"
        },
        {
          "output_type": "stream",
          "text": [
            "  2%|▏         | 3/125 [00:00<00:05, 21.36it/s]"
          ],
          "name": "stderr"
        },
        {
          "output_type": "stream",
          "text": [
            "Validation Accuracy: 0.06050\n"
          ],
          "name": "stdout"
        },
        {
          "output_type": "stream",
          "text": [
            "100%|██████████| 125/125 [00:05<00:00, 21.31it/s]\n"
          ],
          "name": "stderr"
        },
        {
          "output_type": "stream",
          "text": [
            "Iter 69, Loss= 3.332159, Training Accuracy= 0.09375\n",
            "Optimization Finished!\n"
          ],
          "name": "stdout"
        },
        {
          "output_type": "stream",
          "text": [
            "  2%|▏         | 3/125 [00:00<00:05, 21.63it/s]"
          ],
          "name": "stderr"
        },
        {
          "output_type": "stream",
          "text": [
            "Validation Accuracy: 0.06050\n"
          ],
          "name": "stdout"
        },
        {
          "output_type": "stream",
          "text": [
            "100%|██████████| 125/125 [00:05<00:00, 21.22it/s]\n"
          ],
          "name": "stderr"
        },
        {
          "output_type": "stream",
          "text": [
            "Iter 70, Loss= 3.332285, Training Accuracy= 0.09375\n",
            "Optimization Finished!\n"
          ],
          "name": "stdout"
        },
        {
          "output_type": "stream",
          "text": [
            "  2%|▏         | 3/125 [00:00<00:05, 20.94it/s]"
          ],
          "name": "stderr"
        },
        {
          "output_type": "stream",
          "text": [
            "Validation Accuracy: 0.06050\n"
          ],
          "name": "stdout"
        },
        {
          "output_type": "stream",
          "text": [
            "100%|██████████| 125/125 [00:05<00:00, 21.09it/s]\n"
          ],
          "name": "stderr"
        },
        {
          "output_type": "stream",
          "text": [
            "Iter 71, Loss= 3.332252, Training Accuracy= 0.09375\n",
            "Optimization Finished!\n"
          ],
          "name": "stdout"
        },
        {
          "output_type": "stream",
          "text": [
            "  2%|▏         | 3/125 [00:00<00:05, 21.47it/s]"
          ],
          "name": "stderr"
        },
        {
          "output_type": "stream",
          "text": [
            "Validation Accuracy: 0.06050\n"
          ],
          "name": "stdout"
        },
        {
          "output_type": "stream",
          "text": [
            "100%|██████████| 125/125 [00:05<00:00, 21.45it/s]\n"
          ],
          "name": "stderr"
        },
        {
          "output_type": "stream",
          "text": [
            "Iter 72, Loss= 3.332215, Training Accuracy= 0.09375\n",
            "Optimization Finished!\n"
          ],
          "name": "stdout"
        },
        {
          "output_type": "stream",
          "text": [
            "  2%|▏         | 3/125 [00:00<00:05, 21.39it/s]"
          ],
          "name": "stderr"
        },
        {
          "output_type": "stream",
          "text": [
            "Validation Accuracy: 0.06050\n"
          ],
          "name": "stdout"
        },
        {
          "output_type": "stream",
          "text": [
            "100%|██████████| 125/125 [00:05<00:00, 21.35it/s]\n"
          ],
          "name": "stderr"
        },
        {
          "output_type": "stream",
          "text": [
            "Iter 73, Loss= 3.332354, Training Accuracy= 0.09375\n",
            "Optimization Finished!\n"
          ],
          "name": "stdout"
        },
        {
          "output_type": "stream",
          "text": [
            "  2%|▏         | 3/125 [00:00<00:05, 21.32it/s]"
          ],
          "name": "stderr"
        },
        {
          "output_type": "stream",
          "text": [
            "Validation Accuracy: 0.06050\n"
          ],
          "name": "stdout"
        },
        {
          "output_type": "stream",
          "text": [
            "100%|██████████| 125/125 [00:05<00:00, 21.33it/s]\n"
          ],
          "name": "stderr"
        },
        {
          "output_type": "stream",
          "text": [
            "Iter 74, Loss= 3.332171, Training Accuracy= 0.09375\n",
            "Optimization Finished!\n"
          ],
          "name": "stdout"
        },
        {
          "output_type": "stream",
          "text": [
            "  2%|▏         | 3/125 [00:00<00:05, 21.99it/s]"
          ],
          "name": "stderr"
        },
        {
          "output_type": "stream",
          "text": [
            "Validation Accuracy: 0.06050\n"
          ],
          "name": "stdout"
        },
        {
          "output_type": "stream",
          "text": [
            "100%|██████████| 125/125 [00:05<00:00, 21.22it/s]\n"
          ],
          "name": "stderr"
        },
        {
          "output_type": "stream",
          "text": [
            "Iter 75, Loss= 3.331018, Training Accuracy= 0.09375\n",
            "Optimization Finished!\n"
          ],
          "name": "stdout"
        },
        {
          "output_type": "stream",
          "text": [
            "  2%|▏         | 3/125 [00:00<00:05, 21.61it/s]"
          ],
          "name": "stderr"
        },
        {
          "output_type": "stream",
          "text": [
            "Validation Accuracy: 0.06050\n"
          ],
          "name": "stdout"
        },
        {
          "output_type": "stream",
          "text": [
            "100%|██████████| 125/125 [00:05<00:00, 21.15it/s]\n"
          ],
          "name": "stderr"
        },
        {
          "output_type": "stream",
          "text": [
            "Iter 76, Loss= 3.332735, Training Accuracy= 0.09375\n",
            "Optimization Finished!\n"
          ],
          "name": "stdout"
        },
        {
          "output_type": "stream",
          "text": [
            "  2%|▏         | 3/125 [00:00<00:05, 21.49it/s]"
          ],
          "name": "stderr"
        },
        {
          "output_type": "stream",
          "text": [
            "Validation Accuracy: 0.06050\n"
          ],
          "name": "stdout"
        },
        {
          "output_type": "stream",
          "text": [
            " 48%|████▊     | 60/125 [00:02<00:03, 21.19it/s]\n"
          ],
          "name": "stderr"
        },
        {
          "output_type": "error",
          "ename": "KeyboardInterrupt",
          "evalue": "ignored",
          "traceback": [
            "\u001b[0;31m---------------------------------------------------------------------------\u001b[0m",
            "\u001b[0;31mKeyboardInterrupt\u001b[0m                         Traceback (most recent call last)",
            "\u001b[0;32m<ipython-input-10-bdac0da50beb>\u001b[0m in \u001b[0;36m<module>\u001b[0;34m()\u001b[0m\n\u001b[1;32m     40\u001b[0m \u001b[0mmerged\u001b[0m \u001b[0;34m=\u001b[0m \u001b[0mtf\u001b[0m\u001b[0;34m.\u001b[0m\u001b[0msummary\u001b[0m\u001b[0;34m.\u001b[0m\u001b[0mmerge_all\u001b[0m\u001b[0;34m(\u001b[0m\u001b[0;34m)\u001b[0m\u001b[0;34m\u001b[0m\u001b[0;34m\u001b[0m\u001b[0m\n\u001b[1;32m     41\u001b[0m \u001b[0;34m\u001b[0m\u001b[0m\n\u001b[0;32m---> 42\u001b[0;31m \u001b[0mrun_session\u001b[0m\u001b[0;34m(\u001b[0m\u001b[0;34m)\u001b[0m\u001b[0;34m\u001b[0m\u001b[0;34m\u001b[0m\u001b[0m\n\u001b[0m",
            "\u001b[0;32m<ipython-input-9-df1f2325150d>\u001b[0m in \u001b[0;36mrun_session\u001b[0;34m()\u001b[0m\n\u001b[1;32m     18\u001b[0m                 \u001b[0;31m# Calculate batch loss and accuracy\u001b[0m\u001b[0;34m\u001b[0m\u001b[0;34m\u001b[0m\u001b[0;34m\u001b[0m\u001b[0m\n\u001b[1;32m     19\u001b[0m             opt = sess.run(optimizer, feed_dict={x: batch_x,\n\u001b[0;32m---> 20\u001b[0;31m                                                               y: batch_y})\n\u001b[0m\u001b[1;32m     21\u001b[0m             summary, loss, acc = sess.run([merged,cost, accuracy], feed_dict={x: batch_x,\n\u001b[1;32m     22\u001b[0m                                                               y: batch_y})\n",
            "\u001b[0;32m/usr/local/lib/python3.6/dist-packages/tensorflow/python/client/session.py\u001b[0m in \u001b[0;36mrun\u001b[0;34m(self, fetches, feed_dict, options, run_metadata)\u001b[0m\n\u001b[1;32m    927\u001b[0m     \u001b[0;32mtry\u001b[0m\u001b[0;34m:\u001b[0m\u001b[0;34m\u001b[0m\u001b[0;34m\u001b[0m\u001b[0m\n\u001b[1;32m    928\u001b[0m       result = self._run(None, fetches, feed_dict, options_ptr,\n\u001b[0;32m--> 929\u001b[0;31m                          run_metadata_ptr)\n\u001b[0m\u001b[1;32m    930\u001b[0m       \u001b[0;32mif\u001b[0m \u001b[0mrun_metadata\u001b[0m\u001b[0;34m:\u001b[0m\u001b[0;34m\u001b[0m\u001b[0;34m\u001b[0m\u001b[0m\n\u001b[1;32m    931\u001b[0m         \u001b[0mproto_data\u001b[0m \u001b[0;34m=\u001b[0m \u001b[0mtf_session\u001b[0m\u001b[0;34m.\u001b[0m\u001b[0mTF_GetBuffer\u001b[0m\u001b[0;34m(\u001b[0m\u001b[0mrun_metadata_ptr\u001b[0m\u001b[0;34m)\u001b[0m\u001b[0;34m\u001b[0m\u001b[0;34m\u001b[0m\u001b[0m\n",
            "\u001b[0;32m/usr/local/lib/python3.6/dist-packages/tensorflow/python/client/session.py\u001b[0m in \u001b[0;36m_run\u001b[0;34m(self, handle, fetches, feed_dict, options, run_metadata)\u001b[0m\n\u001b[1;32m   1119\u001b[0m             \u001b[0mfeed_handles\u001b[0m\u001b[0;34m[\u001b[0m\u001b[0msubfeed_t\u001b[0m\u001b[0;34m]\u001b[0m \u001b[0;34m=\u001b[0m \u001b[0msubfeed_val\u001b[0m\u001b[0;34m\u001b[0m\u001b[0;34m\u001b[0m\u001b[0m\n\u001b[1;32m   1120\u001b[0m           \u001b[0;32melse\u001b[0m\u001b[0;34m:\u001b[0m\u001b[0;34m\u001b[0m\u001b[0;34m\u001b[0m\u001b[0m\n\u001b[0;32m-> 1121\u001b[0;31m             \u001b[0mnp_val\u001b[0m \u001b[0;34m=\u001b[0m \u001b[0mnp\u001b[0m\u001b[0;34m.\u001b[0m\u001b[0masarray\u001b[0m\u001b[0;34m(\u001b[0m\u001b[0msubfeed_val\u001b[0m\u001b[0;34m,\u001b[0m \u001b[0mdtype\u001b[0m\u001b[0;34m=\u001b[0m\u001b[0msubfeed_dtype\u001b[0m\u001b[0;34m)\u001b[0m\u001b[0;34m\u001b[0m\u001b[0;34m\u001b[0m\u001b[0m\n\u001b[0m\u001b[1;32m   1122\u001b[0m \u001b[0;34m\u001b[0m\u001b[0m\n\u001b[1;32m   1123\u001b[0m           if (not is_tensor_handle_feed and\n",
            "\u001b[0;32m/usr/local/lib/python3.6/dist-packages/numpy/core/numeric.py\u001b[0m in \u001b[0;36masarray\u001b[0;34m(a, dtype, order)\u001b[0m\n\u001b[1;32m    490\u001b[0m \u001b[0;34m\u001b[0m\u001b[0m\n\u001b[1;32m    491\u001b[0m     \"\"\"\n\u001b[0;32m--> 492\u001b[0;31m     \u001b[0;32mreturn\u001b[0m \u001b[0marray\u001b[0m\u001b[0;34m(\u001b[0m\u001b[0ma\u001b[0m\u001b[0;34m,\u001b[0m \u001b[0mdtype\u001b[0m\u001b[0;34m,\u001b[0m \u001b[0mcopy\u001b[0m\u001b[0;34m=\u001b[0m\u001b[0;32mFalse\u001b[0m\u001b[0;34m,\u001b[0m \u001b[0morder\u001b[0m\u001b[0;34m=\u001b[0m\u001b[0morder\u001b[0m\u001b[0;34m)\u001b[0m\u001b[0;34m\u001b[0m\u001b[0;34m\u001b[0m\u001b[0m\n\u001b[0m\u001b[1;32m    493\u001b[0m \u001b[0;34m\u001b[0m\u001b[0m\n\u001b[1;32m    494\u001b[0m \u001b[0;34m\u001b[0m\u001b[0m\n",
            "\u001b[0;31mKeyboardInterrupt\u001b[0m: "
          ]
        }
      ]
    },
    {
      "metadata": {
        "id": "cnJQcobudZmm",
        "colab_type": "code",
        "colab": {}
      },
      "cell_type": "code",
      "source": [
        "den_tr_X, den_tr_y = data_augmentation(train_X.reshape((8000,100,100)),train_y,True)"
      ],
      "execution_count": 0,
      "outputs": []
    },
    {
      "metadata": {
        "id": "ZxKFybFwaULB",
        "colab_type": "code",
        "colab": {}
      },
      "cell_type": "code",
      "source": [
        "plt.figure(figsize=(7,7))\n",
        "plt.imshow(train_X[0].reshape((100,100)),cmap='binary_r')"
      ],
      "execution_count": 0,
      "outputs": []
    },
    {
      "metadata": {
        "id": "dH9lZF5ckaJO",
        "colab_type": "code",
        "colab": {}
      },
      "cell_type": "code",
      "source": [
        "plt.figure(figsize=(7,7))\n",
        "plt.imshow(den_tr_X[8000].reshape((100,100)),cmap='binary_r')"
      ],
      "execution_count": 0,
      "outputs": []
    },
    {
      "metadata": {
        "id": "9mapSsHbwz8K",
        "colab_type": "code",
        "colab": {}
      },
      "cell_type": "code",
      "source": [
        "|def cross_validate(session, split_size=5):\n",
        "  results = []\n",
        "  kf = KFold(n_splits=split_size)\n",
        "  for train_idx, val_idx in kf.split(train_X, train_y):\n",
        "    x_train = train_X[train_idx]\n",
        "    y_train = train_y[train_idx]\n",
        "    val_x = train_X[val_idx]\n",
        "    val_y = train_y[val_idx]\n",
        "    run_train(session, train_X, train_y)\n",
        "    results.append(session.run(accuracy, feed_dict={x: val_x, y: val_y}))\n",
        "  return results"
      ],
      "execution_count": 0,
      "outputs": []
    },
    {
      "metadata": {
        "id": "l8hBixJd6riD",
        "colab_type": "code",
        "colab": {}
      },
      "cell_type": "code",
      "source": [
        "import csv\n",
        "myFile = open('submission-final1.csv', 'w')  \n",
        "with myFile:  \n",
        "    writer = csv.writer(myFile)\n",
        "    writer.writerow(['Id','Category'])\n",
        "    for i in range(len(train_labs[0])):\n",
        "        writer.writerow([i,train_labs[1][predict[0][i]]])"
      ],
      "execution_count": 0,
      "outputs": []
    },
    {
      "metadata": {
        "id": "K9pwHk1oN-gC",
        "colab_type": "code",
        "outputId": "fc8a7fab-63aa-424f-fe55-8eef3fff24ad",
        "colab": {
          "base_uri": "https://localhost:8080/",
          "height": 51
        }
      },
      "cell_type": "code",
      "source": [
        "from sklearn.svm import LinearSVC\n",
        "\n",
        "train_X,train_y,valid_X,valid_y, test_X,train_labels = load_images(True)\n",
        "pca = PCA(n_components=2,whiten=True)\n",
        "train_X = pca.fit_transform(train_X.reshape((8000,10000)))\n",
        "valid_X = pca.transform(valid_X.reshape((2000,10000)))\n",
        "svc = LinearSVC(random_state=0, tol=1e-5)\n",
        "svc.fit(train_X.reshape(8000,2), train_labels['Category'][:8000])\n",
        "z = svc.predict(valid_X.reshape((2000,2)))\n",
        "f1 = z[z == train_labels['Category'][8000:]]\n",
        "len(f1)/len(train_labels['Category'][8000:])"
      ],
      "execution_count": 11,
      "outputs": [
        {
          "output_type": "stream",
          "text": [
            "(8000, 100, 100) (2000, 100, 100) (2000, 31)\n"
          ],
          "name": "stdout"
        },
        {
          "output_type": "execute_result",
          "data": {
            "text/plain": [
              "0.055"
            ]
          },
          "metadata": {
            "tags": []
          },
          "execution_count": 11
        }
      ]
    },
    {
      "metadata": {
        "id": "TS9qvJKpupFt",
        "colab_type": "code",
        "colab": {
          "base_uri": "https://localhost:8080/",
          "height": 626
        },
        "outputId": "81b57569-88e5-4d35-a46d-f2003a3f433d"
      },
      "cell_type": "code",
      "source": [
        "y = pd.factorize(train_labels.iloc[:8000,1])[0].astype(np.uint16)\n",
        "plt.figure(figsize=(10,10))\n",
        "plt.scatter(train_X[:,0],train_X[:,1],c=y,cmap='viridis')\n",
        "plt.legend()"
      ],
      "execution_count": 12,
      "outputs": [
        {
          "output_type": "stream",
          "text": [
            "No handles with labels found to put in legend.\n"
          ],
          "name": "stderr"
        },
        {
          "output_type": "execute_result",
          "data": {
            "text/plain": [
              "<matplotlib.legend.Legend at 0x7fb814425390>"
            ]
          },
          "metadata": {
            "tags": []
          },
          "execution_count": 12
        },
        {
          "output_type": "display_data",
          "data": {
            "image/png": "[encoded data removed]",
            "text/plain": [
              "<matplotlib.figure.Figure at 0x7fb814941780>"
            ]
          },
          "metadata": {
            "tags": []
          }
        }
      ]
    },
    {
      "metadata": {
        "id": "T45hA3Y75gb8",
        "colab_type": "code",
        "colab": {
          "base_uri": "https://localhost:8080/",
          "height": 34
        },
        "outputId": "aff6b22b-ca73-448b-99cc-afa668886fa7"
      },
      "cell_type": "code",
      "source": [
        "np.min(y)"
      ],
      "execution_count": 17,
      "outputs": [
        {
          "output_type": "execute_result",
          "data": {
            "text/plain": [
              "0"
            ]
          },
          "metadata": {
            "tags": []
          },
          "execution_count": 17
        }
      ]
    },
    {
      "metadata": {
        "id": "_O0ejUgwI49N",
        "colab_type": "code",
        "colab": {}
      },
      "cell_type": "code",
      "source": [
        ""
      ],
      "execution_count": 0,
      "outputs": []
    }
  ]
}